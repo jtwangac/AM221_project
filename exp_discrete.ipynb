{
 "cells": [
  {
   "cell_type": "code",
   "execution_count": 1,
   "metadata": {
    "collapsed": true
   },
   "outputs": [],
   "source": [
    "import numpy as np\n",
    "from sklearn import linear_model\n",
    "import pickle\n",
    "import matplotlib.pyplot as plt\n",
    "import itertools"
   ]
  },
  {
   "cell_type": "markdown",
   "metadata": {},
   "source": [
    "### Experiments(Discrete Features)\n",
    "\n",
    "X_1,X_2 are related dependent variables"
   ]
  },
  {
   "cell_type": "markdown",
   "metadata": {},
   "source": [
    "#### Submodularity Test\n",
    "$f(X \\cup \\{x\\})-f(X)\\geq f(Y \\cup \\{x\\})-f(Y)\\quad \\text{if } X\\subseteq Y\\quad x\\in \\Omega \\setminus Y$"
   ]
  },
  {
   "cell_type": "code",
   "execution_count": 2,
   "metadata": {
    "collapsed": true
   },
   "outputs": [],
   "source": [
    "# fit linear regression with given features \n",
    "def lr(features,train_X,train_y,test_X,test_y):\n",
    "    features = np.array(list(features))\n",
    "    n_feature =len(features)\n",
    "    train_err = 0.0\n",
    "    test_err = 0.0\n",
    "    train_vector =np.sum(train_X[:,features]* np.array([2**i for i in range(n_feature)]),axis=1)\n",
    "    test_vector =np.sum(test_X[:,features]* np.array([2**i for i in range(n_feature)]),axis=1)\n",
    "    for v in range(2**n_feature):\n",
    "        train_idx = np.where(train_vector==v)[0]\n",
    "        test_idx = np.where(test_vector==v)[0]\n",
    "        train_err += np.sum((np.mean(train_y[train_idx])-train_y[train_idx])**2)\n",
    "        if len(test_idx)!=0:\n",
    "            test_err += np.sum((np.mean(test_y[test_idx])-test_y[test_idx])**2)\n",
    "    return train_err/len(train_y),test_err/len(test_y)"
   ]
  },
  {
   "cell_type": "code",
   "execution_count": 4,
   "metadata": {
    "scrolled": false
   },
   "outputs": [
    {
     "name": "stdout",
     "output_type": "stream",
     "text": [
      "(1000, 4)\n",
      "1000\n"
     ]
    }
   ],
   "source": [
    "# Data generation\n",
    "# Xi ~ Ber(n,pi)\n",
    "\n",
    "# probs = np.array([0.5,0.4,0.6,0.4,0.7,0.3])\n",
    "probs = np.array([0.5, 0.4, 0.6, 0.4])\n",
    "n = 10**3\n",
    "s = 0\n",
    "f = 0\n",
    "for i,k in enumerate(itertools.product([0,1],repeat=len(probs))):\n",
    "    l = np.prod(probs**np.array(k))*np.prod((1-probs)**(1-np.array(k)))*n+1e-6\n",
    "    f+=l\n",
    "    l = int(l)\n",
    "    s+=l\n",
    "    if i==0:X = np.tile(np.array(k),(l,1))\n",
    "    else:X = np.vstack([X,np.tile(np.array(k),(l,1))])\n",
    "\n",
    "print X.shape\n",
    "X = X[np.random.permutation(n)]\n",
    "# probs = [0.4,0.6,0.4,0.6,0.4,0.6]\n",
    "# n = 1000\n",
    "# X = np.zeros((n,6))\n",
    "# for i,p in enumerate(probs):\n",
    "#     X[:,i]=np.array([np.random.binomial(1,p) for j in range(n)])\n",
    "n = 200\n",
    "test_X = np.zeros((n,4))\n",
    "for i,p in enumerate(probs):\n",
    "    test_X[:,i]=np.array([np.random.binomial(1,p) for j in range(n)])\n",
    "    \n",
    "beta = np.random.randn(4,2)*2\n",
    "y = np.zeros(1000)\n",
    "for i in range(1000):\n",
    "    if X[i][0]==0:\n",
    "        if X[i][1]==0: y[i] = sum(beta[0][:2]*X[i][:2])+beta[0][1]\n",
    "        else: y[i] = sum(beta[1][:2]*X[i][:2])+beta[1][1]\n",
    "    else:\n",
    "        if X[i][1]==0: y[i] = sum(beta[2][:2]*X[i][:2])+beta[2][1]\n",
    "        else: y[i] = sum(beta[3][:2]**X[i][:2])+beta[3][1]\n",
    "test_y = np.zeros(n)\n",
    "for i in range(n):\n",
    "    if test_X[i][0]==0:\n",
    "        if test_X[i][1]==0: test_y[i] = sum(beta[0][:2]*test_X[i][:2])+beta[0][1]\n",
    "        else: test_y[i] = sum(beta[1][:2]*test_X[i][:2])+beta[1][1]\n",
    "    else:\n",
    "        if test_X[i][1]==0: test_y[i] = sum(beta[2][:2]*test_X[i][:2])+beta[2][1]\n",
    "        else: test_y[i] = sum(beta[3][:2]**test_X[i][:2])+beta[3][1]\n",
    "# add noise e~N(0,0.5^2)\n",
    "y = y+np.random.randn(1000)*0.5\n",
    "test_y += np.random.randn(200)*0.5\n",
    "train_X = X#[:int(n*0.8)]\n",
    "train_y = y#[:int(n*0.8)]\n",
    "print len(train_y)"
   ]
  },
  {
   "cell_type": "code",
   "execution_count": 5,
   "metadata": {
    "scrolled": false
   },
   "outputs": [
    {
     "name": "stdout",
     "output_type": "stream",
     "text": [
      "X = set([0]); Y=set([0, 1]); x = 2\n",
      "0.00201967090408 0.00026512583197\n",
      "X = set([0]); Y=set([0, 1]); x = 3\n",
      "0.00144747062621 0.000140613642598\n",
      "X = set([1]); Y=set([0, 1]); x = 2\n",
      "0.00201967090408 0.000799488415334\n",
      "X = set([1]); Y=set([0, 1]); x = 3\n",
      "0.00144747062621 0.00137537379438\n",
      "X = set([0]); Y=set([0, 2]); x = 1\n",
      "0.901770577099 0.900016032027\n",
      "X = set([0]); Y=set([0, 2]); x = 3\n",
      "0.000577468932023 0.000140613642598\n",
      "X = set([2]); Y=set([0, 2]); x = 1\n",
      "0.901770577099 0.853576476076\n",
      "X = set([2]); Y=set([0, 2]); x = 3\n",
      "0.000577468932023 0.000119944073606\n",
      "X = set([0]); Y=set([0, 3]); x = 1\n",
      "0.90132288901 0.900016032027\n",
      "X = set([0]); Y=set([0, 3]); x = 2\n",
      "0.000701981121395 0.00026512583197\n",
      "X = set([3]); Y=set([0, 3]); x = 1\n",
      "0.90132288901 0.854139608639\n",
      "X = set([3]); Y=set([0, 3]); x = 2\n",
      "0.000701981121395 0.000107191258216\n",
      "X = set([1]); Y=set([1, 2]); x = 0\n",
      "3.50754389129 3.5063237088\n",
      "X = set([1]); Y=set([1, 2]); x = 3\n",
      "0.00146779987063 0.00137537379438\n",
      "X = set([2]); Y=set([1, 2]); x = 0\n",
      "3.50754389129 3.45934979027\n",
      "X = set([2]); Y=set([1, 2]); x = 3\n",
      "0.00146779987063 0.000119944073606\n",
      "X = set([1]); Y=set([1, 3]); x = 0\n",
      "3.50639580563 3.5063237088\n",
      "X = set([1]); Y=set([1, 3]); x = 2\n",
      "0.00089191449158 0.000799488415334\n",
      "X = set([3]); Y=set([1, 3]); x = 0\n",
      "3.50639580563 3.45921252526\n",
      "X = set([3]); Y=set([1, 3]); x = 2\n",
      "0.00089191449158 0.000107191258216\n",
      "X = set([2]); Y=set([2, 3]); x = 0\n",
      "3.45980731513 3.45934979027\n",
      "X = set([2]); Y=set([2, 3]); x = 1\n",
      "0.854924331873 0.853576476076\n",
      "X = set([3]); Y=set([2, 3]); x = 0\n",
      "3.45980731513 3.45921252526\n",
      "X = set([3]); Y=set([2, 3]); x = 1\n",
      "0.854924331873 0.854139608639\n",
      "X = set([0, 1]); Y=set([0, 1, 2]); x = 3\n",
      "0.00238900935574 0.00144747062621\n",
      "X = set([0, 2]); Y=set([0, 1, 2]); x = 3\n",
      "0.00238900935574 0.000577468932023\n",
      "X = set([1, 2]); Y=set([0, 1, 2]); x = 3\n",
      "0.00238900935574 0.00146779987063\n",
      "X = set([0, 1]); Y=set([0, 1, 3]); x = 2\n",
      "0.00296120963361 0.00201967090408\n",
      "X = set([0, 3]); Y=set([0, 1, 3]); x = 2\n",
      "0.00296120963361 0.000701981121395\n",
      "X = set([1, 3]); Y=set([0, 1, 3]); x = 2\n",
      "0.00296120963361 0.00089191449158\n",
      "X = set([0, 2]); Y=set([0, 2, 3]); x = 1\n",
      "0.903582117522 0.901770577099\n",
      "X = set([0, 3]); Y=set([0, 2, 3]); x = 1\n",
      "0.903582117522 0.90132288901\n",
      "X = set([2, 3]); Y=set([0, 2, 3]); x = 1\n",
      "0.903582117522 0.854924331873\n",
      "X = set([1, 2]); Y=set([1, 2, 3]); x = 0\n",
      "3.50846510078 3.50754389129\n",
      "X = set([1, 3]); Y=set([1, 2, 3]); x = 0\n",
      "3.50846510078 3.50639580563\n",
      "X = set([2, 3]); Y=set([1, 2, 3]); x = 0\n",
      "3.50846510078 3.45980731513\n",
      "False 0\n"
     ]
    }
   ],
   "source": [
    "violation = False\n",
    "v = 0\n",
    "dr1 = []\n",
    "dr2 = []\n",
    "for i in range(2):\n",
    "    s_y = list(itertools.combinations(np.arange(4),i+2))\n",
    "    for s in s_y:\n",
    "        s_x = list(itertools.combinations(s,i+1))\n",
    "        comp = set(np.arange(4)).difference(set(s))\n",
    "        for sub_s_x in s_x:\n",
    "            for c in comp:\n",
    "                s = set(s)\n",
    "                sub_s_x = set(sub_s_x )\n",
    "                print 'X = {}; Y={}; x = {}'.format(sub_s_x,s,c)\n",
    "                train_err1 = lr(s,train_X,train_y,test_X,test_y)[0]\n",
    "                train_err2 = lr(sub_s_x,train_X,train_y,test_X,test_y)[0]\n",
    "                s.add(c)\n",
    "                sub_s_x.add(c)\n",
    "                print train_err1 - lr(s,train_X,train_y,test_X,test_y)[0],\\\n",
    "                  train_err2 - lr(sub_s_x,train_X,train_y,test_X,test_y)[0]\n",
    "                dr1.append(train_err1 - lr(s,train_X,train_y,test_X,test_y)[0])\n",
    "                dr2.append(train_err2- lr(sub_s_x,train_X,train_y,test_X,test_y)[0])\n",
    "                if train_err1 - lr(s,train_X,train_y,test_X,test_y)[0]<train_err2 - lr(sub_s_x,train_X,train_y,test_X,test_y)[0]:\n",
    "                    violation = True\n",
    "                    if violation: v+=1\n",
    "                s.remove(c)\n",
    "                sub_s_x.remove(c)\n",
    "print violation,v"
   ]
  },
  {
   "cell_type": "markdown",
   "metadata": {},
   "source": [
    "#### Greedy Algorithm"
   ]
  },
  {
   "cell_type": "code",
   "execution_count": 6,
   "metadata": {
    "collapsed": true
   },
   "outputs": [],
   "source": [
    "# Data generation\n",
    "# Xi ~ Ber(n,pi)\n",
    "probs = np.array([0.5, 0.4, 0.6, 0.4])\n",
    "n = 1000\n",
    "X = np.zeros((n,4))\n",
    "for i,p in enumerate(probs):\n",
    "    X[:,i]=np.array([np.random.binomial(1,p) for j in range(n)])\n",
    "beta = np.random.randn(4,2)*2\n",
    "y = np.zeros(n)\n",
    "for i in range(n):\n",
    "    if X[i][0]==0:\n",
    "        if X[i][1]==0: y[i] = sum(beta[0][:2]*X[i][:2])+beta[0][1]\n",
    "        else: y[i] = sum(beta[1][:2]*X[i][:2])+beta[1][1]\n",
    "    else:\n",
    "        if X[i][1]==0: y[i] = sum(beta[2][:2]*X[i][:2])+beta[2][1]\n",
    "        else: y[i] = sum(beta[3][:2]**X[i][:2])+beta[3][1]\n",
    "# add noise e~N(0,0.5^2)\n",
    "y = y+np.random.randn(n)*0.5\n",
    "train_X = X[:int(n*0.8)]\n",
    "test_X = X[int(n*0.8):]\n",
    "train_y = y[:int(n*0.8)]\n",
    "test_y = y[int(n*0.8):]"
   ]
  },
  {
   "cell_type": "code",
   "execution_count": 7,
   "metadata": {},
   "outputs": [
    {
     "name": "stdout",
     "output_type": "stream",
     "text": [
      "0.229267170563 0.247199957015\n",
      "[  3.42414062e+00   4.15204320e+00   3.03205448e-03   1.34950305e-03]\n"
     ]
    },
    {
     "data": {
      "image/png": "[encoded data removed]",
      "text/plain": [
       "<matplotlib.figure.Figure at 0x7f2969efde90>"
      ]
     },
     "metadata": {},
     "output_type": "display_data"
    }
   ],
   "source": [
    "train_r = np.zeros(4)\n",
    "test_r = np.zeros(4)\n",
    "feature_set = set(np.arange(4))\n",
    "train_err,test_err=lr(feature_set,train_X,train_y,test_X,test_y)\n",
    "print train_err,test_err\n",
    "for i,s in enumerate(feature_set):\n",
    "    feature_set.remove(s)\n",
    "    train_err1,test_err1=lr(feature_set,train_X,train_y,test_X,test_y)\n",
    "    train_r[i] = train_err1-train_err\n",
    "    test_r[i] = test_err1-test_err\n",
    "    feature_set.add(s)\n",
    "print train_r\n",
    "plt.scatter(np.arange(4),train_r,label='Training')\n",
    "plt.scatter(np.arange(4),test_r,label = 'Testing',c = 'red')\n",
    "plt.title('Diminish Return')\n",
    "plt.legend()\n",
    "plt.show()"
   ]
  },
  {
   "cell_type": "markdown",
   "metadata": {},
   "source": [
    "#### Remove feature according to the diminish return"
   ]
  },
  {
   "cell_type": "code",
   "execution_count": 8,
   "metadata": {},
   "outputs": [
    {
     "name": "stdout",
     "output_type": "stream",
     "text": [
      "0.229267170563 0.247199957015\n"
     ]
    },
    {
     "data": {
      "image/png": "[encoded data removed]",
      "text/plain": [
       "<matplotlib.figure.Figure at 0x7f293bd974d0>"
      ]
     },
     "metadata": {},
     "output_type": "display_data"
    }
   ],
   "source": [
    "rm_order = np.argsort(train_r)\n",
    "lr_train_err = np.zeros(4)\n",
    "lr_test_err = np.zeros(4)\n",
    "feature_set = set(np.arange(4))\n",
    "train_err,test_err=lr(feature_set,train_X,train_y,test_X,test_y)\n",
    "print train_err,test_err\n",
    "lr_train_err[0] = train_err\n",
    "lr_test_err[0] = test_err\n",
    "for i,s in enumerate(rm_order[:-1]):\n",
    "    feature_set.remove(s)\n",
    "    train_err,test_err=lr(feature_set,train_X,train_y,test_X,test_y)\n",
    "    lr_train_err[i+1] = train_err \n",
    "    lr_test_err[i+1] = test_err\n",
    "plt.plot(np.arange(4),lr_train_err,label='Training Error')\n",
    "plt.plot(np.arange(4),lr_test_err,label = 'Testing Error')\n",
    "plt.xticks(np.arange(4),np.hstack(['NA',rm_order+1]))\n",
    "plt.xlabel('Removed Feature')\n",
    "plt.legend()\n",
    "plt.show()"
   ]
  },
  {
   "cell_type": "code",
   "execution_count": 9,
   "metadata": {},
   "outputs": [
    {
     "name": "stdout",
     "output_type": "stream",
     "text": [
      "0.229267170563 0.247199957015\n",
      "0.229267170563 0.247199957015\n",
      "set([1, 2, 3]) 3.65340779528 3.54991137773\n",
      "set([0, 2, 3]) 4.38131036753 4.82438034476\n",
      "set([0, 1, 3]) 0.232299225039 0.253752384837\n",
      "set([0, 1, 2]) 0.230616673609 0.256498356962\n",
      "set([1, 2]) 3.67376895976 3.62807733072\n",
      "set([0, 2]) 4.38974662574 4.84755396604\n",
      "set([0, 1]) 0.233343570698 0.258194405302\n",
      "set([1]) 3.67821320041 3.65409221262\n",
      "set([0]) 4.40911421905 4.84810407004\n",
      "[  1.34950305e-03   2.72689709e-03   3.44486963e+00] [ 3.  2.  0.]\n"
     ]
    },
    {
     "data": {
      "image/png": "[encoded data removed]",
      "text/plain": [
       "<matplotlib.figure.Figure at 0x7f293bdbee50>"
      ]
     },
     "metadata": {},
     "output_type": "display_data"
    }
   ],
   "source": [
    "train_r = np.zeros(4)\n",
    "test_r = np.zeros(4)\n",
    "r = np.zeros(3)\n",
    "feature_set = set(np.arange(4))\n",
    "train_err,test_err=lr(feature_set,train_X,train_y,test_X,test_y)\n",
    "print train_err,test_err\n",
    "print train_err,test_err\n",
    "train_r[0] = train_err\n",
    "test_r[0] = test_err\n",
    "removed = np.zeros(3)\n",
    "for i in range(3):\n",
    "    dr = 100\n",
    "    f = 0\n",
    "    for s in feature_set:\n",
    "        feature_set.remove(s)\n",
    "        train_err,test_err=lr(feature_set,train_X,train_y,test_X,test_y)\n",
    "        print feature_set,train_err,test_err\n",
    "        if train_err-train_r[i]<dr: \n",
    "            dr = train_err-train_r[i]\n",
    "            train_r[i+1] = train_err\n",
    "            test_r[i+1] = test_err\n",
    "            f = s;\n",
    "        feature_set.add(s)\n",
    "    r[i] = train_r[i+1]-train_r[i]\n",
    "    feature_set.remove(f)\n",
    "    removed[i]=f\n",
    "print r,removed\n",
    "\n",
    "plt.plot(np.arange(4),train_r,label='Training Error')\n",
    "plt.plot(np.arange(4),test_r,label = 'Testing Error')\n",
    "plt.xticks(np.arange(4),np.hstack(['NA',rm_order+1]))\n",
    "plt.xlabel('Removed Feature')\n",
    "plt.ylabel('RSS')\n",
    "plt.legend(loc='best')\n",
    "plt.show()"
   ]
  },
  {
   "cell_type": "markdown",
   "metadata": {},
   "source": [
    "#### Lasso"
   ]
  },
  {
   "cell_type": "code",
   "execution_count": 10,
   "metadata": {},
   "outputs": [
    {
     "name": "stdout",
     "output_type": "stream",
     "text": [
      "(1000, 4)\n",
      "1000\n"
     ]
    }
   ],
   "source": [
    "# Data generation\n",
    "# Xi ~ Ber(n,pi)\n",
    "\n",
    "# probs = np.array([0.5,0.4,0.6,0.4,0.7,0.3])\n",
    "probs = np.array([0.5, 0.4, 0.6, 0.4])\n",
    "n = 10**3\n",
    "s = 0\n",
    "f = 0\n",
    "for i,k in enumerate(itertools.product([0,1],repeat=len(probs))):\n",
    "    l = np.prod(probs**np.array(k))*np.prod((1-probs)**(1-np.array(k)))*n+1e-6\n",
    "    f+=l\n",
    "    l = int(l)\n",
    "    s+=l\n",
    "    if i==0:X = np.tile(np.array(k),(l,1))\n",
    "    else:X = np.vstack([X,np.tile(np.array(k),(l,1))])\n",
    "\n",
    "print X.shape\n",
    "X = X[np.random.permutation(n)]\n",
    "# probs = [0.4,0.6,0.4,0.6,0.4,0.6]\n",
    "# n = 1000\n",
    "# X = np.zeros((n,6))\n",
    "# for i,p in enumerate(probs):\n",
    "#     X[:,i]=np.array([np.random.binomial(1,p) for j in range(n)])\n",
    "n = 200\n",
    "test_X = np.zeros((n,4))\n",
    "for i,p in enumerate(probs):\n",
    "    test_X[:,i]=np.array([np.random.binomial(1,p) for j in range(n)])\n",
    "    \n",
    "beta = np.random.randn(4,2)*2\n",
    "y = np.zeros(1000)\n",
    "for i in range(1000):\n",
    "    if X[i][0]==0:\n",
    "        if X[i][1]==0: y[i] = sum(beta[0][:2]*X[i][:2])+beta[0][1]\n",
    "        else: y[i] = sum(beta[1][:2]*X[i][:2])+beta[1][1]\n",
    "    else:\n",
    "        if X[i][1]==0: y[i] = sum(beta[2][:2]*X[i][:2])+beta[2][1]\n",
    "        else: y[i] = sum(beta[3][:2]**X[i][:2])+beta[3][1]\n",
    "test_y = np.zeros(n)\n",
    "for i in range(n):\n",
    "    if test_X[i][0]==0:\n",
    "        if test_X[i][1]==0: test_y[i] = sum(beta[0][:2]*test_X[i][:2])+beta[0][1]\n",
    "        else: test_y[i] = sum(beta[1][:2]*test_X[i][:2])+beta[1][1]\n",
    "    else:\n",
    "        if test_X[i][1]==0: test_y[i] = sum(beta[2][:2]*test_X[i][:2])+beta[2][1]\n",
    "        else: test_y[i] = sum(beta[3][:2]**test_X[i][:2])+beta[3][1]\n",
    "# add noise e~N(0,0.5^2)\n",
    "y = y+np.random.randn(1000)*0.5\n",
    "test_y += np.random.randn(200)*0.5\n",
    "train_X = X#[:int(n*0.8)]\n",
    "train_y = y#[:int(n*0.8)]\n",
    "print len(train_y)"
   ]
  },
  {
   "cell_type": "code",
   "execution_count": 11,
   "metadata": {},
   "outputs": [
    {
     "name": "stdout",
     "output_type": "stream",
     "text": [
      "(1000, 4)\n",
      "(1000, 15) ['Z4', 'Z3', 'Z3Z4', 'Z2', 'Z2Z4', 'Z2Z3', 'Z2Z3Z4', 'Z1', 'Z1Z4', 'Z1Z3', 'Z1Z3Z4', 'Z1Z2', 'Z1Z2Z4', 'Z1Z2Z3', 'Z1Z2Z3Z4']\n"
     ]
    }
   ],
   "source": [
    "def inter_terms(n,X):\n",
    "    inds = list(itertools.product([0,1],repeat=n))\n",
    "    ind_term = np.array(['Z'+str(i+1) for i in range(n)])\n",
    "    terms = []\n",
    "    for i in inds:\n",
    "        terms.append(''.join(ind_term[np.nonzero(np.array(i))[0]]))    \n",
    "        Xprod = np.prod(X[:,np.nonzero(np.array(i))[0]],axis=1)\n",
    "        X = np.hstack([X,Xprod.reshape(-1,1)])\n",
    "    return X[:,5:],terms[1:]\n",
    "print train_X.shape\n",
    "train_X,terms = inter_terms(4,train_X)\n",
    "test_X,terms = inter_terms(4,test_X)\n",
    "print train_X.shape,terms"
   ]
  },
  {
   "cell_type": "code",
   "execution_count": 12,
   "metadata": {},
   "outputs": [
    {
     "name": "stdout",
     "output_type": "stream",
     "text": [
      "10\n"
     ]
    }
   ],
   "source": [
    "alphas = np.linspace(0.01,0.1,10)\n",
    "train_err = []\n",
    "test_err = []\n",
    "coeffs = []\n",
    "for a in alphas:\n",
    "    model = linear_model.Lasso(alpha=a)\n",
    "    model.fit(train_X,train_y)\n",
    "    train_err.append(np.mean((model.predict(train_X)-train_y)**2))\n",
    "    test_err.append(np.mean((model.predict(test_X)-test_y)**2))    \n",
    "    coeffs.append(model.coef_)\n",
    "print len(coeffs)"
   ]
  },
  {
   "cell_type": "code",
   "execution_count": 13,
   "metadata": {},
   "outputs": [
    {
     "data": {
      "image/png": "[encoded data removed]",
      "text/plain": [
       "<matplotlib.figure.Figure at 0x7f293c089650>"
      ]
     },
     "metadata": {},
     "output_type": "display_data"
    }
   ],
   "source": [
    "plt.plot(alphas,train_err,label = 'Training Error')\n",
    "plt.plot(alphas,test_err,label='Testing Error')\n",
    "plt.xlabel('lambda')\n",
    "plt.ylabel('RSS')\n",
    "plt.legend(loc='best')\n",
    "plt.show()"
   ]
  },
  {
   "cell_type": "code",
   "execution_count": 14,
   "metadata": {},
   "outputs": [
    {
     "name": "stdout",
     "output_type": "stream",
     "text": [
      "['Z2' 'Z1' 'Z1Z4' 'Z1Z2'] [ 2.90305567 -1.66042743 -0.02240704 -0.21380964]\n",
      "['Z2' 'Z1' 'Z1Z2'] [ 2.76961406 -1.7028102  -0.03034097]\n",
      "['Z2' 'Z1'] [ 2.71291132 -1.67483906]\n",
      "['Z2' 'Z1'] [ 2.67124466 -1.63483906]\n",
      "['Z2' 'Z1'] [ 2.62957799 -1.59483906]\n",
      "['Z2' 'Z1'] [ 2.58791132 -1.55483906]\n",
      "['Z2' 'Z1'] [ 2.54624466 -1.51483906]\n",
      "['Z2' 'Z1'] [ 2.50457799 -1.47483906]\n",
      "['Z2' 'Z1'] [ 2.46291132 -1.43483906]\n",
      "['Z2' 'Z1'] [ 2.42124466 -1.39483906]\n"
     ]
    }
   ],
   "source": [
    "terms = np.array(terms)\n",
    "for coeff in coeffs:\n",
    "    print terms[np.nonzero(coeff)[0]],\\\n",
    "        coeff[np.nonzero(coeff)[0]]    "
   ]
  }
 ],
 "metadata": {
  "kernelspec": {
   "display_name": "Python 2",
   "language": "python",
   "name": "python2"
  },
  "language_info": {
   "codemirror_mode": {
    "name": "ipython",
    "version": 2
   },
   "file_extension": ".py",
   "mimetype": "text/x-python",
   "name": "python",
   "nbconvert_exporter": "python",
   "pygments_lexer": "ipython2",
   "version": "2.7.12"
  }
 },
 "nbformat": 4,
 "nbformat_minor": 2
}
