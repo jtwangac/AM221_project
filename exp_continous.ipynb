{
 "cells": [
  {
   "cell_type": "code",
   "execution_count": 1,
   "metadata": {
    "collapsed": true
   },
   "outputs": [],
   "source": [
    "import numpy as np\n",
    "from sklearn import linear_model\n",
    "import pickle\n",
    "import matplotlib.pyplot as plt\n",
    "import itertools"
   ]
  },
  {
   "cell_type": "markdown",
   "metadata": {},
   "source": [
    "### Experiments with Simulated Data\n",
    "Suppose we have $n=100$ training data points and another $50$ testing data points\n",
    "\n",
    "Discrete Variables $X={X_1,X_2,X_3,X_4}$; $X_i \\in \\{0,1\\}$; $X\\in \\mathcal{R}^{n\\times 4}$\n",
    "\n",
    "Continous Variable $\\mathbf{z}$; $\\mathbf{z} \\in \\mathcal{R}^{n \\times 1}$\n",
    "\n",
    "Continous Target Variable $\\mathbf{y}$; $\\mathbf{y} \\in \\mathcal{R}^{n \\times 1}$\n",
    "\n",
    "True Moderator Variable $X_1,X_2$\n",
    "\n",
    "Data generated :\n",
    "    $$y = z\\beta_i+b_i+\\epsilon$$"
   ]
  },
  {
   "cell_type": "markdown",
   "metadata": {},
   "source": [
    "#### Generating simulation data"
   ]
  },
  {
   "cell_type": "code",
   "execution_count": 47,
   "metadata": {
    "scrolled": false
   },
   "outputs": [
    {
     "name": "stdout",
     "output_type": "stream",
     "text": [
      "[[-2.88432764  2.3167186 ]\n",
      " [-1.32963935  0.36127813]\n",
      " [ 2.70460185  1.44933919]\n",
      " [-1.60700435 -0.802199  ]]\n"
     ]
    }
   ],
   "source": [
    "probs = np.array([0.5, 0.4, 0.6, 0.4])\n",
    "n = 1000\n",
    "for i,k in enumerate(itertools.product([0,1],repeat=len(probs))):\n",
    "    l = np.prod(probs**np.array(k))*np.prod((1-probs)**(1-np.array(k)))*n+1e-6\n",
    "    l = int(l)\n",
    "    if i==0:X = np.tile(np.array(k),(l,1))\n",
    "    else:X = np.vstack([X,np.tile(np.array(k),(l,1))])\n",
    "\n",
    "X = X[np.random.permutation(n)]\n",
    "\n",
    "z = np.random.randn(n).reshape(n,1)\n",
    "y = np.zeros(n)\n",
    "beta = np.random.randn(4,2)*2\n",
    "print beta\n",
    "X = np.hstack([X,z])"
   ]
  },
  {
   "cell_type": "code",
   "execution_count": 48,
   "metadata": {},
   "outputs": [
    {
     "name": "stdout",
     "output_type": "stream",
     "text": [
      "(1000, 5) [[-2.88432764  2.3167186 ]\n",
      " [-1.32963935  0.36127813]\n",
      " [ 2.70460185  1.44933919]\n",
      " [-1.60700435 -0.802199  ]]\n"
     ]
    }
   ],
   "source": [
    "# y = z*beta_0+beta_1\n",
    "\n",
    "for i in range(n):\n",
    "    if X[i][0]==0:\n",
    "        if X[i][1]==0: y[i] = beta[0][0]*z[i]+beta[0][1]\n",
    "        else: y[i] = beta[1][0]*z[i]+beta[1][1]\n",
    "    else:\n",
    "        if X[i][1]==0: y[i] = beta[2][0]*z[i]+beta[2][1]\n",
    "        else: y[i] = beta[3][0]*z[i]+beta[3][1]\n",
    "# add noise\n",
    "print X.shape,beta\n",
    "y = y+np.random.randn(n)*0.5\n",
    "train_X = X[:int(n*0.8)]\n",
    "train_y = y[:int(n*0.8)]\n",
    "test_X = X[int(n*0.8):]\n",
    "test_y = y[int(n*0.8):]"
   ]
  },
  {
   "cell_type": "code",
   "execution_count": 49,
   "metadata": {
    "collapsed": true
   },
   "outputs": [],
   "source": [
    "# with open('data.pkl','w') as f:\n",
    "#     pickle.dump((features,y),f)\n",
    "# with open('coeff.pkl','w') as f:\n",
    "#     pickle.dump(beta,f)"
   ]
  },
  {
   "cell_type": "code",
   "execution_count": 50,
   "metadata": {
    "collapsed": true
   },
   "outputs": [],
   "source": [
    "# fit linear regression with given features \n",
    "def lr(features,train_X,train_y,test_X,test_y):\n",
    "\n",
    "    model = linear_model.LinearRegression(fit_intercept=True)\n",
    "    features = np.array(list(features))\n",
    "    n_feature =len(features)\n",
    "    train_err = 0.0\n",
    "    test_err = 0.0\n",
    "    train_vector =np.sum(train_X[:,features]* np.array([2**i for i in range(n_feature)]),axis=1)\n",
    "    test_vector =np.sum(test_X[:,features]* np.array([2**i for i in range(n_feature)]),axis=1)\n",
    "    train_X = train_X[:,-1].reshape(-1,1)\n",
    "    test_X = test_X[:,-1].reshape(-1,1)\n",
    "    for v in range(2**n_feature):\n",
    "        train_idx = np.where(train_vector==v)[0]\n",
    "        test_idx = np.where(test_vector==v)[0]\n",
    "        model.fit(train_X[train_idx],train_y[train_idx])\n",
    "        train_err += np.sum((model.predict(train_X[train_idx])-train_y[train_idx])**2)\n",
    "        if len(test_idx)!=0:\n",
    "            test_err += np.sum((model.predict(test_X[test_idx])-test_y[test_idx])**2)\n",
    "    return train_err/len(train_y),test_err/len(test_y)\n",
    "# print lr(set([2]),train_X,train_y,test_X,test_y)"
   ]
  },
  {
   "cell_type": "code",
   "execution_count": 51,
   "metadata": {},
   "outputs": [
    {
     "name": "stdout",
     "output_type": "stream",
     "text": [
      "X = set([0]); Y=set([0, 1]); x = 2\n",
      "0.00144238181896 0.025224828129\n",
      "X = set([1]); Y=set([0, 1]); x = 2\n",
      "0.00144238181896 0.0230603295153\n",
      "X = set([0]); Y=set([0, 2]); x = 1\n",
      "3.62404353095 3.64782597726\n",
      "X = set([2]); Y=set([0, 2]); x = 1\n",
      "3.62404353095 1.53552163774\n",
      "X = set([1]); Y=set([1, 2]); x = 0\n",
      "4.87839935322 4.90001730092\n",
      "X = set([2]); Y=set([1, 2]); x = 0\n",
      "4.87839935322 2.78987746001\n",
      "True 4 6\n"
     ]
    }
   ],
   "source": [
    "violation = False\n",
    "v = 0\n",
    "t =0\n",
    "for i in range(1):\n",
    "    s_y = list(itertools.combinations(np.arange(3),i+2))\n",
    "    for s in s_y:\n",
    "        s_x = list(itertools.combinations(s,i+1))\n",
    "        comp = set(np.arange(4)).difference(set(s))\n",
    "        for sub_s_x in s_x:\n",
    "            for c in comp:\n",
    "                t+=1\n",
    "                s = set(s)\n",
    "                sub_s_x = set(sub_s_x )\n",
    "                print 'X = {}; Y={}; x = {}'.format(sub_s_x,s,c)\n",
    "                train_err1 = lr(s,train_X,train_y,test_X,test_y)[0]\n",
    "                train_err2 = lr(sub_s_x,train_X,train_y,test_X,test_y)[0]\n",
    "                s.add(c)\n",
    "                sub_s_x.add(c)\n",
    "                print train_err1 - lr(s,train_X,train_y,test_X,test_y)[0],\\\n",
    "                train_err2 - lr(sub_s_x,train_X,train_y,test_X,test_y)[0]\n",
    "                if train_err1 - lr(s,train_X,train_y,test_X,test_y)[0]<train_err2 - lr(sub_s_x,train_X,train_y,test_X,test_y)[0]:\n",
    "                    violation = True\n",
    "                    if violation: v+=1\n",
    "                s.remove(c)\n",
    "                sub_s_x.remove(c)\n",
    "                break\n",
    "    \n",
    "print violation,v,t"
   ]
  },
  {
   "cell_type": "markdown",
   "metadata": {},
   "source": [
    "#### Greedy Algorithm"
   ]
  },
  {
   "cell_type": "code",
   "execution_count": 52,
   "metadata": {},
   "outputs": [
    {
     "name": "stdout",
     "output_type": "stream",
     "text": [
      "0.248269115579 0.23740223296\n",
      "[  4.83028100e+00   3.41828777e+00   4.04638314e-03   9.13432816e-03]\n"
     ]
    },
    {
     "data": {
      "image/png": "[encoded data removed]",
      "text/plain": [
       "<matplotlib.figure.Figure at 0x7f1db9d59b90>"
      ]
     },
     "metadata": {},
     "output_type": "display_data"
    }
   ],
   "source": [
    "train_r = np.zeros(4)\n",
    "test_r = np.zeros(4)\n",
    "feature_set = set(np.arange(4))\n",
    "train_err,test_err=lr(feature_set,train_X,train_y,test_X,test_y)\n",
    "print train_err,test_err\n",
    "for i,s in enumerate(feature_set):\n",
    "    feature_set.remove(s)\n",
    "    train_err1,test_err1=lr(feature_set,train_X,train_y,test_X,test_y)\n",
    "    train_r[i] = train_err1-train_err\n",
    "    test_r[i] = test_err1-test_err\n",
    "    feature_set.add(s)\n",
    "print train_r\n",
    "plt.scatter(np.arange(4),train_r,label='Training')\n",
    "plt.scatter(np.arange(4),test_r,label = 'Testing',c = 'red')\n",
    "plt.xticks(np.arange(4),np.arange(4))\n",
    "plt.title('Diminish Return')\n",
    "plt.legend()\n",
    "plt.show()"
   ]
  },
  {
   "cell_type": "markdown",
   "metadata": {},
   "source": [
    "#### Remove feature according to the diminish return"
   ]
  },
  {
   "cell_type": "code",
   "execution_count": 53,
   "metadata": {},
   "outputs": [
    {
     "name": "stdout",
     "output_type": "stream",
     "text": [
      "0.248269115579 0.23740223296\n"
     ]
    },
    {
     "data": {
      "image/png": "[encoded data removed]",
      "text/plain": [
       "<matplotlib.figure.Figure at 0x7f1db9bcbe50>"
      ]
     },
     "metadata": {},
     "output_type": "display_data"
    }
   ],
   "source": [
    "rm_order = np.argsort(train_r)\n",
    "lr_train_err = np.zeros(4)\n",
    "lr_test_err = np.zeros(4)\n",
    "feature_set = set(np.arange(4))\n",
    "train_err,test_err=lr(feature_set,train_X,train_y,test_X,test_y)\n",
    "print train_err,test_err\n",
    "lr_train_err[0] = train_err\n",
    "lr_test_err[0] = test_err\n",
    "for i,s in enumerate(rm_order[:-1]):\n",
    "    feature_set.remove(s)\n",
    "    train_err,test_err=lr(feature_set,train_X,train_y,test_X,test_y)\n",
    "    lr_train_err[i+1] = train_err \n",
    "    lr_test_err[i+1] = test_err\n",
    "plt.plot(np.arange(4),lr_train_err,label='Training Error')\n",
    "plt.plot(np.arange(4),lr_test_err,label = 'Testing Error')\n",
    "plt.xticks(np.arange(4),np.hstack(['NA',rm_order+1]))\n",
    "plt.xlabel('Removed Feature')\n",
    "plt.ylabel('RSS')\n",
    "plt.legend(loc='best')\n",
    "plt.show()"
   ]
  },
  {
   "cell_type": "markdown",
   "metadata": {},
   "source": [
    "#### Lasso"
   ]
  },
  {
   "cell_type": "code",
   "execution_count": 54,
   "metadata": {
    "scrolled": false
   },
   "outputs": [
    {
     "name": "stdout",
     "output_type": "stream",
     "text": [
      "(100000, 6)\n"
     ]
    }
   ],
   "source": [
    "# Data generation\n",
    "# Xi ~ Ber(n,pi)\n",
    "\n",
    "probs = np.array([0.5,0.4,0.6,0.4,0.7,0.3])\n",
    "n = 10**5\n",
    "s = 0\n",
    "f = 0\n",
    "for i,k in enumerate(itertools.product([0,1],repeat=len(probs))):\n",
    "    l = np.prod(probs**np.array(k))*np.prod((1-probs)**(1-np.array(k)))*n+1e-6\n",
    "    f+=l\n",
    "    l = int(l)\n",
    "    s+=l\n",
    "    if i==0:X = np.tile(np.array(k),(l,1))\n",
    "    else:X = np.vstack([X,np.tile(np.array(k),(l,1))])\n",
    "print X.shape\n",
    "X = X[np.random.permutation(n)]\n",
    "\n",
    "beta = np.random.randn(4,2)*2\n",
    "y = np.zeros(n)\n",
    "for i in range(n):\n",
    "    if X[i][0]==0:\n",
    "        if X[i][1]==0: y[i] = sum(beta[0][:2]*X[i][:2])+beta[0][1]\n",
    "        else: y[i] = sum(beta[1][:2]*X[i][:2])+beta[1][1]\n",
    "    else:\n",
    "        if X[i][1]==0: y[i] = sum(beta[2][:2]*X[i][:2])+beta[2][1]\n",
    "        else: y[i] = sum(beta[3][:2]**X[i][:2])+beta[3][1]\n",
    "# add noise e~N(0,0.5^2)\n",
    "y = y+np.random.randn(n)*0.5\n",
    "train_X = X#[:int(n*0.8)]\n",
    "test_X = X#[int(n*0.8):]\n",
    "train_y = y#[:int(n*0.8)]\n",
    "test_y = y#[int(n*0.8):]\n"
   ]
  },
  {
   "cell_type": "markdown",
   "metadata": {},
   "source": [
    "#### Correlated Moderator\n",
    "$$\\text{Marginal Distribution }p(X_1 = 1) = 0.5, p(X_2 = 1) = 0.5,$$\n",
    "Joint Distribution\n",
    "$$p(X_2=0|X_1=0) = 0.2, p(X_2=1|X_1=0) = 0.8$$\n",
    "$$p(X_2=0|X_1=1) = 0.8, p(X_2=1|X_1=1) = 0.2$$\n",
    "$$\\rho = \\frac{E[X_1X_2]-E[X_1]E[X_2]}{\\sqrt{Var(X_1)Var(X_2)}}=\\frac{0.1-0.25}{0.25}=-0.6$$"
   ]
  },
  {
   "cell_type": "code",
   "execution_count": 56,
   "metadata": {},
   "outputs": [
    {
     "name": "stdout",
     "output_type": "stream",
     "text": [
      "Cov [[ 1.  -0.6]\n",
      " [-0.6  1. ]]\n",
      "[[ 0.6929647  -2.33598896]\n",
      " [ 1.92435396 -0.94729992]\n",
      " [-1.2870602  -2.18208879]\n",
      " [-1.56113769 -0.43904573]]\n"
     ]
    }
   ],
   "source": [
    "n = 1000\n",
    "# Generate correlated X1,X2\n",
    "x1 = np.zeros(n)\n",
    "x1[n/2:] = 1\n",
    "x2 = np.zeros(n)\n",
    "#x2=1|x1=0\n",
    "x2[int(n/2*0.2+1e-6):n/2] = 1\n",
    "#x2=1|x1=1\n",
    "x2[-int(n/2*0.2+1e-6):] = 1\n",
    "Y = np.hstack([x1.reshape(-1,1),x2.reshape(-1,1)])\n",
    "Y = Y[np.random.permutation(n)]\n",
    "print 'Cov',np.corrcoef(Y[:,0],Y[:,1])\n",
    "probs = [0.5,0.5]\n",
    "X = np.zeros((n,2))\n",
    "for i,p in enumerate(probs):\n",
    "    X[:,i]=np.array([np.random.binomial(1,p) for j in range(n)])\n",
    "X = np.hstack([Y,X])\n",
    "cp = np.copy(X[:,2])\n",
    "X[:,2] = X[:,1]\n",
    "X[:,1] = cp\n",
    "z = np.random.randn(n).reshape(n,1)\n",
    "y = np.zeros(n)\n",
    "beta = np.random.randn(4,2)*2\n",
    "print beta\n",
    "X = np.hstack([X,z])"
   ]
  },
  {
   "cell_type": "code",
   "execution_count": 57,
   "metadata": {},
   "outputs": [
    {
     "name": "stdout",
     "output_type": "stream",
     "text": [
      "(1000, 5) [[ 0.6929647  -2.33598896]\n",
      " [ 1.92435396 -0.94729992]\n",
      " [-1.2870602  -2.18208879]\n",
      " [-1.56113769 -0.43904573]]\n"
     ]
    }
   ],
   "source": [
    "# y = z*beta_0+beta_1\n",
    "\n",
    "for i in range(n):\n",
    "    if X[i][0]==0:\n",
    "        if X[i][1]==0: y[i] = beta[0][0]*z[i]+beta[0][1]\n",
    "        else: y[i] = beta[1][0]*z[i]+beta[1][1]\n",
    "    else:\n",
    "        if X[i][1]==0: y[i] = beta[2][0]*z[i]+beta[2][1]\n",
    "        else: y[i] = beta[3][0]*z[i]+beta[3][1]\n",
    "# add noise\n",
    "print X.shape,beta\n",
    "y = y+np.random.randn(n)*0.5\n",
    "train_X = X[:int(n*0.8+1e-6)]\n",
    "train_y = y[:int(n*0.8+1e-6)]\n",
    "test_X = X[int(n*0.8+1e-6):]\n",
    "test_y = y[int(n*0.8+1e-6):]"
   ]
  },
  {
   "cell_type": "code",
   "execution_count": 58,
   "metadata": {},
   "outputs": [
    {
     "name": "stdout",
     "output_type": "stream",
     "text": [
      "0.26335633393 0.212947479712\n",
      "[ 1.16875883  0.78775497  0.0032449   0.0043464 ]\n"
     ]
    },
    {
     "data": {
      "image/png": "[encoded data removed]",
      "text/plain": [
       "<matplotlib.figure.Figure at 0x7f1db9a1cc50>"
      ]
     },
     "metadata": {},
     "output_type": "display_data"
    }
   ],
   "source": [
    "train_r = np.zeros(4)\n",
    "test_r = np.zeros(4)\n",
    "feature_set = set(np.arange(4))\n",
    "train_err,test_err=lr(feature_set,train_X,train_y,test_X,test_y)\n",
    "print train_err,test_err\n",
    "for i,s in enumerate(feature_set):\n",
    "    feature_set.remove(s)\n",
    "    train_err1,test_err1=lr(feature_set,train_X,train_y,test_X,test_y)\n",
    "    train_r[i] = train_err1-train_err\n",
    "    test_r[i] = test_err1-test_err\n",
    "    feature_set.add(s)\n",
    "print train_r\n",
    "plt.scatter(np.arange(4),train_r,label='Training')\n",
    "plt.scatter(np.arange(4),test_r,label = 'Testing',c = 'red')\n",
    "plt.xticks(np.arange(4),np.arange(4))\n",
    "plt.title('Diminish Return')\n",
    "plt.legend()\n",
    "plt.show()"
   ]
  },
  {
   "cell_type": "code",
   "execution_count": 59,
   "metadata": {},
   "outputs": [
    {
     "name": "stdout",
     "output_type": "stream",
     "text": [
      "0.26335633393 0.212947479712\n",
      "1.43211516376 1.14579434981\n",
      "1.05111130667 1.07233180643\n",
      "0.266601238568 0.216213994581\n",
      "0.267702733387 0.211161157683\n",
      "[ 1.43211516  1.05111131  0.26660124  0.26770273]\n"
     ]
    },
    {
     "data": {
      "image/png": "[encoded data removed]",
      "text/plain": [
       "<matplotlib.figure.Figure at 0x7f1db9b54610>"
      ]
     },
     "metadata": {},
     "output_type": "display_data"
    }
   ],
   "source": [
    "train_r = np.zeros(4)\n",
    "test_r = np.zeros(4)\n",
    "feature_set = set(np.arange(4))\n",
    "train_err,test_err=lr(feature_set,train_X,train_y,test_X,test_y)\n",
    "print train_err,test_err\n",
    "for i,s in enumerate(feature_set):\n",
    "    feature_set.remove(s)\n",
    "    train_err1,test_err1=lr(feature_set,train_X,train_y,test_X,test_y)\n",
    "    print train_err1,test_err1\n",
    "    train_r[i] = train_err1\n",
    "    test_r[i] = test_err1\n",
    "    feature_set.add(s)\n",
    "print train_r\n",
    "plt.scatter(np.arange(4),train_r,label='Training')\n",
    "plt.scatter(np.arange(4),test_r,label = 'Testing',c = 'red')\n",
    "plt.xticks(np.arange(4),np.arange(4)+1)\n",
    "plt.xlabel('Removed feature')\n",
    "plt.ylabel('RSS')\n",
    "plt.legend()\n",
    "plt.show()"
   ]
  },
  {
   "cell_type": "code",
   "execution_count": 60,
   "metadata": {},
   "outputs": [
    {
     "name": "stdout",
     "output_type": "stream",
     "text": [
      "0.26335633393 0.212947479712\n",
      "0.26335633393 0.212947479712\n",
      "set([1, 2, 3]) 1.43211516376 1.14579434981\n",
      "set([0, 2, 3]) 1.05111130667 1.07233180643\n",
      "set([0, 1, 3]) 0.266601238568 0.216213994581\n",
      "set([0, 1, 2]) 0.267702733387 0.211161157683\n",
      "set([1, 3]) 2.35985878797 2.01139569955\n",
      "set([0, 3]) 1.06326454506 1.08489099308\n",
      "set([0, 1]) 0.269452145269 0.213677224458\n",
      "set([1]) 2.42218978944 2.01390096286\n",
      "set([0]) 1.06825059626 1.06381423394\n",
      "[ 0.0032449   0.00285091  0.79879845] [ 2.  3.  1.]\n"
     ]
    },
    {
     "data": {
      "image/png": "[encoded data removed]",
      "text/plain": [
       "<matplotlib.figure.Figure at 0x7f1db9a1c850>"
      ]
     },
     "metadata": {},
     "output_type": "display_data"
    }
   ],
   "source": [
    "train_r = np.zeros(4)\n",
    "test_r = np.zeros(4)\n",
    "r = np.zeros(3)\n",
    "feature_set = set(np.arange(4))\n",
    "train_err,test_err=lr(feature_set,train_X,train_y,test_X,test_y)\n",
    "print train_err,test_err\n",
    "print train_err,test_err\n",
    "train_r[0] = train_err\n",
    "test_r[0] = test_err\n",
    "removed = np.zeros(3)\n",
    "for i in range(3):\n",
    "    dr = 100\n",
    "    f = 0\n",
    "    for s in feature_set:\n",
    "        feature_set.remove(s)\n",
    "        train_err,test_err=lr(feature_set,train_X,train_y,test_X,test_y)\n",
    "        print feature_set,train_err,test_err\n",
    "        if train_err-train_r[i]<dr: \n",
    "            dr = train_err-train_r[i]\n",
    "            train_r[i+1] = train_err\n",
    "            test_r[i+1] = test_err\n",
    "            f = s;\n",
    "        feature_set.add(s)\n",
    "    r[i] = train_r[i+1]-train_r[i]\n",
    "    feature_set.remove(f)\n",
    "    removed[i]=f\n",
    "print r,removed\n",
    "plt.plot(np.arange(4),train_r,label='Training Error')\n",
    "plt.plot(np.arange(4),test_r,label = 'Testing Error')\n",
    "plt.xticks(np.arange(4),np.hstack(['NA',rm_order+1]))\n",
    "plt.ylabel('RSS')\n",
    "plt.legend(loc='best')\n",
    "plt.show()"
   ]
  },
  {
   "cell_type": "code",
   "execution_count": 61,
   "metadata": {},
   "outputs": [
    {
     "name": "stdout",
     "output_type": "stream",
     "text": [
      "[[ 0.45733536 -0.95097483]\n",
      " [ 3.28380114 -0.01462054]\n",
      " [-0.96259803  0.3387922 ]\n",
      " [-1.43835987 -0.19374258]]\n",
      "(1000, 5) [[ 0.45733536 -0.95097483]\n",
      " [ 3.28380114 -0.01462054]\n",
      " [-0.96259803  0.3387922 ]\n",
      " [-1.43835987 -0.19374258]]\n"
     ]
    }
   ],
   "source": [
    "probs = np.array([0.5, 0.4, 0.6, 0.4])\n",
    "n = 1000\n",
    "for i,k in enumerate(itertools.product([0,1],repeat=len(probs))):\n",
    "    l = np.prod(probs**np.array(k))*np.prod((1-probs)**(1-np.array(k)))*n+1e-6\n",
    "    l = int(l)\n",
    "    if i==0:X = np.tile(np.array(k),(l,1))\n",
    "    else:X = np.vstack([X,np.tile(np.array(k),(l,1))])\n",
    "\n",
    "X = X[np.random.permutation(n)]\n",
    "\n",
    "z = np.random.randn(n).reshape(n,1)\n",
    "y = np.zeros(n)\n",
    "beta = np.random.randn(4,2)*2\n",
    "print beta\n",
    "X = np.hstack([X,z])\n",
    "# y = z*beta_0+beta_1\n",
    "\n",
    "for i in range(n):\n",
    "    if X[i][0]==0:\n",
    "        if X[i][1]==0: y[i] = beta[0][0]*z[i]+beta[0][1]\n",
    "        else: y[i] = beta[1][0]*z[i]+beta[1][1]\n",
    "    else:\n",
    "        if X[i][1]==0: y[i] = beta[2][0]*z[i]+beta[2][1]\n",
    "        else: y[i] = beta[3][0]*z[i]+beta[3][1]\n",
    "# add noise\n",
    "print X.shape,beta\n",
    "y = y+np.random.randn(n)*0.5\n",
    "train_X = X[:int(n*0.8)]\n",
    "train_y = y[:int(n*0.8)]\n",
    "test_X = X[int(n*0.8):]\n",
    "test_y = y[int(n*0.8):]\n"
   ]
  },
  {
   "cell_type": "code",
   "execution_count": 62,
   "metadata": {},
   "outputs": [
    {
     "name": "stdout",
     "output_type": "stream",
     "text": [
      "(800, 20) ['Z4', 'Z3', 'Z3Z4', 'Z2', 'Z2Z4', 'Z2Z3', 'Z2Z3Z4', 'Z1', 'Z1Z4', 'Z1Z3', 'Z1Z3Z4', 'Z1Z2', 'Z1Z2Z4', 'Z1Z2Z3', 'Z1Z2Z3Z4']\n",
      "[ 0.          0.          1.          1.          0.46088046  0.46088046\n",
      "  0.46088046  0.46088046  0.          0.          0.          0.          0.\n",
      "  0.          0.          0.          0.          0.          0.          0.        ]\n"
     ]
    }
   ],
   "source": [
    "def inter_terms(n,X):\n",
    "    inds = list(itertools.product([0,1],repeat=n))\n",
    "    ind_term = np.array(['Z'+str(i+1) for i in range(n)])\n",
    "    terms = ['Z1','Z2','Z3','Z4','X']\n",
    "    for i in inds:\n",
    "        if i==(0,0,0,0):continue;\n",
    "        terms.append(''.join(ind_term[np.nonzero(np.array(i))[0]]))    \n",
    "        Xprod = np.prod(X[:,np.nonzero(np.array(i))[0]],axis=1)\n",
    "        Xprod = Xprod*X[:,-1]\n",
    "        X = np.hstack([X,Xprod.reshape(-1,1)])\n",
    "    return X,terms[5:]\n",
    "train_X,terms = inter_terms(4,train_X)\n",
    "test_X,terms = inter_terms(4,test_X)\n",
    "print train_X.shape,terms\n",
    "print train_X[0]\n"
   ]
  },
  {
   "cell_type": "code",
   "execution_count": 63,
   "metadata": {},
   "outputs": [
    {
     "name": "stdout",
     "output_type": "stream",
     "text": [
      "10\n"
     ]
    },
    {
     "data": {
      "image/png": "[encoded data removed]",
      "text/plain": [
       "<matplotlib.figure.Figure at 0x7f1db9b20a90>"
      ]
     },
     "metadata": {},
     "output_type": "display_data"
    },
    {
     "name": "stdout",
     "output_type": "stream",
     "text": [
      "['Z4' 'Z3' 'Z3Z4' 'Z2' 'Z2Z4' 'Z2Z3' 'Z2Z3Z4' 'Z1' 'Z1Z4' 'Z1Z3' 'Z1Z3Z4'\n",
      " 'Z1Z2' 'Z1Z2Z4' 'Z1Z2Z3' 'Z1Z2Z3Z4']\n",
      "20\n",
      "15\n",
      "['Z4' 'Z3' 'Z2' 'Z2Z4' 'Z2Z3' 'Z2Z3Z4' 'Z1' 'Z1Z4' 'Z1Z3' 'Z1Z2Z4']\n",
      "20\n",
      "15\n",
      "['Z4' 'Z3' 'Z2' 'Z2Z4' 'Z2Z3' 'Z2Z3Z4' 'Z1' 'Z1Z4' 'Z1Z2Z4' 'Z1Z2Z3'\n",
      " 'Z1Z2Z3Z4']\n",
      "20\n",
      "15\n",
      "['Z4' 'Z3' 'Z2' 'Z2Z4' 'Z2Z3' 'Z1Z4' 'Z1Z3' 'Z1Z3Z4' 'Z1Z2' 'Z1Z2Z4']\n",
      "20\n",
      "15\n",
      "['Z4' 'Z3' 'Z2' 'Z2Z4' 'Z2Z3' 'Z1Z4' 'Z1Z3' 'Z1Z3Z4' 'Z1Z2Z4' 'Z1Z2Z3']\n",
      "20\n",
      "15\n"
     ]
    },
    {
     "ename": "IndexError",
     "evalue": "index 15 is out of bounds for axis 1 with size 15",
     "output_type": "error",
     "traceback": [
      "\u001b[0;31m---------------------------------------------------------------------------\u001b[0m",
      "\u001b[0;31mIndexError\u001b[0m                                Traceback (most recent call last)",
      "\u001b[0;32m<ipython-input-63-7d28fee613ce>\u001b[0m in \u001b[0;36m<module>\u001b[0;34m()\u001b[0m\n\u001b[1;32m     22\u001b[0m     \u001b[0;32mprint\u001b[0m \u001b[0;34m(\u001b[0m\u001b[0mlen\u001b[0m\u001b[0;34m(\u001b[0m\u001b[0mcoeff\u001b[0m\u001b[0;34m)\u001b[0m\u001b[0;34m)\u001b[0m\u001b[0;34m\u001b[0m\u001b[0m\n\u001b[1;32m     23\u001b[0m     \u001b[0;32mprint\u001b[0m \u001b[0mlen\u001b[0m\u001b[0;34m(\u001b[0m\u001b[0mterms\u001b[0m\u001b[0;34m)\u001b[0m\u001b[0;34m\u001b[0m\u001b[0m\n\u001b[0;32m---> 24\u001b[0;31m     \u001b[0;32mprint\u001b[0m \u001b[0mterms\u001b[0m\u001b[0;34m[\u001b[0m\u001b[0mnp\u001b[0m\u001b[0;34m.\u001b[0m\u001b[0mnonzero\u001b[0m\u001b[0;34m(\u001b[0m\u001b[0mcoeff\u001b[0m\u001b[0;34m)\u001b[0m\u001b[0;34m[\u001b[0m\u001b[0;36m0\u001b[0m\u001b[0;34m]\u001b[0m\u001b[0;34m]\u001b[0m\u001b[0;34m\u001b[0m\u001b[0m\n\u001b[0m",
      "\u001b[0;31mIndexError\u001b[0m: index 15 is out of bounds for axis 1 with size 15"
     ]
    }
   ],
   "source": [
    "alphas = np.linspace(0.01,0.1,10)\n",
    "train_err = []\n",
    "test_err = []\n",
    "coeffs = []\n",
    "for a in alphas:\n",
    "    model = linear_model.Lasso(alpha=a)\n",
    "    model.fit(train_X,train_y)\n",
    "    train_err.append(np.mean((model.predict(train_X)-train_y)**2))\n",
    "    test_err.append(np.mean((model.predict(test_X)-test_y)**2))    \n",
    "    coeffs.append(model.coef_)\n",
    "print len(coeffs)\n",
    "\n",
    "plt.plot(alphas,train_err,label = 'Training Error')\n",
    "plt.plot(alphas,test_err,label='Testing Error')\n",
    "plt.legend(loc='best')\n",
    "plt.xlabel('lamdba')\n",
    "plt.ylabel('RSS')\n",
    "plt.show()\n",
    "terms = np.array(terms)\n",
    "print terms\n",
    "for coeff in coeffs:\n",
    "    print (len(coeff))\n",
    "    print len(terms)\n",
    "    print terms[np.nonzero(coeff)[0]]"
   ]
  },
  {
   "cell_type": "code",
   "execution_count": null,
   "metadata": {
    "collapsed": true
   },
   "outputs": [],
   "source": []
  }
 ],
 "metadata": {
  "kernelspec": {
   "display_name": "Python 2",
   "language": "python",
   "name": "python2"
  },
  "language_info": {
   "codemirror_mode": {
    "name": "ipython",
    "version": 2
   },
   "file_extension": ".py",
   "mimetype": "text/x-python",
   "name": "python",
   "nbconvert_exporter": "python",
   "pygments_lexer": "ipython2",
   "version": "2.7.12"
  }
 },
 "nbformat": 4,
 "nbformat_minor": 2
}
