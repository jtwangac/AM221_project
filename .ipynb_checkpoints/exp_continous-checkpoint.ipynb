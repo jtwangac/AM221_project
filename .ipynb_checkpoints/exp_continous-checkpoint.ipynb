{
 "cells": [
  {
   "cell_type": "code",
   "execution_count": 1,
   "metadata": {
    "collapsed": true
   },
   "outputs": [],
   "source": [
    "import numpy as np\n",
    "from sklearn import linear_model\n",
    "import pickle\n",
    "import matplotlib.pyplot as plt\n",
    "import itertools"
   ]
  },
  {
   "cell_type": "markdown",
   "metadata": {},
   "source": [
    "### Experiments with Simulated Data\n",
    "Suppose we have $n=100$ training data points and another $50$ testing data points\n",
    "\n",
    "Discrete Variables $X={X_1,X_2,X_3,X_4}$; $X_i \\in \\{0,1\\}$; $X\\in \\mathcal{R}^{n\\times 4}$\n",
    "\n",
    "Continous Variable $\\mathbf{z}$; $\\mathbf{z} \\in \\mathcal{R}^{n \\times 1}$\n",
    "\n",
    "Continous Target Variable $\\mathbf{y}$; $\\mathbf{y} \\in \\mathcal{R}^{n \\times 1}$\n",
    "\n",
    "True Moderator Variable $X_1,X_2$\n",
    "\n",
    "Data generated :\n",
    "    $$y = z\\beta_i+b_i+\\epsilon$$"
   ]
  },
  {
   "cell_type": "markdown",
   "metadata": {},
   "source": [
    "#### Generating simulation data"
   ]
  },
  {
   "cell_type": "code",
   "execution_count": 10,
   "metadata": {
    "scrolled": false
   },
   "outputs": [
    {
     "name": "stdout",
     "output_type": "stream",
     "text": [
      "(1000000, 3)\n",
      "[[-0.19944129  0.53528902]\n",
      " [-5.30204814  3.14334759]\n",
      " [-1.67857607 -1.94183639]\n",
      " [-0.88784948 -2.75667022]]\n"
     ]
    }
   ],
   "source": [
    "probs = np.array([0.4,0.6,0.5])\n",
    "n = 10**6\n",
    "for i,k in enumerate(itertools.product([0,1],repeat=len(probs))):\n",
    "    l = np.prod(probs**np.array(k))*np.prod((1-probs)**(1-np.array(k)))*n+1e-6\n",
    "    l = int(l)\n",
    "    if i==0:X = np.tile(np.array(k),(l,1))\n",
    "    else:X = np.vstack([X,np.tile(np.array(k),(l,1))])\n",
    "\n",
    "print X.shape\n",
    "X = X[np.random.permutation(n)]\n",
    "# probs = [0.4,0.6,0.4,0.6]\n",
    "# n = 150\n",
    "# X = np.zeros((n,4))\n",
    "# for i,p in enumerate(probs):\n",
    "#     X[:,i]=np.array([np.random.binomial(1,p) for j in range(n)])\n",
    "z = np.random.randn(n).reshape(n,1)\n",
    "y = np.zeros(n)\n",
    "beta = np.random.randn(4,2)*2\n",
    "print beta\n",
    "X = np.hstack([X,z])"
   ]
  },
  {
   "cell_type": "code",
   "execution_count": 11,
   "metadata": {},
   "outputs": [
    {
     "name": "stdout",
     "output_type": "stream",
     "text": [
      "(1000000, 4) [[-0.19944129  0.53528902]\n",
      " [-5.30204814  3.14334759]\n",
      " [-1.67857607 -1.94183639]\n",
      " [-0.88784948 -2.75667022]]\n"
     ]
    }
   ],
   "source": [
    "# y = z*beta_0+beta_1\n",
    "\n",
    "for i in range(n):\n",
    "    if X[i][0]==0:\n",
    "        if X[i][1]==0: y[i] = beta[0][0]*z[i]+beta[0][1]\n",
    "        else: y[i] = beta[1][0]*z[i]+beta[1][1]\n",
    "    else:\n",
    "        if X[i][1]==0: y[i] = beta[2][0]*z[i]+beta[2][1]\n",
    "        else: y[i] = beta[3][0]*z[i]+beta[3][1]\n",
    "# add noise\n",
    "print X.shape,beta\n",
    "y = y+np.random.randn(n)*0.5\n",
    "train_X = X\n",
    "train_y = y\n",
    "test_X = X\n",
    "test_y = y"
   ]
  },
  {
   "cell_type": "code",
   "execution_count": 12,
   "metadata": {
    "collapsed": true
   },
   "outputs": [],
   "source": [
    "# with open('data.pkl','w') as f:\n",
    "#     pickle.dump((features,y),f)\n",
    "# with open('coeff.pkl','w') as f:\n",
    "#     pickle.dump(beta,f)"
   ]
  },
  {
   "cell_type": "code",
   "execution_count": 92,
   "metadata": {},
   "outputs": [],
   "source": [
    "# fit linear regression with given features \n",
    "def lr(features,train_X,train_y,test_X,test_y):\n",
    "\n",
    "    model = linear_model.LinearRegression(fit_intercept=True)\n",
    "    features = np.array(list(features))\n",
    "    n_feature =len(features)\n",
    "    train_err = 0.0\n",
    "    test_err = 0.0\n",
    "    train_vector =np.sum(train_X[:,features]* np.array([2**i for i in range(n_feature)]),axis=1)\n",
    "    test_vector =np.sum(test_X[:,features]* np.array([2**i for i in range(n_feature)]),axis=1)\n",
    "    train_X = train_X[:,-1].reshape(-1,1)\n",
    "    test_X = test_X[:,-1].reshape(-1,1)\n",
    "    for v in range(2**n_feature):\n",
    "        train_idx = np.where(train_vector==v)[0]\n",
    "        test_idx = np.where(test_vector==v)[0]\n",
    "        model.fit(train_X[train_idx],train_y[train_idx])\n",
    "        train_err += np.sum((model.predict(train_X[train_idx])-train_y[train_idx])**2)\n",
    "        if len(test_idx)!=0:\n",
    "            test_err += np.sum((model.predict(train_X[test_idx])-test_y[test_idx])**2)\n",
    "    return train_err/len(train_y),test_err/len(test_y)\n",
    "# print lr(set([2]),train_X,train_y,test_X,test_y)"
   ]
  },
  {
   "cell_type": "code",
   "execution_count": 15,
   "metadata": {},
   "outputs": [
    {
     "name": "stdout",
     "output_type": "stream",
     "text": [
      "X = set([0]); Y=set([0, 1]); x = 2\n",
      "2.13107079086e-06 4.92191024817e-05\n",
      "X = set([1]); Y=set([0, 1]); x = 2\n",
      "2.13107079086e-06 4.29015862267e-05\n",
      "X = set([0]); Y=set([0, 2]); x = 1\n",
      "4.85219288448 4.85223997251\n",
      "X = set([2]); Y=set([0, 2]); x = 1\n",
      "4.85219288448 2.18828341703\n",
      "X = set([1]); Y=set([1, 2]); x = 0\n",
      "8.59559177847 8.59563254899\n",
      "X = set([2]); Y=set([1, 2]); x = 0\n",
      "8.59559177847 5.93168231102\n",
      "True 4 6\n"
     ]
    }
   ],
   "source": [
    "violation = False\n",
    "v = 0\n",
    "t =0\n",
    "for i in range(1):\n",
    "    s_y = list(itertools.combinations(np.arange(3),i+2))\n",
    "    for s in s_y:\n",
    "        s_x = list(itertools.combinations(s,i+1))\n",
    "        comp = set(np.arange(4)).difference(set(s))\n",
    "        for sub_s_x in s_x:\n",
    "            for c in comp:\n",
    "                t+=1\n",
    "                s = set(s)\n",
    "                sub_s_x = set(sub_s_x )\n",
    "                print 'X = {}; Y={}; x = {}'.format(sub_s_x,s,c)\n",
    "                train_err1 = lr(s,train_X,train_y,test_X,test_y)[0]\n",
    "                train_err2 = lr(sub_s_x,train_X,train_y,test_X,test_y)[0]\n",
    "                s.add(c)\n",
    "                sub_s_x.add(c)\n",
    "                print train_err1 - lr(s,train_X,train_y,test_X,test_y)[0],\\\n",
    "                train_err2 - lr(sub_s_x,train_X,train_y,test_X,test_y)[0]\n",
    "                if train_err1 - lr(s,train_X,train_y,test_X,test_y)[0]<train_err2 - lr(sub_s_x,train_X,train_y,test_X,test_y)[0]:\n",
    "                    violation = True\n",
    "                    if violation: v+=1\n",
    "                s.remove(c)\n",
    "                sub_s_x.remove(c)\n",
    "                break\n",
    "    \n",
    "print violation,v,t"
   ]
  },
  {
   "cell_type": "markdown",
   "metadata": {},
   "source": [
    "#### Greedy Algorithm"
   ]
  },
  {
   "cell_type": "code",
   "execution_count": 37,
   "metadata": {},
   "outputs": [
    {
     "name": "stdout",
     "output_type": "stream",
     "text": [
      "0.252525433103 0.252525433103\n",
      "[  1.29609440e+01   4.41534070e+00   3.07554629e-04   3.50190147e-04]\n"
     ]
    },
    {
     "data": {
      "image/png": "[encoded data removed]",
      "text/plain": [
       "<matplotlib.figure.Figure at 0x7feae88aefd0>"
      ]
     },
     "metadata": {},
     "output_type": "display_data"
    }
   ],
   "source": [
    "train_r = np.zeros(4)\n",
    "test_r = np.zeros(4)\n",
    "feature_set = set(np.arange(4))\n",
    "train_err,test_err=lr(feature_set,train_X,train_y,test_X,test_y)\n",
    "print train_err,test_err\n",
    "for i,s in enumerate(feature_set):\n",
    "    feature_set.remove(s)\n",
    "    train_err1,test_err1=lr(feature_set,train_X,train_y,test_X,test_y)\n",
    "    train_r[i] = train_err1-train_err\n",
    "    test_r[i] = test_err1-test_err\n",
    "    feature_set.add(s)\n",
    "print train_r\n",
    "plt.scatter(np.arange(4),train_r,label='Training')\n",
    "plt.scatter(np.arange(4),test_r,label = 'Testing',c = 'red')\n",
    "plt.xticks(np.arange(4),np.arange(4))\n",
    "plt.title('Diminish Return')\n",
    "plt.legend()\n",
    "plt.show()"
   ]
  },
  {
   "cell_type": "markdown",
   "metadata": {},
   "source": [
    "#### Remove feature according to the diminish return"
   ]
  },
  {
   "cell_type": "code",
   "execution_count": 38,
   "metadata": {},
   "outputs": [
    {
     "name": "stdout",
     "output_type": "stream",
     "text": [
      "0.252525433103 0.252525433103\n"
     ]
    },
    {
     "data": {
      "image/png": "[encoded data removed]",
      "text/plain": [
       "<matplotlib.figure.Figure at 0x7feae67820d0>"
      ]
     },
     "metadata": {},
     "output_type": "display_data"
    }
   ],
   "source": [
    "rm_order = np.argsort(train_r)\n",
    "lr_train_err = np.zeros(4)\n",
    "lr_test_err = np.zeros(4)\n",
    "feature_set = set(np.arange(4))\n",
    "train_err,test_err=lr(feature_set,train_X,train_y,test_X,test_y)\n",
    "print train_err,test_err\n",
    "lr_train_err[0] = train_err\n",
    "lr_test_err[0] = test_err\n",
    "for i,s in enumerate(rm_order[:-1]):\n",
    "    feature_set.remove(s)\n",
    "    train_err,test_err=lr(feature_set,train_X,train_y,test_X,test_y)\n",
    "    lr_train_err[i+1] = train_err \n",
    "    lr_test_err[i+1] = test_err\n",
    "plt.plot(np.arange(4),lr_train_err,label='Training Error')\n",
    "plt.plot(np.arange(4),lr_test_err,label = 'Testing Error')\n",
    "plt.xticks(np.arange(4),np.hstack(['NA',rm_order]))\n",
    "plt.xlabel('Removed Feature')\n",
    "plt.legend()\n",
    "plt.show()"
   ]
  },
  {
   "cell_type": "markdown",
   "metadata": {},
   "source": [
    "#### Lasso"
   ]
  },
  {
   "cell_type": "code",
   "execution_count": 40,
   "metadata": {
    "collapsed": true
   },
   "outputs": [],
   "source": [
    "def inter_terms(n,X):\n",
    "    inds = list(itertools.product([0,1],repeat=n))\n",
    "    ind_term = np.array(['X'+str(i+1) for i in range(6)])\n",
    "    terms = []\n",
    "    for i in inds:\n",
    "        terms.append(''.join(ind_term[np.nonzero(np.array(i))[0]]))    \n",
    "        Xprod = np.prod(X[:,np.nonzero(np.array(i))[0]],axis=1)\n",
    "        X = np.hstack([X,Xprod.reshape(-1,1)])\n",
    "    return X,terms[1:]\n",
    "train_X,terms = inter_terms(6,train_X)\n",
    "test_X,terms = inter_terms(6,test_X)"
   ]
  },
  {
   "cell_type": "code",
   "execution_count": 41,
   "metadata": {
    "collapsed": true
   },
   "outputs": [],
   "source": [
    "alphas = np.linspace(0.01,0.5,10)\n",
    "train_err = []\n",
    "test_err = []\n",
    "coeffs = []\n",
    "for a in alphas:\n",
    "    model = linear_model.Lasso(alpha=a)\n",
    "    model.fit(train_X,train_y)\n",
    "    train_err.append(np.mean((model.predict(train_X)-train_y)**2))\n",
    "    test_err.append(np.mean((model.predict(test_X)-test_y)**2))    \n",
    "    coeffs.append(model.coef_)"
   ]
  },
  {
   "cell_type": "code",
   "execution_count": 42,
   "metadata": {},
   "outputs": [
    {
     "data": {
      "image/png": "[encoded data removed]",
      "text/plain": [
       "<matplotlib.figure.Figure at 0x7fd1df731190>"
      ]
     },
     "metadata": {},
     "output_type": "display_data"
    }
   ],
   "source": [
    "plt.plot(alphas,train_err,label = 'Training Error')\n",
    "plt.plot(alphas,test_err,label='Testing Error')\n",
    "plt.legend()\n",
    "plt.show()"
   ]
  },
  {
   "cell_type": "code",
   "execution_count": 43,
   "metadata": {},
   "outputs": [
    {
     "name": "stdout",
     "output_type": "stream",
     "text": [
      "['X6' 'X5' 'X1X4X5X6' 'X1X3' 'X1X3X5' 'X1X3X5X6' 'X1X2X4X5X6']\n",
      "['X6' 'X5' 'X1X4X5X6' 'X1X2X4X5X6']\n",
      "['X6' 'X5' 'X2X4X5X6' 'X1X4X5X6' 'X1X2X4X5X6']\n",
      "['X5' 'X2X4X5X6' 'X1X2X4X5X6']\n",
      "['X5' 'X2X4X5X6' 'X1X2X4X5X6']\n",
      "['X5' 'X2X4X5X6' 'X1X2X4X5X6']\n",
      "['X5' 'X2X4X5X6' 'X1X2X4X5X6']\n",
      "['X5' 'X2X4X5X6' 'X1X2X4X5X6']\n",
      "['X5' 'X2X4X5X6' 'X1X2X4X5X6']\n",
      "['X5' 'X1X2X4X5X6']\n"
     ]
    }
   ],
   "source": [
    "terms = np.array(terms)\n",
    "for coeff in coeffs:\n",
    "    print terms[np.nonzero(coeff)[0]]"
   ]
  },
  {
   "cell_type": "markdown",
   "metadata": {},
   "source": [
    "### Fit with MMR \n",
    "#### True model(including $X_1,X_2$ as moderator):\n",
    "$$y = w_0 X_1+w_1 X_2+w_2Z+w_3ZX_1+w_4ZX_2+w_5ZX_1X_2+b+\\epsilon$$"
   ]
  },
  {
   "cell_type": "code",
   "execution_count": 31,
   "metadata": {
    "collapsed": true
   },
   "outputs": [],
   "source": [
    "from sklearn.linear_model import LinearRegression as lr\n",
    "import matplotlib.pyplot as plt"
   ]
  },
  {
   "cell_type": "code",
   "execution_count": 50,
   "metadata": {},
   "outputs": [
    {
     "name": "stdout",
     "output_type": "stream",
     "text": [
      "[[-1.80749167  1.74274824]\n",
      " [ 1.83346927  2.50955861]\n",
      " [-3.65056916 -1.61338262]\n",
      " [ 0.29304958 -1.32141819]]\n"
     ]
    }
   ],
   "source": [
    "with open('data.pkl','r') as f:\n",
    "    D,y = pickle.load(f)\n",
    "with open('coeff.pkl','r') as f:\n",
    "    true_coeff = pickle.load(f)\n",
    "print true_coeff"
   ]
  },
  {
   "cell_type": "code",
   "execution_count": 67,
   "metadata": {},
   "outputs": [
    {
     "name": "stdout",
     "output_type": "stream",
     "text": [
      "(150, 6)\n"
     ]
    }
   ],
   "source": [
    "#### Reformat data\n",
    "X = np.vstack([D[:,0],D[:,1],D[:,4],D[:,4]*D[:,0],D[:,4]*D[:,1],D[:,4]*D[:,0]*D[:,1]]).T\n",
    "print X.shape"
   ]
  },
  {
   "cell_type": "code",
   "execution_count": 71,
   "metadata": {},
   "outputs": [
    {
     "data": {
      "image/png": "[encoded data removed]",
      "text/plain": [
       "<matplotlib.figure.Figure at 0x7fa42ce9cc50>"
      ]
     },
     "metadata": {},
     "output_type": "display_data"
    }
   ],
   "source": [
    "train_X = X[:100]\n",
    "test_X = X[100:]\n",
    "train_y = y[:100]\n",
    "test_y = y[100:]\n",
    "plt.hist(train_y)\n",
    "plt.show()"
   ]
  },
  {
   "cell_type": "code",
   "execution_count": 74,
   "metadata": {
    "scrolled": false
   },
   "outputs": [
    {
     "name": "stdout",
     "output_type": "stream",
     "text": [
      "Baseline(sample mean):  6.27526373319\n",
      "Training error:  0.206913093859\n",
      "Testing error:  0.239249720806\n"
     ]
    }
   ],
   "source": [
    "model = lr()\n",
    "model.fit(train_X,train_y)\n",
    "print 'Baseline(sample mean):  {}'.format(np.mean((test_y-np.ones(50)*np.mean(train_y))**2))\n",
    "print 'Training error:  {}'.format(np.mean((model.predict(train_X)-train_y)**2))\n",
    "print 'Testing error:  {}'.format(np.mean((model.predict(test_X)-test_y)**2))"
   ]
  },
  {
   "cell_type": "markdown",
   "metadata": {},
   "source": [
    "### Fit with Multiple Linear Regression (including $Xs = {X_1,X_2,X_3,X_4}$ as moderator)\n",
    "We see MLR is overfitting since we include too many features"
   ]
  },
  {
   "cell_type": "code",
   "execution_count": 75,
   "metadata": {
    "collapsed": true
   },
   "outputs": [],
   "source": [
    "from itertools import product"
   ]
  },
  {
   "cell_type": "code",
   "execution_count": 127,
   "metadata": {
    "collapsed": true
   },
   "outputs": [],
   "source": [
    "inds = list(product([0,1],repeat=4))"
   ]
  },
  {
   "cell_type": "code",
   "execution_count": 112,
   "metadata": {
    "scrolled": false
   },
   "outputs": [
    {
     "name": "stdout",
     "output_type": "stream",
     "text": [
      "(150, 20)\n"
     ]
    }
   ],
   "source": [
    "# introducint product terms\n",
    "X = np.copy(D[:,:4])\n",
    "for i in inds:\n",
    "    Xprod = np.prod(D[:,np.nonzero(np.array(i))[0]],axis=1)\n",
    "    X = np.hstack([X,(D[:,-1]*Xprod).reshape(-1,1)])"
   ]
  },
  {
   "cell_type": "code",
   "execution_count": 113,
   "metadata": {},
   "outputs": [
    {
     "data": {
      "image/png": "[encoded data removed]",
      "text/plain": [
       "<matplotlib.figure.Figure at 0x7fa42d13a790>"
      ]
     },
     "metadata": {},
     "output_type": "display_data"
    }
   ],
   "source": [
    "train_X = X[:100]\n",
    "test_X = X[100:]\n",
    "train_y = y[:100]\n",
    "test_y = y[100:]\n",
    "plt.hist(train_y)\n",
    "plt.show()"
   ]
  },
  {
   "cell_type": "markdown",
   "metadata": {},
   "source": [
    "If we include all $X_i$ as indicators, we see multiple linear regression(MLR) is **overfitting** \n",
    "\n",
    "since testing error is almost **twice** as large as training error "
   ]
  },
  {
   "cell_type": "code",
   "execution_count": 114,
   "metadata": {},
   "outputs": [
    {
     "name": "stdout",
     "output_type": "stream",
     "text": [
      "Baseline(sample mean):  6.27526373319\n",
      "Training error:  0.170143148904\n",
      "Testing error:  0.33116661003\n"
     ]
    }
   ],
   "source": [
    "model = lr()\n",
    "model.fit(train_X,train_y)\n",
    "print 'Baseline(sample mean):  {}'.format(np.mean((test_y-np.mean(train_y))**2))\n",
    "print 'Training error:  {}'.format(np.mean((model.predict(train_X)-train_y)**2))\n",
    "print 'Testing error:  {}'.format(np.mean((model.predict(test_X)-test_y)**2))"
   ]
  },
  {
   "cell_type": "markdown",
   "metadata": {},
   "source": [
    "### Fit with Lasso (including $Xs = {X_1,X_2,X_3,X_4}$ as moderator)"
   ]
  },
  {
   "cell_type": "code",
   "execution_count": 115,
   "metadata": {
    "collapsed": true
   },
   "outputs": [],
   "source": [
    "from sklearn import linear_model"
   ]
  },
  {
   "cell_type": "code",
   "execution_count": 143,
   "metadata": {
    "collapsed": true
   },
   "outputs": [],
   "source": [
    "alphas = np.linspace(0.01,0.5,10)\n",
    "train_err = []\n",
    "test_err = []\n",
    "coeffs = []\n",
    "for a in alphas:\n",
    "    model = linear_model.Lasso(alpha=a)\n",
    "    model.fit(train_X,train_y)\n",
    "    train_err.append(np.mean((model.predict(train_X)-train_y)**2))\n",
    "    test_err.append(np.mean((model.predict(test_X)-test_y)**2))    \n",
    "    coeffs.append(model.coef_)"
   ]
  },
  {
   "cell_type": "code",
   "execution_count": 144,
   "metadata": {},
   "outputs": [
    {
     "data": {
      "image/png": "[encoded data removed]",
      "text/plain": [
       "<matplotlib.figure.Figure at 0x7fa42cacaa50>"
      ]
     },
     "metadata": {},
     "output_type": "display_data"
    }
   ],
   "source": [
    "plt.plot(alphas,train_err,label = 'Training Error')\n",
    "plt.plot(alphas,test_err,label='Testing Error')\n",
    "plt.legend()\n",
    "plt.show()"
   ]
  },
  {
   "cell_type": "code",
   "execution_count": 151,
   "metadata": {},
   "outputs": [
    {
     "name": "stdout",
     "output_type": "stream",
     "text": [
      "nonzero product terms:\n",
      "['X1' 'X2' 'X4' 'Z' 'ZX2' 'ZX2X3X4' 'ZX1' 'ZX1X4' 'ZX1X3' 'ZX1X2' 'ZX1X2X4'\n",
      " 'ZX1X2X3X4']\n",
      "['X1' 'X2' 'X4' 'Z' 'ZX2' 'ZX1']\n",
      "['X1' 'X2' 'Z' 'ZX2' 'ZX1']\n",
      "['X1' 'Z' 'ZX2' 'ZX1']\n",
      "['X1' 'Z' 'ZX2' 'ZX1']\n",
      "['X1' 'Z' 'ZX2' 'ZX1']\n",
      "['X1' 'Z' 'ZX2' 'ZX1']\n",
      "['X1' 'Z' 'ZX2' 'ZX1']\n",
      "['X1' 'Z' 'ZX2' 'ZX1']\n",
      "['X1' 'Z' 'ZX2' 'ZX1']\n"
     ]
    }
   ],
   "source": [
    "terms = np.array(['X1','X2','X3','X4','Z','ZX4','ZX3','ZX3X4',\\\n",
    "        'ZX2','ZX2X4','ZX2X3','ZX2X3X4',\\\n",
    "        'ZX1','ZX1X4','ZX1X3','ZX1X3X4',\\\n",
    "        'ZX1X2','ZX1X2X4','ZX1X2X3','ZX1X2X3X4'])\n",
    "print 'nonzero product terms:'\n",
    "for coeff in coeffs:\n",
    "    print terms[np.nonzero(coeff)[0]]"
   ]
  },
  {
   "cell_type": "markdown",
   "metadata": {},
   "source": [
    "#### Diminish Return Test for Submodularity \n",
    "$f(X \\cup \\{x\\})-f(X)\\geq f(Y \\cup \\{x\\})-f(Y)\\quad \\text{if } X\\subseteq Y\\quad x\\in \\Omega \\setminus Y$"
   ]
  },
  {
   "cell_type": "code",
   "execution_count": 97,
   "metadata": {
    "scrolled": false
   },
   "outputs": [
    {
     "name": "stdout",
     "output_type": "stream",
     "text": [
      "(100000, 6)\n"
     ]
    }
   ],
   "source": [
    "# Data generation\n",
    "# Xi ~ Ber(n,pi)\n",
    "\n",
    "probs = np.array([0.5,0.4,0.6,0.4,0.7,0.3])\n",
    "n = 10**5\n",
    "s = 0\n",
    "f = 0\n",
    "for i,k in enumerate(itertools.product([0,1],repeat=len(probs))):\n",
    "    l = np.prod(probs**np.array(k))*np.prod((1-probs)**(1-np.array(k)))*n+1e-6\n",
    "    f+=l\n",
    "    l = int(l)\n",
    "    s+=l\n",
    "    if i==0:X = np.tile(np.array(k),(l,1))\n",
    "    else:X = np.vstack([X,np.tile(np.array(k),(l,1))])\n",
    "print X.shape\n",
    "X = X[np.random.permutation(n)]\n",
    "\n",
    "beta = np.random.randn(4,2)*2\n",
    "y = np.zeros(n)\n",
    "for i in range(n):\n",
    "    if X[i][0]==0:\n",
    "        if X[i][1]==0: y[i] = sum(beta[0][:2]*X[i][:2])+beta[0][1]\n",
    "        else: y[i] = sum(beta[1][:2]*X[i][:2])+beta[1][1]\n",
    "    else:\n",
    "        if X[i][1]==0: y[i] = sum(beta[2][:2]*X[i][:2])+beta[2][1]\n",
    "        else: y[i] = sum(beta[3][:2]**X[i][:2])+beta[3][1]\n",
    "# add noise e~N(0,0.5^2)\n",
    "y = y+np.random.randn(n)*0.5\n",
    "train_X = X#[:int(n*0.8)]\n",
    "test_X = X#[int(n*0.8):]\n",
    "train_y = y#[:int(n*0.8)]\n",
    "test_y = y#[int(n*0.8):]\n"
   ]
  },
  {
   "cell_type": "code",
   "execution_count": 100,
   "metadata": {
    "scrolled": false
   },
   "outputs": [
    {
     "name": "stdout",
     "output_type": "stream",
     "text": [
      "X = set([0, 1]); Y=set([0, 1, 2]); x = 3\n",
      "1.77227286642e-05 1.07187107628e-05\n",
      "X = set([0, 1]); Y=set([0, 1, 2]); x = 4\n",
      "2.50321215367e-05 8.44258762428e-06\n",
      "X = set([0, 1]); Y=set([0, 1, 2]); x = 5\n",
      "2.4126521731e-05 1.21951469684e-05\n",
      "X = set([0, 2]); Y=set([0, 1, 2]); x = 3\n",
      "1.77227286642e-05 8.76982397813e-06\n",
      "X = set([0, 2]); Y=set([0, 1, 2]); x = 4\n",
      "2.50321215367e-05 1.12869301869e-05\n",
      "X = set([0, 2]); Y=set([0, 1, 2]); x = 5\n",
      "2.4126521731e-05 1.58195725697e-05\n",
      "X = set([1, 2]); Y=set([0, 1, 2]); x = 3\n",
      "1.77227286642e-05 1.34333431259e-05\n",
      "X = set([1, 2]); Y=set([0, 1, 2]); x = 4\n",
      "2.50321215367e-05 1.53280289686e-05\n",
      "X = set([1, 2]); Y=set([0, 1, 2]); x = 5\n",
      "2.4126521731e-05 1.92385515623e-05\n",
      "X = set([0, 1]); Y=set([0, 1, 3]); x = 2\n",
      "9.6910694545e-06 2.68705155312e-06\n",
      "X = set([0, 1]); Y=set([0, 1, 3]); x = 4\n",
      "1.61124652249e-05 8.44258762428e-06\n",
      "X = set([0, 1]); Y=set([0, 1, 3]); x = 5\n",
      "3.47493938125e-05 1.21951469684e-05\n",
      "X = set([0, 3]); Y=set([0, 1, 3]); x = 2\n",
      "9.6910694545e-06 1.13231416154e-06\n",
      "X = set([0, 3]); Y=set([0, 1, 3]); x = 4\n",
      "1.61124652249e-05 1.03600173853e-05\n",
      "X = set([0, 3]); Y=set([0, 1, 3]); x = 5\n",
      "3.47493938125e-05 2.41845639808e-05\n",
      "X = set([1, 3]); Y=set([0, 1, 3]); x = 2\n",
      "9.6910694545e-06 5.80950476664e-06\n",
      "X = set([1, 3]); Y=set([0, 1, 3]); x = 4\n",
      "1.61124652249e-05 1.27664472159e-05\n",
      "X = set([1, 3]); Y=set([0, 1, 3]); x = 5\n",
      "3.47493938125e-05 2.17764066656e-05\n",
      "X = set([0, 1]); Y=set([0, 1, 4]); x = 2\n",
      "1.92765854656e-05 2.68705155312e-06\n",
      "X = set([0, 1]); Y=set([0, 1, 4]); x = 3\n",
      "1.83885883634e-05 1.07187107628e-05\n",
      "X = set([0, 1]); Y=set([0, 1, 4]); x = 5\n",
      "3.8061271264e-05 1.21951469684e-05\n",
      "X = set([0, 4]); Y=set([0, 1, 4]); x = 2\n",
      "1.92765854656e-05 6.79084849775e-06\n",
      "X = set([0, 4]); Y=set([0, 1, 4]); x = 3\n",
      "1.83885883634e-05 1.35014455127e-05\n",
      "X = set([0, 4]); Y=set([0, 1, 4]); x = 5\n",
      "3.8061271264e-05 2.99242534179e-05\n",
      "X = set([1, 4]); Y=set([0, 1, 4]); x = 2\n",
      "1.92765854656e-05 1.00893626956e-05\n",
      "X = set([1, 4]); Y=set([0, 1, 4]); x = 3\n",
      "1.83885883634e-05 1.51516193021e-05\n",
      "X = set([1, 4]); Y=set([0, 1, 4]); x = 5\n",
      "3.8061271264e-05 2.42075550355e-05\n",
      "X = set([0, 1]); Y=set([0, 1, 5]); x = 2\n",
      "1.46184263158e-05 2.68705155312e-06\n",
      "X = set([0, 1]); Y=set([0, 1, 5]); x = 3\n",
      "3.32729576069e-05 1.07187107628e-05\n",
      "X = set([0, 1]); Y=set([0, 1, 5]); x = 4\n",
      "3.43087119199e-05 8.44258762428e-06\n",
      "X = set([0, 5]); Y=set([0, 1, 5]); x = 2\n",
      "1.46184263158e-05 7.38902644892e-06\n",
      "X = set([0, 5]); Y=set([0, 1, 5]); x = 3\n",
      "3.32729576069e-05 2.33915276766e-05\n",
      "X = set([0, 5]); Y=set([0, 1, 5]); x = 4\n",
      "3.43087119199e-05 2.59897889863e-05\n",
      "X = set([1, 5]); Y=set([0, 1, 5]); x = 2\n",
      "1.46184263158e-05 8.50745425535e-06\n",
      "X = set([1, 5]); Y=set([0, 1, 5]); x = 3\n",
      "3.32729576069e-05 1.8669147718e-05\n",
      "X = set([1, 5]); Y=set([0, 1, 5]); x = 4\n",
      "3.43087119199e-05 1.87151240016e-05\n",
      "X = set([0, 2]); Y=set([0, 2, 3]); x = 1\n",
      "2.11825994497 2.11825099206\n",
      "X = set([0, 2]); Y=set([0, 2, 3]); x = 4\n",
      "2.34309849811e-05 1.12869301869e-05\n",
      "X = set([0, 2]); Y=set([0, 2, 3]); x = 5\n",
      "4.24618145676e-05 1.58195725697e-05\n",
      "X = set([0, 3]); Y=set([0, 2, 3]); x = 1\n",
      "2.11825994497 2.11825138621\n",
      "X = set([0, 3]); Y=set([0, 2, 3]); x = 4\n",
      "2.34309849811e-05 1.03600173853e-05\n",
      "X = set([0, 3]); Y=set([0, 2, 3]); x = 5\n",
      "4.24618145676e-05 2.41845639808e-05\n",
      "X = set([2, 3]); Y=set([0, 2, 3]); x = 1\n",
      "2.11825994497 2.10159354095\n",
      "X = set([2, 3]); Y=set([0, 2, 3]); x = 4\n",
      "2.34309849811e-05 2.191426583e-05\n",
      "X = set([2, 3]); Y=set([0, 2, 3]); x = 5\n",
      "4.24618145676e-05 2.83370718663e-05\n",
      "X = set([0, 2]); Y=set([0, 2, 4]); x = 1\n",
      "2.11826473726 2.11825099206\n",
      "X = set([0, 2]); Y=set([0, 2, 4]); x = 3\n",
      "2.09138787723e-05 8.76982397813e-06\n",
      "X = set([0, 2]); Y=set([0, 2, 4]); x = 5\n",
      "3.67365708049e-05 1.58195725697e-05\n",
      "X = set([0, 4]); Y=set([0, 2, 4]); x = 1\n",
      "2.11826473726 2.11825225152\n",
      "X = set([0, 4]); Y=set([0, 2, 4]); x = 3\n",
      "2.09138787723e-05 1.35014455127e-05\n",
      "X = set([0, 4]); Y=set([0, 2, 4]); x = 5\n",
      "3.67365708049e-05 2.99242534179e-05\n",
      "X = set([2, 4]); Y=set([0, 2, 4]); x = 1\n",
      "2.11826473726 2.10159349983\n",
      "X = set([2, 4]); Y=set([0, 2, 4]); x = 3\n",
      "2.09138787723e-05 1.99784601191e-05\n",
      "X = set([2, 4]); Y=set([0, 2, 4]); x = 5\n",
      "3.67365708049e-05 2.49606215186e-05\n",
      "X = set([0, 2]); Y=set([0, 2, 5]); x = 1\n",
      "2.11825929901 2.11825099206\n",
      "X = set([0, 2]); Y=set([0, 2, 5]); x = 3\n",
      "3.5412065976e-05 8.76982397813e-06\n",
      "X = set([0, 2]); Y=set([0, 2, 5]); x = 4\n",
      "3.22039284222e-05 1.12869301869e-05\n",
      "X = set([0, 5]); Y=set([0, 2, 5]); x = 1\n",
      "2.11825929901 2.11825206961\n",
      "X = set([0, 5]); Y=set([0, 2, 5]); x = 3\n",
      "3.5412065976e-05 2.33915276766e-05\n",
      "X = set([0, 5]); Y=set([0, 2, 5]); x = 4\n",
      "3.22039284222e-05 2.59897889863e-05\n",
      "X = set([2, 5]); Y=set([0, 2, 5]); x = 1\n",
      "2.11825929901 2.10159478935\n",
      "X = set([2, 5]); Y=set([0, 2, 5]); x = 3\n",
      "3.5412065976e-05 2.3780254879e-05\n",
      "X = set([2, 5]); Y=set([0, 2, 5]); x = 4\n",
      "3.22039284222e-05 2.23396102421e-05\n",
      "X = set([0, 3]); Y=set([0, 3, 4]); x = 1\n",
      "2.11825713866 2.11825138621\n",
      "X = set([0, 3]); Y=set([0, 3, 4]); x = 2\n",
      "1.42032817574e-05 1.13231416154e-06\n",
      "X = set([0, 3]); Y=set([0, 3, 4]); x = 5\n",
      "5.01303760569e-05 2.41845639808e-05\n",
      "X = set([0, 4]); Y=set([0, 3, 4]); x = 1\n",
      "2.11825713866 2.11825225152\n",
      "X = set([0, 4]); Y=set([0, 3, 4]); x = 2\n",
      "1.42032817574e-05 6.79084849775e-06\n",
      "X = set([0, 4]); Y=set([0, 3, 4]); x = 5\n",
      "5.01303760569e-05 2.99242534179e-05\n",
      "X = set([3, 4]); Y=set([0, 3, 4]); x = 1\n",
      "2.11825713866 2.10159145475\n",
      "X = set([3, 4]); Y=set([0, 3, 4]); x = 2\n",
      "1.42032817574e-05 1.28711161649e-05\n",
      "X = set([3, 4]); Y=set([0, 3, 4]); x = 5\n",
      "5.01303760569e-05 3.23916663594e-05\n",
      "X = set([0, 3]); Y=set([0, 3, 5]); x = 1\n",
      "2.11826195104 2.11825138621\n",
      "X = set([0, 3]); Y=set([0, 3, 5]); x = 2\n",
      "1.94095647483e-05 1.13231416154e-06\n",
      "X = set([0, 3]); Y=set([0, 3, 5]); x = 4\n",
      "3.63058294615e-05 1.03600173853e-05\n",
      "X = set([0, 5]); Y=set([0, 3, 5]); x = 1\n",
      "2.11826195104 2.11825206961\n",
      "X = set([0, 5]); Y=set([0, 3, 5]); x = 2\n",
      "1.94095647483e-05 7.38902644892e-06\n",
      "X = set([0, 5]); Y=set([0, 3, 5]); x = 4\n",
      "3.63058294615e-05 2.59897889863e-05\n",
      "X = set([3, 5]); Y=set([0, 3, 5]); x = 1\n",
      "2.11826195104 2.10159069977\n",
      "X = set([3, 5]); Y=set([0, 3, 5]); x = 2\n",
      "1.94095647483e-05 9.52898632978e-06\n",
      "X = set([3, 5]); Y=set([0, 3, 5]); x = 4\n",
      "3.63058294615e-05 2.26267304879e-05\n",
      "X = set([0, 4]); Y=set([0, 4, 5]); x = 1\n",
      "2.11826038854 2.11825225152\n",
      "X = set([0, 4]); Y=set([0, 4, 5]); x = 2\n",
      "1.36031658848e-05 6.79084849775e-06\n",
      "X = set([0, 4]); Y=set([0, 4, 5]); x = 3\n",
      "3.37075681518e-05 1.35014455127e-05\n",
      "X = set([0, 5]); Y=set([0, 4, 5]); x = 1\n",
      "2.11826038854 2.11825206961\n",
      "X = set([0, 5]); Y=set([0, 4, 5]); x = 2\n",
      "1.36031658848e-05 7.38902644892e-06\n",
      "X = set([0, 5]); Y=set([0, 4, 5]); x = 3\n",
      "3.37075681518e-05 2.33915276766e-05\n",
      "X = set([4, 5]); Y=set([0, 4, 5]); x = 1\n",
      "2.11826038854 2.10159248298\n",
      "X = set([4, 5]); Y=set([0, 4, 5]); x = 2\n",
      "1.36031658848e-05 9.82557823725e-06\n",
      "X = set([4, 5]); Y=set([0, 4, 5]); x = 3\n",
      "3.37075681518e-05 2.43639670323e-05\n",
      "X = set([1, 2]); Y=set([1, 2, 3]); x = 0\n",
      "0.0325185369914 0.0325142476059\n",
      "X = set([1, 2]); Y=set([1, 2, 3]); x = 4\n",
      "3.1779061122e-05 1.53280289686e-05\n",
      "X = set([1, 2]); Y=set([1, 2, 3]); x = 5\n",
      "3.57648092779e-05 1.92385515623e-05\n",
      "X = set([1, 3]); Y=set([1, 2, 3]); x = 0\n",
      "0.0325185369914 0.0325146554267\n",
      "X = set([1, 3]); Y=set([1, 2, 3]); x = 4\n",
      "3.1779061122e-05 1.27664472159e-05\n",
      "X = set([1, 3]); Y=set([1, 2, 3]); x = 5\n",
      "3.57648092779e-05 2.17764066656e-05\n",
      "X = set([2, 3]); Y=set([1, 2, 3]); x = 0\n",
      "0.0325185369914 0.0158521329773\n",
      "X = set([2, 3]); Y=set([1, 2, 3]); x = 4\n",
      "3.1779061122e-05 2.191426583e-05\n",
      "X = set([2, 3]); Y=set([1, 2, 3]); x = 5\n",
      "3.57648092779e-05 2.83370718663e-05\n",
      "X = set([1, 2]); Y=set([1, 2, 4]); x = 0\n",
      "0.0325239516985 0.0325142476059\n",
      "X = set([1, 2]); Y=set([1, 2, 4]); x = 3\n",
      "2.98843752792e-05 1.34333431259e-05\n",
      "X = set([1, 2]); Y=set([1, 2, 4]); x = 5\n",
      "3.21179752952e-05 1.92385515623e-05\n",
      "X = set([1, 4]); Y=set([1, 2, 4]); x = 0\n",
      "0.0325239516985 0.0325147644757\n",
      "X = set([1, 4]); Y=set([1, 2, 4]); x = 3\n",
      "2.98843752792e-05 1.51516193021e-05\n",
      "X = set([1, 4]); Y=set([1, 2, 4]); x = 5\n",
      "3.21179752952e-05 2.42075550355e-05\n",
      "X = set([2, 4]); Y=set([1, 2, 4]); x = 0\n",
      "0.0325239516985 0.0158527142778\n",
      "X = set([2, 4]); Y=set([1, 2, 4]); x = 3\n",
      "2.98843752792e-05 1.99784601191e-05\n",
      "X = set([2, 4]); Y=set([1, 2, 4]); x = 5\n",
      "3.21179752952e-05 2.49606215186e-05\n",
      "X = set([1, 2]); Y=set([1, 2, 5]); x = 0\n",
      "0.0325191355761 0.0325142476059\n",
      "X = set([1, 2]); Y=set([1, 2, 5]); x = 3\n",
      "2.99596008415e-05 1.34333431259e-05\n"
     ]
    },
    {
     "name": "stdout",
     "output_type": "stream",
     "text": [
      "X = set([1, 2]); Y=set([1, 2, 5]); x = 4\n",
      "2.82074527016e-05 1.53280289686e-05\n",
      "X = set([1, 5]); Y=set([1, 2, 5]); x = 0\n",
      "0.0325191355761 0.032513024604\n",
      "X = set([1, 5]); Y=set([1, 2, 5]); x = 3\n",
      "2.99596008415e-05 1.8669147718e-05\n",
      "X = set([1, 5]); Y=set([1, 2, 5]); x = 4\n",
      "2.82074527016e-05 1.87151240016e-05\n",
      "X = set([2, 5]); Y=set([1, 2, 5]); x = 0\n",
      "0.0325191355761 0.0158546259089\n",
      "X = set([2, 5]); Y=set([1, 2, 5]); x = 3\n",
      "2.99596008415e-05 2.3780254879e-05\n",
      "X = set([2, 5]); Y=set([1, 2, 5]); x = 4\n",
      "2.82074527016e-05 2.23396102421e-05\n",
      "X = set([1, 3]); Y=set([1, 3, 4]); x = 0\n",
      "0.0325180014448 0.0325146554267\n",
      "X = set([1, 3]); Y=set([1, 3, 4]); x = 2\n",
      "2.48221186727e-05 5.80950476664e-06\n",
      "X = set([1, 3]); Y=set([1, 3, 4]); x = 5\n",
      "4.05586190254e-05 2.17764066656e-05\n",
      "X = set([1, 4]); Y=set([1, 3, 4]); x = 0\n",
      "0.0325180014448 0.0325147644757\n",
      "X = set([1, 4]); Y=set([1, 3, 4]); x = 2\n",
      "2.48221186727e-05 1.00893626956e-05\n",
      "X = set([1, 4]); Y=set([1, 3, 4]); x = 5\n",
      "4.05586190254e-05 2.42075550355e-05\n",
      "X = set([3, 4]); Y=set([1, 3, 4]); x = 0\n",
      "0.0325180014448 0.0158523175308\n",
      "X = set([3, 4]); Y=set([1, 3, 4]); x = 2\n",
      "2.48221186727e-05 1.28711161649e-05\n",
      "X = set([3, 4]); Y=set([1, 3, 4]); x = 5\n",
      "4.05586190254e-05 3.23916663594e-05\n",
      "X = set([1, 3]); Y=set([1, 3, 5]); x = 0\n",
      "0.0325276284139 0.0325146554267\n",
      "X = set([1, 3]); Y=set([1, 3, 5]); x = 2\n",
      "1.97979073789e-05 5.80950476664e-06\n",
      "X = set([1, 3]); Y=set([1, 3, 5]); x = 4\n",
      "3.15486595756e-05 1.27664472159e-05\n",
      "X = set([1, 5]); Y=set([1, 3, 5]); x = 0\n",
      "0.0325276284139 0.032513024604\n",
      "X = set([1, 5]); Y=set([1, 3, 5]); x = 2\n",
      "1.97979073789e-05 8.50745425535e-06\n",
      "X = set([1, 5]); Y=set([1, 3, 5]); x = 4\n",
      "3.15486595756e-05 1.87151240016e-05\n",
      "X = set([3, 5]); Y=set([1, 3, 5]); x = 0\n",
      "0.0325276284139 0.0158563771415\n",
      "X = set([3, 5]); Y=set([1, 3, 5]); x = 2\n",
      "1.97979073789e-05 9.52898632978e-06\n",
      "X = set([3, 5]); Y=set([1, 3, 5]); x = 4\n",
      "3.15486595756e-05 2.26267304879e-05\n",
      "X = set([1, 4]); Y=set([1, 4, 5]); x = 0\n",
      "0.0325286181919 0.0325147644757\n",
      "X = set([1, 4]); Y=set([1, 4, 5]); x = 2\n",
      "1.79997829554e-05 1.00893626956e-05\n",
      "X = set([1, 4]); Y=set([1, 4, 5]); x = 3\n",
      "3.1502683292e-05 1.51516193021e-05\n",
      "X = set([1, 5]); Y=set([1, 4, 5]); x = 0\n",
      "0.0325286181919 0.032513024604\n",
      "X = set([1, 5]); Y=set([1, 4, 5]); x = 2\n",
      "1.79997829554e-05 8.50745425535e-06\n",
      "X = set([1, 5]); Y=set([1, 4, 5]); x = 3\n",
      "3.1502683292e-05 1.8669147718e-05\n",
      "X = set([4, 5]); Y=set([1, 4, 5]); x = 0\n",
      "0.0325286181919 0.0158607126394\n",
      "X = set([4, 5]); Y=set([1, 4, 5]); x = 2\n",
      "1.79997829554e-05 9.82557823725e-06\n",
      "X = set([4, 5]); Y=set([1, 4, 5]); x = 3\n",
      "3.1502683292e-05 2.43639670323e-05\n",
      "X = set([2, 3]); Y=set([2, 3, 4]); x = 0\n",
      "0.0158536496964 0.0158521329773\n",
      "X = set([2, 3]); Y=set([2, 3, 4]); x = 1\n",
      "2.10160340575 2.10159354095\n",
      "X = set([2, 3]); Y=set([2, 3, 4]); x = 5\n",
      "4.2247034294e-05 2.83370718663e-05\n",
      "X = set([2, 4]); Y=set([2, 3, 4]); x = 0\n",
      "0.0158536496964 0.0158527142778\n",
      "X = set([2, 4]); Y=set([2, 3, 4]); x = 1\n",
      "2.10160340575 2.10159349983\n",
      "X = set([2, 4]); Y=set([2, 3, 4]); x = 5\n",
      "4.2247034294e-05 2.49606215186e-05\n",
      "X = set([3, 4]); Y=set([2, 3, 4]); x = 0\n",
      "0.0158536496964 0.0158523175308\n",
      "X = set([3, 4]); Y=set([2, 3, 4]); x = 1\n",
      "2.10160340575 2.10159145475\n",
      "X = set([3, 4]); Y=set([2, 3, 4]); x = 5\n",
      "4.2247034294e-05 3.23916663594e-05\n",
      "X = set([2, 3]); Y=set([2, 3, 5]); x = 0\n",
      "0.01586625772 0.0158521329773\n",
      "X = set([2, 3]); Y=set([2, 3, 5]); x = 1\n",
      "2.10160096869 2.10159354095\n",
      "X = set([2, 3]); Y=set([2, 3, 5]); x = 4\n",
      "3.58242282577e-05 2.191426583e-05\n",
      "X = set([2, 5]); Y=set([2, 3, 5]); x = 0\n",
      "0.01586625772 0.0158546259089\n",
      "X = set([2, 5]); Y=set([2, 3, 5]); x = 1\n",
      "2.10160096869 2.10159478935\n",
      "X = set([2, 5]); Y=set([2, 3, 5]); x = 4\n",
      "3.58242282577e-05 2.23396102421e-05\n",
      "X = set([3, 5]); Y=set([2, 3, 5]); x = 0\n",
      "0.01586625772 0.0158563771415\n",
      "X = set([3, 5]); Y=set([2, 3, 5]); x = 1\n",
      "2.10160096869 2.10159069977\n",
      "X = set([3, 5]); Y=set([2, 3, 5]); x = 4\n",
      "3.58242282577e-05 2.26267304879e-05\n",
      "X = set([2, 4]); Y=set([2, 4, 5]); x = 0\n",
      "0.015864490227 0.0158527142778\n",
      "X = set([2, 4]); Y=set([2, 4, 5]); x = 1\n",
      "2.10160065719 2.10159349983\n",
      "X = set([2, 4]); Y=set([2, 4, 5]); x = 3\n",
      "3.72648728946e-05 1.99784601191e-05\n",
      "X = set([2, 5]); Y=set([2, 4, 5]); x = 0\n",
      "0.015864490227 0.0158546259089\n",
      "X = set([2, 5]); Y=set([2, 4, 5]); x = 1\n",
      "2.10160065719 2.10159478935\n",
      "X = set([2, 5]); Y=set([2, 4, 5]); x = 3\n",
      "3.72648728946e-05 2.3780254879e-05\n",
      "X = set([4, 5]); Y=set([2, 4, 5]); x = 0\n",
      "0.015864490227 0.0158607126394\n",
      "X = set([4, 5]); Y=set([2, 4, 5]); x = 1\n",
      "2.10160065719 2.10159248298\n",
      "X = set([4, 5]); Y=set([2, 4, 5]); x = 3\n",
      "3.72648728946e-05 2.43639670323e-05\n",
      "X = set([3, 4]); Y=set([3, 4, 5]); x = 0\n",
      "0.0158700562405 0.0158523175308\n",
      "X = set([3, 4]); Y=set([3, 4, 5]); x = 1\n",
      "2.1015996217 2.10159145475\n",
      "X = set([3, 4]); Y=set([3, 4, 5]); x = 2\n",
      "2.27264840995e-05 1.28711161649e-05\n",
      "X = set([3, 5]); Y=set([3, 4, 5]); x = 0\n",
      "0.0158700562405 0.0158563771415\n",
      "X = set([3, 5]); Y=set([3, 4, 5]); x = 1\n",
      "2.1015996217 2.10159069977\n",
      "X = set([3, 5]); Y=set([3, 4, 5]); x = 2\n",
      "2.27264840995e-05 9.52898632978e-06\n",
      "X = set([4, 5]); Y=set([3, 4, 5]); x = 0\n",
      "0.0158700562405 0.0158607126394\n",
      "X = set([4, 5]); Y=set([3, 4, 5]); x = 1\n",
      "2.1015996217 2.10159248298\n",
      "X = set([4, 5]); Y=set([3, 4, 5]); x = 2\n",
      "2.27264840995e-05 9.82557823725e-06\n",
      "X = set([0, 1, 2]); Y=set([0, 1, 2, 3]); x = 4\n",
      "4.38129134848e-05 2.50321215367e-05\n",
      "X = set([0, 1, 2]); Y=set([0, 1, 2, 3]); x = 5\n",
      "6.71545573019e-05 2.4126521731e-05\n",
      "X = set([0, 1, 3]); Y=set([0, 1, 2, 3]); x = 4\n",
      "4.38129134848e-05 1.61124652249e-05\n",
      "X = set([0, 1, 3]); Y=set([0, 1, 2, 3]); x = 5\n",
      "6.71545573019e-05 3.47493938125e-05\n",
      "X = set([0, 2, 3]); Y=set([0, 1, 2, 3]); x = 4\n",
      "4.38129134848e-05 2.34309849811e-05\n",
      "X = set([0, 2, 3]); Y=set([0, 1, 2, 3]); x = 5\n",
      "6.71545573019e-05 4.24618145676e-05\n",
      "X = set([1, 2, 3]); Y=set([0, 1, 2, 3]); x = 4\n",
      "4.38129134848e-05 3.1779061122e-05\n",
      "X = set([1, 2, 3]); Y=set([0, 1, 2, 3]); x = 5\n",
      "6.71545573019e-05 3.57648092779e-05\n",
      "X = set([0, 1, 2]); Y=set([0, 1, 2, 4]); x = 3\n",
      "3.65035206123e-05 1.77227286642e-05\n",
      "X = set([0, 1, 2]); Y=set([0, 1, 2, 4]); x = 5\n",
      "5.21874461553e-05 2.4126521731e-05\n",
      "X = set([0, 1, 4]); Y=set([0, 1, 2, 4]); x = 3\n",
      "3.65035206123e-05 1.83885883634e-05\n",
      "X = set([0, 1, 4]); Y=set([0, 1, 2, 4]); x = 5\n",
      "5.21874461553e-05 3.8061271264e-05\n",
      "X = set([0, 2, 4]); Y=set([0, 1, 2, 4]); x = 3\n",
      "3.65035206123e-05 2.09138787723e-05\n",
      "X = set([0, 2, 4]); Y=set([0, 1, 2, 4]); x = 5\n",
      "5.21874461553e-05 3.67365708049e-05\n",
      "X = set([1, 2, 4]); Y=set([0, 1, 2, 4]); x = 3\n",
      "3.65035206123e-05 2.98843752792e-05\n",
      "X = set([1, 2, 4]); Y=set([0, 1, 2, 4]); x = 5\n",
      "5.21874461553e-05 3.21179752952e-05\n",
      "X = set([0, 1, 2]); Y=set([0, 1, 2, 5]); x = 3\n",
      "6.07507642351e-05 1.77227286642e-05\n",
      "X = set([0, 1, 2]); Y=set([0, 1, 2, 5]); x = 4\n",
      "5.3093045961e-05 2.50321215367e-05\n",
      "X = set([0, 1, 5]); Y=set([0, 1, 2, 5]); x = 3\n",
      "6.07507642351e-05 3.32729576069e-05\n",
      "X = set([0, 1, 5]); Y=set([0, 1, 2, 5]); x = 4\n",
      "5.3093045961e-05 3.43087119199e-05\n",
      "X = set([0, 2, 5]); Y=set([0, 1, 2, 5]); x = 3\n",
      "6.07507642351e-05 3.5412065976e-05\n",
      "X = set([0, 2, 5]); Y=set([0, 1, 2, 5]); x = 4\n",
      "5.3093045961e-05 3.22039284222e-05\n",
      "X = set([1, 2, 5]); Y=set([0, 1, 2, 5]); x = 3\n",
      "6.07507642351e-05 2.99596008415e-05\n",
      "X = set([1, 2, 5]); Y=set([0, 1, 2, 5]); x = 4\n",
      "5.3093045961e-05 2.82074527016e-05\n",
      "X = set([0, 1, 3]); Y=set([0, 1, 3, 4]); x = 2\n",
      "3.73915177144e-05 9.6910694545e-06\n",
      "X = set([0, 1, 3]); Y=set([0, 1, 3, 4]); x = 5\n",
      "7.05547767672e-05 3.47493938125e-05\n",
      "X = set([0, 1, 4]); Y=set([0, 1, 3, 4]); x = 2\n",
      "3.73915177144e-05 1.92765854656e-05\n",
      "X = set([0, 1, 4]); Y=set([0, 1, 3, 4]); x = 5\n",
      "7.05547767672e-05 3.8061271264e-05\n",
      "X = set([0, 3, 4]); Y=set([0, 1, 3, 4]); x = 2\n",
      "3.73915177144e-05 1.42032817574e-05\n",
      "X = set([0, 3, 4]); Y=set([0, 1, 3, 4]); x = 5\n",
      "7.05547767672e-05 5.01303760569e-05\n",
      "X = set([1, 3, 4]); Y=set([0, 1, 3, 4]); x = 2\n",
      "3.73915177144e-05 2.48221186727e-05\n",
      "X = set([1, 3, 4]); Y=set([0, 1, 3, 4]); x = 5\n",
      "7.05547767672e-05 4.05586190254e-05\n",
      "X = set([0, 1, 3]); Y=set([0, 1, 3, 5]); x = 2\n",
      "4.20962329439e-05 9.6910694545e-06\n",
      "X = set([0, 1, 3]); Y=set([0, 1, 3, 5]); x = 4\n",
      "5.19178481797e-05 1.61124652249e-05\n",
      "X = set([0, 1, 5]); Y=set([0, 1, 3, 5]); x = 2\n",
      "4.20962329439e-05 1.46184263158e-05\n",
      "X = set([0, 1, 5]); Y=set([0, 1, 3, 5]); x = 4\n",
      "5.19178481797e-05 3.43087119199e-05\n",
      "X = set([0, 3, 5]); Y=set([0, 1, 3, 5]); x = 2\n",
      "4.20962329439e-05 1.94095647483e-05\n"
     ]
    },
    {
     "name": "stdout",
     "output_type": "stream",
     "text": [
      "X = set([0, 3, 5]); Y=set([0, 1, 3, 5]); x = 4\n",
      "5.19178481797e-05 3.63058294615e-05\n",
      "X = set([1, 3, 5]); Y=set([0, 1, 3, 5]); x = 2\n",
      "4.20962329439e-05 1.97979073789e-05\n",
      "X = set([1, 3, 5]); Y=set([0, 1, 3, 5]); x = 4\n",
      "5.19178481797e-05 3.15486595756e-05\n",
      "X = set([0, 1, 4]); Y=set([0, 1, 4, 5]); x = 2\n",
      "3.34027603569e-05 1.92765854656e-05\n",
      "X = set([0, 1, 4]); Y=set([0, 1, 4, 5]); x = 3\n",
      "5.08820938667e-05 1.83885883634e-05\n",
      "X = set([0, 1, 5]); Y=set([0, 1, 4, 5]); x = 2\n",
      "3.34027603569e-05 1.46184263158e-05\n",
      "X = set([0, 1, 5]); Y=set([0, 1, 4, 5]); x = 3\n",
      "5.08820938667e-05 3.32729576069e-05\n",
      "X = set([0, 4, 5]); Y=set([0, 1, 4, 5]); x = 2\n",
      "3.34027603569e-05 1.36031658848e-05\n",
      "X = set([0, 4, 5]); Y=set([0, 1, 4, 5]); x = 3\n",
      "5.08820938667e-05 3.37075681518e-05\n",
      "X = set([1, 4, 5]); Y=set([0, 1, 4, 5]); x = 2\n",
      "3.34027603569e-05 1.79997829554e-05\n",
      "X = set([1, 4, 5]); Y=set([0, 1, 4, 5]); x = 3\n",
      "5.08820938667e-05 3.1502683292e-05\n",
      "X = set([0, 2, 3]); Y=set([0, 2, 3, 4]); x = 1\n",
      "2.1182803269 2.11825994497\n",
      "X = set([0, 2, 3]); Y=set([0, 2, 3, 4]); x = 5\n",
      "6.94285423197e-05 4.24618145676e-05\n",
      "X = set([0, 2, 4]); Y=set([0, 2, 3, 4]); x = 1\n",
      "2.1182803269 2.11826473726\n",
      "X = set([0, 2, 4]); Y=set([0, 2, 3, 4]); x = 5\n",
      "6.94285423197e-05 3.67365708049e-05\n",
      "X = set([0, 3, 4]); Y=set([0, 2, 3, 4]); x = 1\n",
      "2.1182803269 2.11825713866\n",
      "X = set([0, 3, 4]); Y=set([0, 2, 3, 4]); x = 5\n",
      "6.94285423197e-05 5.01303760569e-05\n",
      "X = set([2, 3, 4]); Y=set([0, 2, 3, 4]); x = 1\n",
      "2.1182803269 2.10160340575\n",
      "X = set([2, 3, 4]); Y=set([0, 2, 3, 4]); x = 5\n",
      "6.94285423197e-05 4.2247034294e-05\n",
      "X = set([0, 2, 3]); Y=set([0, 2, 3, 5]); x = 1\n",
      "2.11828463771 2.11825994497\n",
      "X = set([0, 2, 3]); Y=set([0, 2, 3, 5]); x = 4\n",
      "5.03977127333e-05 2.34309849811e-05\n",
      "X = set([0, 2, 5]); Y=set([0, 2, 3, 5]); x = 1\n",
      "2.11828463771 2.11825929901\n",
      "X = set([0, 2, 5]); Y=set([0, 2, 3, 5]); x = 4\n",
      "5.03977127333e-05 3.22039284222e-05\n",
      "X = set([0, 3, 5]); Y=set([0, 2, 3, 5]); x = 1\n",
      "2.11828463771 2.11826195104\n",
      "X = set([0, 3, 5]); Y=set([0, 2, 3, 5]); x = 4\n",
      "5.03977127333e-05 3.63058294615e-05\n",
      "X = set([2, 3, 5]); Y=set([0, 2, 3, 5]); x = 1\n",
      "2.11828463771 2.10160096869\n",
      "X = set([2, 3, 5]); Y=set([0, 2, 3, 5]); x = 4\n",
      "5.03977127333e-05 3.58242282577e-05\n",
      "X = set([0, 2, 4]); Y=set([0, 2, 4, 5]); x = 1\n",
      "2.11828018813 2.11826473726\n",
      "X = set([0, 2, 4]); Y=set([0, 2, 4, 5]); x = 3\n",
      "5.36058502871e-05 2.09138787723e-05\n",
      "X = set([0, 2, 5]); Y=set([0, 2, 4, 5]); x = 1\n",
      "2.11828018813 2.11825929901\n",
      "X = set([0, 2, 5]); Y=set([0, 2, 4, 5]); x = 3\n",
      "5.36058502871e-05 3.5412065976e-05\n",
      "X = set([0, 4, 5]); Y=set([0, 2, 4, 5]); x = 1\n",
      "2.11828018813 2.11826038854\n",
      "X = set([0, 4, 5]); Y=set([0, 2, 4, 5]); x = 3\n",
      "5.36058502871e-05 3.37075681518e-05\n",
      "X = set([2, 4, 5]); Y=set([0, 2, 4, 5]); x = 1\n",
      "2.11828018813 2.10160065719\n",
      "X = set([2, 4, 5]); Y=set([0, 2, 4, 5]); x = 3\n",
      "5.36058502871e-05 3.72648728946e-05\n",
      "X = set([0, 3, 4]); Y=set([0, 3, 4, 5]); x = 1\n",
      "2.11827756306 2.11825713866\n",
      "X = set([0, 3, 4]); Y=set([0, 3, 4, 5]); x = 2\n",
      "3.35014480202e-05 1.42032817574e-05\n",
      "X = set([0, 3, 5]); Y=set([0, 3, 4, 5]); x = 1\n",
      "2.11827756306 2.11826195104\n",
      "X = set([0, 3, 5]); Y=set([0, 3, 4, 5]); x = 2\n",
      "3.35014480202e-05 1.94095647483e-05\n",
      "X = set([0, 4, 5]); Y=set([0, 3, 4, 5]); x = 1\n",
      "2.11827756306 2.11826038854\n",
      "X = set([0, 4, 5]); Y=set([0, 3, 4, 5]); x = 2\n",
      "3.35014480202e-05 1.36031658848e-05\n",
      "X = set([3, 4, 5]); Y=set([0, 3, 4, 5]); x = 1\n",
      "2.11827756306 2.1015996217\n",
      "X = set([3, 4, 5]); Y=set([0, 3, 4, 5]); x = 2\n",
      "3.35014480202e-05 2.27264840995e-05\n",
      "X = set([1, 2, 3]); Y=set([1, 2, 3, 4]); x = 0\n",
      "0.0325305708438 0.0325185369914\n",
      "X = set([1, 2, 3]); Y=set([1, 2, 3, 4]); x = 5\n",
      "5.6424938953e-05 3.57648092779e-05\n",
      "X = set([1, 2, 4]); Y=set([1, 2, 3, 4]); x = 0\n",
      "0.0325305708438 0.0325239516985\n",
      "X = set([1, 2, 4]); Y=set([1, 2, 3, 4]); x = 5\n",
      "5.6424938953e-05 3.21179752952e-05\n",
      "X = set([1, 3, 4]); Y=set([1, 2, 3, 4]); x = 0\n",
      "0.0325305708438 0.0325180014448\n",
      "X = set([1, 3, 4]); Y=set([1, 2, 3, 4]); x = 5\n",
      "5.6424938953e-05 4.05586190254e-05\n",
      "X = set([2, 3, 4]); Y=set([1, 2, 3, 4]); x = 0\n",
      "0.0325305708438 0.0158536496964\n",
      "X = set([2, 3, 4]); Y=set([1, 2, 3, 4]); x = 5\n",
      "5.6424938953e-05 4.2247034294e-05\n",
      "X = set([1, 2, 3]); Y=set([1, 2, 3, 5]); x = 0\n",
      "0.0325499267395 0.0325185369914\n",
      "X = set([1, 2, 3]); Y=set([1, 2, 3, 5]); x = 4\n",
      "5.24391907971e-05 3.1779061122e-05\n",
      "X = set([1, 2, 5]); Y=set([1, 2, 3, 5]); x = 0\n",
      "0.0325499267395 0.0325191355761\n",
      "X = set([1, 2, 5]); Y=set([1, 2, 3, 5]); x = 4\n",
      "5.24391907971e-05 2.82074527016e-05\n",
      "X = set([1, 3, 5]); Y=set([1, 2, 3, 5]); x = 0\n",
      "0.0325499267395 0.0325276284139\n",
      "X = set([1, 3, 5]); Y=set([1, 2, 3, 5]); x = 4\n",
      "5.24391907971e-05 3.15486595756e-05\n",
      "X = set([2, 3, 5]); Y=set([1, 2, 3, 5]); x = 0\n",
      "0.0325499267395 0.01586625772\n",
      "X = set([2, 3, 5]); Y=set([1, 2, 3, 5]); x = 4\n",
      "5.24391907971e-05 3.58242282577e-05\n",
      "X = set([1, 2, 4]); Y=set([1, 2, 4, 5]); x = 0\n",
      "0.0325440211693 0.0325239516985\n",
      "X = set([1, 2, 4]); Y=set([1, 2, 4, 5]); x = 3\n",
      "5.4191338937e-05 2.98843752792e-05\n",
      "X = set([1, 2, 5]); Y=set([1, 2, 4, 5]); x = 0\n",
      "0.0325440211693 0.0325191355761\n",
      "X = set([1, 2, 5]); Y=set([1, 2, 4, 5]); x = 3\n",
      "5.4191338937e-05 2.99596008415e-05\n",
      "X = set([1, 4, 5]); Y=set([1, 2, 4, 5]); x = 0\n",
      "0.0325440211693 0.0325286181919\n",
      "X = set([1, 4, 5]); Y=set([1, 2, 4, 5]); x = 3\n",
      "5.4191338937e-05 3.1502683292e-05\n",
      "X = set([2, 4, 5]); Y=set([1, 2, 4, 5]); x = 0\n",
      "0.0325440211693 0.015864490227\n",
      "X = set([2, 4, 5]); Y=set([1, 2, 4, 5]); x = 3\n",
      "5.4191338937e-05 3.72648728946e-05\n",
      "X = set([1, 3, 4]); Y=set([1, 3, 4, 5]); x = 0\n",
      "0.0325479976025 0.0325180014448\n",
      "X = set([1, 3, 4]); Y=set([1, 3, 4, 5]); x = 2\n",
      "4.06884386003e-05 2.48221186727e-05\n",
      "X = set([1, 3, 5]); Y=set([1, 3, 4, 5]); x = 0\n",
      "0.0325479976025 0.0325276284139\n",
      "X = set([1, 3, 5]); Y=set([1, 3, 4, 5]); x = 2\n",
      "4.06884386003e-05 1.97979073789e-05\n",
      "X = set([1, 4, 5]); Y=set([1, 3, 4, 5]); x = 0\n",
      "0.0325479976025 0.0325286181919\n",
      "X = set([1, 4, 5]); Y=set([1, 3, 4, 5]); x = 2\n",
      "4.06884386003e-05 1.79997829554e-05\n",
      "X = set([3, 4, 5]); Y=set([1, 3, 4, 5]); x = 0\n",
      "0.0325479976025 0.0158700562405\n",
      "X = set([3, 4, 5]); Y=set([1, 3, 4, 5]); x = 2\n",
      "4.06884386003e-05 2.27264840995e-05\n",
      "X = set([2, 3, 4]); Y=set([2, 3, 4, 5]); x = 0\n",
      "0.0158808312044 0.0158536496964\n",
      "X = set([2, 3, 4]); Y=set([2, 3, 4, 5]); x = 1\n",
      "2.10161758365 2.10160340575\n",
      "X = set([2, 3, 5]); Y=set([2, 3, 4, 5]); x = 0\n",
      "0.0158808312044 0.01586625772\n",
      "X = set([2, 3, 5]); Y=set([2, 3, 4, 5]); x = 1\n",
      "2.10161758365 2.10160096869\n",
      "X = set([2, 4, 5]); Y=set([2, 3, 4, 5]); x = 0\n",
      "0.0158808312044 0.015864490227\n",
      "X = set([2, 4, 5]); Y=set([2, 3, 4, 5]); x = 1\n",
      "2.10161758365 2.10160065719\n",
      "X = set([3, 4, 5]); Y=set([2, 3, 4, 5]); x = 0\n",
      "0.0158808312044 0.0158700562405\n",
      "X = set([3, 4, 5]); Y=set([2, 3, 4, 5]); x = 1\n",
      "2.10161758365 2.1015996217\n",
      "X = set([0, 1, 2, 3]); Y=set([0, 1, 2, 3, 4]); x = 5\n",
      "0.000108178584198 6.71545573019e-05\n",
      "X = set([0, 1, 2, 4]); Y=set([0, 1, 2, 3, 4]); x = 5\n",
      "0.000108178584198 5.21874461553e-05\n",
      "X = set([0, 1, 3, 4]); Y=set([0, 1, 2, 3, 4]); x = 5\n",
      "0.000108178584198 7.05547767672e-05\n",
      "X = set([0, 2, 3, 4]); Y=set([0, 1, 2, 3, 4]); x = 5\n",
      "0.000108178584198 6.94285423197e-05\n",
      "X = set([1, 2, 3, 4]); Y=set([0, 1, 2, 3, 4]); x = 5\n",
      "0.000108178584198 5.6424938953e-05\n",
      "X = set([0, 1, 2, 3]); Y=set([0, 1, 2, 3, 5]); x = 4\n",
      "8.48369403814e-05 4.38129134848e-05\n",
      "X = set([0, 1, 2, 5]); Y=set([0, 1, 2, 3, 5]); x = 4\n",
      "8.48369403814e-05 5.3093045961e-05\n",
      "X = set([0, 1, 3, 5]); Y=set([0, 1, 2, 3, 5]); x = 4\n",
      "8.48369403814e-05 5.19178481797e-05\n",
      "X = set([0, 2, 3, 5]); Y=set([0, 1, 2, 3, 5]); x = 4\n",
      "8.48369403814e-05 5.03977127333e-05\n",
      "X = set([1, 2, 3, 5]); Y=set([0, 1, 2, 3, 5]); x = 4\n",
      "8.48369403814e-05 5.24391907971e-05\n",
      "X = set([0, 1, 2, 4]); Y=set([0, 1, 2, 4, 5]); x = 3\n",
      "9.24946586555e-05 3.65035206123e-05\n",
      "X = set([0, 1, 2, 5]); Y=set([0, 1, 2, 4, 5]); x = 3\n",
      "9.24946586555e-05 6.07507642351e-05\n",
      "X = set([0, 1, 4, 5]); Y=set([0, 1, 2, 4, 5]); x = 3\n",
      "9.24946586555e-05 5.08820938667e-05\n",
      "X = set([0, 2, 4, 5]); Y=set([0, 1, 2, 4, 5]); x = 3\n",
      "9.24946586555e-05 5.36058502871e-05\n",
      "X = set([1, 2, 4, 5]); Y=set([0, 1, 2, 4, 5]); x = 3\n",
      "9.24946586555e-05 5.4191338937e-05\n",
      "X = set([0, 1, 3, 4]); Y=set([0, 1, 3, 4, 5]); x = 2\n",
      "7.50153251457e-05 3.73915177144e-05\n",
      "X = set([0, 1, 3, 5]); Y=set([0, 1, 3, 4, 5]); x = 2\n",
      "7.50153251457e-05 4.20962329439e-05\n",
      "X = set([0, 1, 4, 5]); Y=set([0, 1, 3, 4, 5]); x = 2\n",
      "7.50153251457e-05 3.34027603569e-05\n",
      "X = set([0, 3, 4, 5]); Y=set([0, 1, 3, 4, 5]); x = 2\n"
     ]
    },
    {
     "name": "stdout",
     "output_type": "stream",
     "text": [
      "7.50153251457e-05 3.35014480202e-05\n",
      "X = set([1, 3, 4, 5]); Y=set([0, 1, 3, 4, 5]); x = 2\n",
      "7.50153251457e-05 4.06884386003e-05\n",
      "X = set([0, 2, 3, 4]); Y=set([0, 2, 3, 4, 5]); x = 1\n",
      "2.11831907694 2.1182803269\n",
      "X = set([0, 2, 3, 5]); Y=set([0, 2, 3, 4, 5]); x = 1\n",
      "2.11831907694 2.11828463771\n",
      "X = set([0, 2, 4, 5]); Y=set([0, 2, 3, 4, 5]); x = 1\n",
      "2.11831907694 2.11828018813\n",
      "X = set([0, 3, 4, 5]); Y=set([0, 2, 3, 4, 5]); x = 1\n",
      "2.11831907694 2.11827756306\n",
      "X = set([2, 3, 4, 5]); Y=set([0, 2, 3, 4, 5]); x = 1\n",
      "2.11831907694 2.10161758365\n",
      "X = set([1, 2, 3, 4]); Y=set([1, 2, 3, 4, 5]); x = 0\n",
      "0.032582324489 0.0325305708438\n",
      "X = set([1, 2, 3, 5]); Y=set([1, 2, 3, 4, 5]); x = 0\n",
      "0.032582324489 0.0325499267395\n",
      "X = set([1, 2, 4, 5]); Y=set([1, 2, 3, 4, 5]); x = 0\n",
      "0.032582324489 0.0325440211693\n",
      "X = set([1, 3, 4, 5]); Y=set([1, 2, 3, 4, 5]); x = 0\n",
      "0.032582324489 0.0325479976025\n",
      "X = set([2, 3, 4, 5]); Y=set([1, 2, 3, 4, 5]); x = 0\n",
      "0.032582324489 0.0158808312044\n",
      "False\n"
     ]
    }
   ],
   "source": [
    "violation = False\n",
    "for i in range(1,4):\n",
    "    s_y = list(itertools.combinations(np.arange(6),i+2))\n",
    "    for s in s_y:\n",
    "        s_x = list(itertools.combinations(s,i+1))\n",
    "        comp = set(np.arange(6)).difference(set(s))\n",
    "        for sub_s_x in s_x:\n",
    "            for c in comp:\n",
    "                s = set(s)\n",
    "                sub_s_x = set(sub_s_x )\n",
    "                print 'X = {}; Y={}; x = {}'.format(sub_s_x,s,c)\n",
    "                train_err1 = lr(s,train_X,train_y,test_X,test_y)[0]\n",
    "                train_err2 = lr(sub_s_x,train_X,train_y,test_X,test_y)[0]\n",
    "                s.add(c)\n",
    "                sub_s_x.add(c)\n",
    "                print train_err1 - lr(s,train_X,train_y,test_X,test_y)[0],\\\n",
    "                  train_err2 - lr(sub_s_x,train_X,train_y,test_X,test_y)[0]\n",
    "                if train_err1 - lr(s,train_X,train_y,test_X,test_y)[0]<train_err2 - lr(sub_s_x,train_X,train_y,test_X,test_y)[0]:\n",
    "                    violation = True\n",
    "                s.remove(c)\n",
    "                sub_s_x.remove(c)\n",
    "print violation"
   ]
  },
  {
   "cell_type": "markdown",
   "metadata": {},
   "source": [
    "#### Correlated Moderator\n",
    "$$\\text{Marginal Distribution }p(X_1 = 1) = 0.5, p(X_2 = 1) = 0.5,$$\n",
    "Joint Distribution\n",
    "$$p(X_2=0|X_1=0) = 0.2, p(X_2=1|X_1=0) = 0.8$$\n",
    "$$p(X_2=0|X_1=1) = 0.8, p(X_2=1|X_1=1) = 0.2$$\n",
    "$$\\rho = \\frac{E[X_1X_2]-E[X_1]E[X_2]}{\\sqrt{Var(X_1)Var(X_2)}}=\\frac{0.1-0.25}{0.25}=-0.6$$"
   ]
  },
  {
   "cell_type": "code",
   "execution_count": 87,
   "metadata": {},
   "outputs": [
    {
     "name": "stdout",
     "output_type": "stream",
     "text": [
      "Cov [[ 1.  -0.6]\n",
      " [-0.6  1. ]]\n",
      "[[ 1.53745152 -4.50136511]\n",
      " [-1.67437195  3.30356672]\n",
      " [ 1.49945136 -1.48306005]\n",
      " [-2.5773335   1.0553065 ]]\n"
     ]
    }
   ],
   "source": [
    "# probs = np.array([0.4,0.6,0.5])\n",
    "# n = 10**6\n",
    "# for i,k in enumerate(itertools.product([0,1],repeat=len(probs))):\n",
    "#     l = np.prod(probs**np.array(k))*np.prod((1-probs)**(1-np.array(k)))*n+1e-6\n",
    "#     l = int(l)\n",
    "#     if i==0:X = np.tile(np.array(k),(l,1))\n",
    "#     else:X = np.vstack([X,np.tile(np.array(k),(l,1))])\n",
    "# print X.shape\n",
    "# X = X[np.random.permutation(n)]\n",
    "\n",
    "n = 1000\n",
    "# Generate correlated X1,X2\n",
    "x1 = np.zeros(n)\n",
    "x1[n/2:] = 1\n",
    "x2 = np.zeros(n)\n",
    "#x2=1|x1=0\n",
    "x2[int(n/2*0.2+1e-6):n/2] = 1\n",
    "#x2=1|x1=1\n",
    "x2[-int(n/2*0.2+1e-6):] = 1\n",
    "Y = np.hstack([x1.reshape(-1,1),x2.reshape(-1,1)])\n",
    "Y = Y[np.random.permutation(n)]\n",
    "print 'Cov',np.corrcoef(Y[:,0],Y[:,1])\n",
    "probs = [0.5,0.5]\n",
    "X = np.zeros((n,2))\n",
    "for i,p in enumerate(probs):\n",
    "    X[:,i]=np.array([np.random.binomial(1,p) for j in range(n)])\n",
    "X = np.hstack([Y,X])\n",
    "z = np.random.randn(n).reshape(n,1)\n",
    "y = np.zeros(n)\n",
    "beta = np.random.randn(4,2)*2\n",
    "print beta\n",
    "X = np.hstack([X,z])"
   ]
  },
  {
   "cell_type": "code",
   "execution_count": 88,
   "metadata": {},
   "outputs": [
    {
     "name": "stdout",
     "output_type": "stream",
     "text": [
      "(1000, 5) [[ 1.53745152 -4.50136511]\n",
      " [-1.67437195  3.30356672]\n",
      " [ 1.49945136 -1.48306005]\n",
      " [-2.5773335   1.0553065 ]]\n"
     ]
    }
   ],
   "source": [
    "# y = z*beta_0+beta_1\n",
    "\n",
    "for i in range(n):\n",
    "    if X[i][0]==0:\n",
    "        if X[i][1]==0: y[i] = beta[0][0]*z[i]+beta[0][1]\n",
    "        else: y[i] = beta[1][0]*z[i]+beta[1][1]\n",
    "    else:\n",
    "        if X[i][1]==0: y[i] = beta[2][0]*z[i]+beta[2][1]\n",
    "        else: y[i] = beta[3][0]*z[i]+beta[3][1]\n",
    "# add noise\n",
    "print X.shape,beta\n",
    "y = y+np.random.randn(n)*0.5\n",
    "train_X = X[:int(n*0.8+1e-6)]\n",
    "train_y = y[:int(n*0.8+1e-6)]\n",
    "test_X = X[int(n*0.8+1e-6):]\n",
    "test_y = y[int(n*0.8+1e-6):]"
   ]
  },
  {
   "cell_type": "code",
   "execution_count": 93,
   "metadata": {},
   "outputs": [
    {
     "name": "stdout",
     "output_type": "stream",
     "text": [
      "0.236320646978 6.438710545\n",
      "[  1.05068582e+00   6.77278552e+00   5.30477233e-03   6.90785424e-03]\n"
     ]
    },
    {
     "data": {
      "image/png": "[encoded data removed]",
      "text/plain": [
       "<matplotlib.figure.Figure at 0x7f91cced4710>"
      ]
     },
     "metadata": {},
     "output_type": "display_data"
    }
   ],
   "source": [
    "train_r = np.zeros(4)\n",
    "test_r = np.zeros(4)\n",
    "feature_set = set(np.arange(4))\n",
    "train_err,test_err=lr(feature_set,train_X,train_y,test_X,test_y)\n",
    "print train_err,test_err\n",
    "for i,s in enumerate(feature_set):\n",
    "    feature_set.remove(s)\n",
    "    train_err1,test_err1=lr(feature_set,train_X,train_y,test_X,test_y)\n",
    "    train_r[i] = train_err1-train_err\n",
    "    test_r[i] = test_err1-test_err\n",
    "    feature_set.add(s)\n",
    "print train_r\n",
    "plt.scatter(np.arange(4),train_r,label='Training')\n",
    "plt.scatter(np.arange(4),test_r,label = 'Testing',c = 'red')\n",
    "plt.xticks(np.arange(4),np.arange(4))\n",
    "plt.title('Diminish Return')\n",
    "plt.legend()\n",
    "plt.show()"
   ]
  },
  {
   "cell_type": "code",
   "execution_count": 99,
   "metadata": {},
   "outputs": [
    {
     "name": "stdout",
     "output_type": "stream",
     "text": [
      "0.236320646978 6.438710545\n",
      "0.236320646978 6.438710545\n",
      "set([1, 2, 3]) 1.28700646465 7.81564696493\n",
      "set([0, 2, 3]) 7.00910616417 11.5406985751\n",
      "set([0, 1, 3]) 0.241625419303 6.47851202824\n",
      "set([0, 1, 2]) 0.24322850122 6.48402769687\n",
      "set([1, 3]) 1.30614251063 7.75610522605\n",
      "set([0, 3]) 7.15532000215 11.7803813235\n",
      "set([0, 1]) 0.244983359364 6.47939410906\n",
      "set([1]) 1.31223134533 7.68994223996\n",
      "set([0]) 7.17546956638 11.6718000862\n",
      "[ 0.00530477  0.00335794  1.06724799] [ 2.  3.  0.]\n"
     ]
    },
    {
     "data": {
      "image/png": "[encoded data removed]",
      "text/plain": [
       "<matplotlib.figure.Figure at 0x7f91cca37050>"
      ]
     },
     "metadata": {},
     "output_type": "display_data"
    }
   ],
   "source": [
    "train_r = np.zeros(4)\n",
    "test_r = np.zeros(4)\n",
    "r = np.zeros(3)\n",
    "feature_set = set(np.arange(4))\n",
    "train_err,test_err=lr(feature_set,train_X,train_y,test_X,test_y)\n",
    "print train_err,test_err\n",
    "print train_err,test_err\n",
    "train_r[0] = train_err\n",
    "test_r[0] = test_err\n",
    "removed = np.zeros(3)\n",
    "for i in range(3):\n",
    "    dr = 100\n",
    "    f = 0\n",
    "    for s in feature_set:\n",
    "        feature_set.remove(s)\n",
    "        train_err,test_err=lr(feature_set,train_X,train_y,test_X,test_y)\n",
    "        print feature_set,train_err,test_err\n",
    "        if train_err-train_r[i]<dr: \n",
    "            dr = train_err-train_r[i]\n",
    "            train_r[i+1] = train_err\n",
    "            test_r[i+1] = test_err\n",
    "            f = s;\n",
    "        feature_set.add(s)\n",
    "    r[i] = train_r[i+1]-train_r[i]\n",
    "    feature_set.remove(f)\n",
    "    removed[i]=f\n",
    "print r,removed\n",
    "plt.plot(np.arange(4),train_r,label='Training Error')\n",
    "plt.plot(np.arange(4),test_r,label = 'Testing Error')\n",
    "plt.legend(loc='best')\n",
    "plt.show()"
   ]
  },
  {
   "cell_type": "code",
   "execution_count": null,
   "metadata": {
    "collapsed": true
   },
   "outputs": [],
   "source": []
  }
 ],
 "metadata": {
  "kernelspec": {
   "display_name": "Python 2",
   "language": "python",
   "name": "python2"
  },
  "language_info": {
   "codemirror_mode": {
    "name": "ipython",
    "version": 2
   },
   "file_extension": ".py",
   "mimetype": "text/x-python",
   "name": "python",
   "nbconvert_exporter": "python",
   "pygments_lexer": "ipython2",
   "version": "2.7.12"
  }
 },
 "nbformat": 4,
 "nbformat_minor": 2
}
