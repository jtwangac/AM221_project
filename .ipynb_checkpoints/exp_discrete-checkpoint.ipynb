{
 "cells": [
  {
   "cell_type": "markdown",
   "metadata": {},
   "source": [
    "### Experiments with Simulated Data\n",
    "Suppose we have $n=100$ training data points and another $50$ testing data points\n",
    "\n",
    "Discrete Variables $X={X_1,X_2,X_3,X_4}$; $X_i \\in \\{0,1\\}$; $X\\in \\mathcal{R}^{n\\times 4}$\n",
    "\n",
    "Continous Variable $\\mathbf{z}$; $\\mathbf{z} \\in \\mathcal{R}^{n \\times 1}$\n",
    "\n",
    "Continous Target Variable $\\mathbf{y}$; $\\mathbf{y} \\in \\mathcal{R}^{n \\times 1}$\n",
    "\n",
    "True Moderator Variable $X_1,X_2$\n",
    "\n",
    "Data generated :\n",
    "    $$y = z\\beta_i+b_i+\\epsilon$$"
   ]
  },
  {
   "cell_type": "code",
   "execution_count": 1,
   "metadata": {
    "collapsed": true
   },
   "outputs": [],
   "source": [
    "import numpy as np\n",
    "from sklearn import linear_model\n",
    "import pickle\n",
    "import matplotlib.pyplot as plt\n",
    "import itertools"
   ]
  },
  {
   "cell_type": "markdown",
   "metadata": {},
   "source": [
    "#### Generating simulation data"
   ]
  },
  {
   "cell_type": "code",
   "execution_count": 35,
   "metadata": {
    "scrolled": false
   },
   "outputs": [
    {
     "name": "stdout",
     "output_type": "stream",
     "text": [
      "[[-1.80749167  1.74274824]\n",
      " [ 1.83346927  2.50955861]\n",
      " [-3.65056916 -1.61338262]\n",
      " [ 0.29304958 -1.32141819]]\n"
     ]
    }
   ],
   "source": [
    "# Xi ~ Ber(n,pi), z ~N(0,1)\n",
    "probs = [0.4,0.6,0.4,0.6]\n",
    "n = 150\n",
    "X = np.zeros((n,4))\n",
    "for i,p in enumerate(probs):\n",
    "    X[:,i]=np.array([np.random.binomial(1,p) for j in range(n)])\n",
    "z = np.random.randn(n).reshape(n,1)\n",
    "y = np.zeros(n)\n",
    "features = np.hstack([X,z])\n",
    "beta = np.random.randn(4,2)*2\n",
    "print beta"
   ]
  },
  {
   "cell_type": "code",
   "execution_count": 36,
   "metadata": {
    "collapsed": true
   },
   "outputs": [],
   "source": [
    "# y = z*beta_0+beta_1\n",
    "for i in range(n):\n",
    "    if X[i][0]==0:\n",
    "        if X[i][1]==0: y[i] = beta[0][0]*z[i]+beta[0][1]\n",
    "        else: y[i] = beta[1][0]*z[i]+beta[1][1]\n",
    "    else:\n",
    "        if X[i][1]==0: y[i] = beta[2][0]*z[i]+beta[2][1]\n",
    "        else: y[i] = beta[3][0]*z[i]+beta[3][1]\n",
    "# add noise\n",
    "y = y+np.random.randn(n)*0.5"
   ]
  },
  {
   "cell_type": "code",
   "execution_count": 37,
   "metadata": {
    "collapsed": true
   },
   "outputs": [],
   "source": [
    "# with open('data.pkl','w') as f:\n",
    "#     pickle.dump((features,y),f)\n",
    "# with open('coeff.pkl','w') as f:\n",
    "#     pickle.dump(beta,f)"
   ]
  },
  {
   "cell_type": "markdown",
   "metadata": {},
   "source": [
    "### Fit with MMR \n",
    "#### True model(including $X_1,X_2$ as moderator):\n",
    "$$y = w_0 X_1+w_1 X_2+w_2Z+w_3ZX_1+w_4ZX_2+w_5ZX_1X_2+b+\\epsilon$$"
   ]
  },
  {
   "cell_type": "code",
   "execution_count": 31,
   "metadata": {
    "collapsed": true
   },
   "outputs": [],
   "source": [
    "from sklearn.linear_model import LinearRegression as lr\n",
    "import matplotlib.pyplot as plt"
   ]
  },
  {
   "cell_type": "code",
   "execution_count": 50,
   "metadata": {},
   "outputs": [
    {
     "name": "stdout",
     "output_type": "stream",
     "text": [
      "[[-1.80749167  1.74274824]\n",
      " [ 1.83346927  2.50955861]\n",
      " [-3.65056916 -1.61338262]\n",
      " [ 0.29304958 -1.32141819]]\n"
     ]
    }
   ],
   "source": [
    "with open('data.pkl','r') as f:\n",
    "    D,y = pickle.load(f)\n",
    "with open('coeff.pkl','r') as f:\n",
    "    true_coeff = pickle.load(f)\n",
    "print true_coeff"
   ]
  },
  {
   "cell_type": "code",
   "execution_count": 67,
   "metadata": {},
   "outputs": [
    {
     "name": "stdout",
     "output_type": "stream",
     "text": [
      "(150, 6)\n"
     ]
    }
   ],
   "source": [
    "#### Reformat data\n",
    "X = np.vstack([D[:,0],D[:,1],D[:,4],D[:,4]*D[:,0],D[:,4]*D[:,1],D[:,4]*D[:,0]*D[:,1]]).T\n",
    "print X.shape"
   ]
  },
  {
   "cell_type": "code",
   "execution_count": 71,
   "metadata": {},
   "outputs": [
    {
     "data": {
      "image/png": "[encoded data removed]",
      "text/plain": [
       "<matplotlib.figure.Figure at 0x7fa42ce9cc50>"
      ]
     },
     "metadata": {},
     "output_type": "display_data"
    }
   ],
   "source": [
    "train_X = X[:100]\n",
    "test_X = X[100:]\n",
    "train_y = y[:100]\n",
    "test_y = y[100:]\n",
    "plt.hist(train_y)\n",
    "plt.show()"
   ]
  },
  {
   "cell_type": "code",
   "execution_count": 74,
   "metadata": {
    "scrolled": false
   },
   "outputs": [
    {
     "name": "stdout",
     "output_type": "stream",
     "text": [
      "Baseline(sample mean):  6.27526373319\n",
      "Training error:  0.206913093859\n",
      "Testing error:  0.239249720806\n"
     ]
    }
   ],
   "source": [
    "model = lr()\n",
    "model.fit(train_X,train_y)\n",
    "print 'Baseline(sample mean):  {}'.format(np.mean((test_y-np.ones(50)*np.mean(train_y))**2))\n",
    "print 'Training error:  {}'.format(np.mean((model.predict(train_X)-train_y)**2))\n",
    "print 'Testing error:  {}'.format(np.mean((model.predict(test_X)-test_y)**2))"
   ]
  },
  {
   "cell_type": "markdown",
   "metadata": {},
   "source": [
    "### Fit with Multiple Linear Regression (including $Xs = {X_1,X_2,X_3,X_4}$ as moderator)\n",
    "We see MLR is overfitting since we include too many features"
   ]
  },
  {
   "cell_type": "code",
   "execution_count": 75,
   "metadata": {
    "collapsed": true
   },
   "outputs": [],
   "source": [
    "from itertools import product"
   ]
  },
  {
   "cell_type": "code",
   "execution_count": 127,
   "metadata": {
    "collapsed": true
   },
   "outputs": [],
   "source": [
    "inds = list(product([0,1],repeat=4))"
   ]
  },
  {
   "cell_type": "code",
   "execution_count": 112,
   "metadata": {
    "scrolled": false
   },
   "outputs": [
    {
     "name": "stdout",
     "output_type": "stream",
     "text": [
      "(150, 20)\n"
     ]
    }
   ],
   "source": [
    "# introducint product terms\n",
    "X = np.copy(D[:,:4])\n",
    "for i in inds:\n",
    "    Xprod = np.prod(D[:,np.nonzero(np.array(i))[0]],axis=1)\n",
    "    X = np.hstack([X,(D[:,-1]*Xprod).reshape(-1,1)])"
   ]
  },
  {
   "cell_type": "code",
   "execution_count": 113,
   "metadata": {},
   "outputs": [
    {
     "data": {
      "image/png": "[encoded data removed]",
      "text/plain": [
       "<matplotlib.figure.Figure at 0x7fa42d13a790>"
      ]
     },
     "metadata": {},
     "output_type": "display_data"
    }
   ],
   "source": [
    "train_X = X[:100]\n",
    "test_X = X[100:]\n",
    "train_y = y[:100]\n",
    "test_y = y[100:]\n",
    "plt.hist(train_y)\n",
    "plt.show()"
   ]
  },
  {
   "cell_type": "markdown",
   "metadata": {},
   "source": [
    "If we include all $X_i$ as indicators, we see multiple linear regression(MLR) is **overfitting** \n",
    "\n",
    "since testing error is almost **twice** as large as training error "
   ]
  },
  {
   "cell_type": "code",
   "execution_count": 114,
   "metadata": {},
   "outputs": [
    {
     "name": "stdout",
     "output_type": "stream",
     "text": [
      "Baseline(sample mean):  6.27526373319\n",
      "Training error:  0.170143148904\n",
      "Testing error:  0.33116661003\n"
     ]
    }
   ],
   "source": [
    "model = lr()\n",
    "model.fit(train_X,train_y)\n",
    "print 'Baseline(sample mean):  {}'.format(np.mean((test_y-np.mean(train_y))**2))\n",
    "print 'Training error:  {}'.format(np.mean((model.predict(train_X)-train_y)**2))\n",
    "print 'Testing error:  {}'.format(np.mean((model.predict(test_X)-test_y)**2))"
   ]
  },
  {
   "cell_type": "markdown",
   "metadata": {},
   "source": [
    "### Fit with Lasso (including $Xs = {X_1,X_2,X_3,X_4}$ as moderator)"
   ]
  },
  {
   "cell_type": "code",
   "execution_count": 115,
   "metadata": {
    "collapsed": true
   },
   "outputs": [],
   "source": [
    "from sklearn import linear_model"
   ]
  },
  {
   "cell_type": "code",
   "execution_count": 143,
   "metadata": {
    "collapsed": true
   },
   "outputs": [],
   "source": [
    "alphas = np.linspace(0.01,0.5,10)\n",
    "train_err = []\n",
    "test_err = []\n",
    "coeffs = []\n",
    "for a in alphas:\n",
    "    model = linear_model.Lasso(alpha=a)\n",
    "    model.fit(train_X,train_y)\n",
    "    train_err.append(np.mean((model.predict(train_X)-train_y)**2))\n",
    "    test_err.append(np.mean((model.predict(test_X)-test_y)**2))    \n",
    "    coeffs.append(model.coef_)"
   ]
  },
  {
   "cell_type": "code",
   "execution_count": 144,
   "metadata": {},
   "outputs": [
    {
     "data": {
      "image/png": "[encoded data removed]",
      "text/plain": [
       "<matplotlib.figure.Figure at 0x7fa42cacaa50>"
      ]
     },
     "metadata": {},
     "output_type": "display_data"
    }
   ],
   "source": [
    "plt.plot(alphas,train_err,label = 'Training Error')\n",
    "plt.plot(alphas,test_err,label='Testing Error')\n",
    "plt.legend()\n",
    "plt.show()"
   ]
  },
  {
   "cell_type": "code",
   "execution_count": 151,
   "metadata": {},
   "outputs": [
    {
     "name": "stdout",
     "output_type": "stream",
     "text": [
      "nonzero product terms:\n",
      "['X1' 'X2' 'X4' 'Z' 'ZX2' 'ZX2X3X4' 'ZX1' 'ZX1X4' 'ZX1X3' 'ZX1X2' 'ZX1X2X4'\n",
      " 'ZX1X2X3X4']\n",
      "['X1' 'X2' 'X4' 'Z' 'ZX2' 'ZX1']\n",
      "['X1' 'X2' 'Z' 'ZX2' 'ZX1']\n",
      "['X1' 'Z' 'ZX2' 'ZX1']\n",
      "['X1' 'Z' 'ZX2' 'ZX1']\n",
      "['X1' 'Z' 'ZX2' 'ZX1']\n",
      "['X1' 'Z' 'ZX2' 'ZX1']\n",
      "['X1' 'Z' 'ZX2' 'ZX1']\n",
      "['X1' 'Z' 'ZX2' 'ZX1']\n",
      "['X1' 'Z' 'ZX2' 'ZX1']\n"
     ]
    }
   ],
   "source": [
    "terms = np.array(['X1','X2','X3','X4','Z','ZX4','ZX3','ZX3X4',\\\n",
    "        'ZX2','ZX2X4','ZX2X3','ZX2X3X4',\\\n",
    "        'ZX1','ZX1X4','ZX1X3','ZX1X3X4',\\\n",
    "        'ZX1X2','ZX1X2X4','ZX1X2X3','ZX1X2X3X4'])\n",
    "print 'nonzero product terms:'\n",
    "for coeff in coeffs:\n",
    "    print terms[np.nonzero(coeff)[0]]"
   ]
  },
  {
   "cell_type": "markdown",
   "metadata": {},
   "source": [
    "### Experiments(Discrete Features)\n",
    "\n",
    "X_1,X_2 are related dependent variables\n",
    "#### Submodular"
   ]
  },
  {
   "cell_type": "code",
   "execution_count": 85,
   "metadata": {
    "collapsed": true
   },
   "outputs": [],
   "source": [
    "# Data generation\n",
    "# Xi ~ Ber(n,pi)\n",
    "probs = [0.4,0.6,0.4,0.6,0.4,0.6]\n",
    "n = 1000\n",
    "X = np.zeros((n,6))\n",
    "for i,p in enumerate(probs):\n",
    "    X[:,i]=np.array([np.random.binomial(1,p) for j in range(n)])\n",
    "beta = np.random.randn(4,2)*2\n",
    "y = np.zeros(n)\n",
    "for i in range(n):\n",
    "    if X[i][0]==0:\n",
    "        if X[i][1]==0: y[i] = sum(beta[0][:2]*X[i][:2])+beta[0][1]\n",
    "        else: y[i] = sum(beta[1][:2]*X[i][:2])+beta[1][1]\n",
    "    else:\n",
    "        if X[i][1]==0: y[i] = sum(beta[2][:2]*X[i][:2])+beta[2][1]\n",
    "        else: y[i] = sum(beta[3][:2]**X[i][:2])+beta[3][1]\n",
    "# add noise e~N(0,0.5^2)\n",
    "y = y+np.random.randn(n)*0.5\n",
    "train_X = X[:int(n*0.8)]\n",
    "test_X = X[int(n*0.8):]\n",
    "train_y = y[:int(n*0.8)]\n",
    "test_y = y[int(n*0.8):]"
   ]
  },
  {
   "cell_type": "code",
   "execution_count": 86,
   "metadata": {
    "collapsed": true
   },
   "outputs": [],
   "source": [
    "# fit linear regression with given features \n",
    "def lr(features,train_X,train_y,test_X,test_y):\n",
    "    features = np.array(list(features))\n",
    "    n_feature =len(features)\n",
    "    train_err = 0.0\n",
    "    test_err = 0.0\n",
    "    train_vector =np.sum(train_X[:,features]* np.array([2**i for i in range(n_feature)]),axis=1)\n",
    "    test_vector =np.sum(test_X[:,features]* np.array([2**i for i in range(n_feature)]),axis=1)\n",
    "    for v in range(2**n_feature):\n",
    "        train_idx = np.where(train_vector==v)[0]\n",
    "        test_idx = np.where(test_vector==v)[0]\n",
    "        train_err += np.sum((np.mean(train_y[train_idx])-train_y[train_idx])**2)\n",
    "        if len(test_idx)!=0:\n",
    "            test_err += np.sum((np.mean(test_y[test_idx])-test_y[test_idx])**2)\n",
    "    return train_err/len(train_y),test_err/len(test_y)"
   ]
  },
  {
   "cell_type": "code",
   "execution_count": 87,
   "metadata": {
    "scrolled": false
   },
   "outputs": [
    {
     "name": "stdout",
     "output_type": "stream",
     "text": [
      "0.246651001141 0.175426473779\n",
      "set([1, 2, 3, 4, 5]) 1.00033094342 0.797085298322\n",
      "set([0, 2, 3, 4, 5]) 11.3133205688 9.7878990587\n",
      "set([0, 1, 3, 4, 5]) 0.257756682902 0.196937820831\n",
      "set([0, 1, 2, 4, 5]) 0.255535782528 0.207334636428\n",
      "set([0, 1, 2, 3, 5]) 0.25905454692 0.209412060633\n",
      "set([0, 1, 2, 3, 4]) 0.258840326359 0.216148386906\n",
      "set([1, 2, 4, 5]) 1.01052577795 0.869342129316\n",
      "set([0, 2, 4, 5]) 11.4355504038 10.5820086823\n",
      "set([0, 1, 4, 5]) 0.261607115678 0.220587630556\n",
      "set([0, 1, 2, 5]) 0.263884211009 0.219127128008\n",
      "set([0, 1, 2, 4]) 0.263458738047 0.22290767043\n",
      "set([1, 4, 5]) 1.01649842383 0.91875167696\n",
      "set([0, 4, 5]) 11.5232059077 10.9155109276\n",
      "set([0, 1, 5]) 0.266324590575 0.231722147562\n",
      "set([0, 1, 4]) 0.265707852416 0.229249916019\n",
      "set([1, 4]) 1.02236741593 0.933214890943\n",
      "set([0, 4]) 11.564285702 11.0760137341\n",
      "set([0, 1]) 0.267774246705 0.235162662402\n",
      "set([1]) 1.02428294494 0.976760984819\n",
      "set([0]) 11.6491285392 11.312378576\n",
      "[ 0.00888478  0.00607133  0.00410074  0.00206639  0.7565087 ] [ 3.  2.  5.  4.  0.]\n"
     ]
    },
    {
     "data": {
      "image/png": "[encoded data removed]",
      "text/plain": [
       "<matplotlib.figure.Figure at 0x7f24cdd889d0>"
      ]
     },
     "metadata": {},
     "output_type": "display_data"
    }
   ],
   "source": [
    "train_r = np.zeros(6)\n",
    "test_r = np.zeros(6)\n",
    "r = np.zeros(5)\n",
    "feature_set = set(np.arange(6))\n",
    "train_err,test_err=lr(feature_set,train_X,train_y,test_X,test_y)\n",
    "print train_err,test_err\n",
    "train_r[0] = train_err\n",
    "test_r[0] = test_err\n",
    "removed = np.zeros(5)\n",
    "for i in range(5):\n",
    "    dr = 100\n",
    "    f = 0\n",
    "    for s in feature_set:\n",
    "        feature_set.remove(s)\n",
    "        train_err,test_err=lr(feature_set,train_X,train_y,test_X,test_y)\n",
    "        print feature_set,train_err,test_err\n",
    "        if train_err-train_r[i]<dr: \n",
    "            dr = train_err-train_r[i]\n",
    "            train_r[i+1] = train_err\n",
    "            test_r[i+1] = test_err\n",
    "            f = s;\n",
    "        feature_set.add(s)\n",
    "    r[i] = train_r[i+1]-train_r[i]\n",
    "    feature_set.remove(f)\n",
    "    removed[i]=f\n",
    "print r,removed\n",
    "plt.plot(np.arange(6),train_r,label='Training Error')\n",
    "plt.plot(np.arange(6),test_r,label = 'Testing Error')\n",
    "plt.legend()\n",
    "plt.show()"
   ]
  },
  {
   "cell_type": "markdown",
   "metadata": {},
   "source": [
    "#### Lasso"
   ]
  },
  {
   "cell_type": "code",
   "execution_count": 88,
   "metadata": {
    "collapsed": true
   },
   "outputs": [],
   "source": [
    "def inter_terms(n,X):\n",
    "    inds = list(itertools.product([0,1],repeat=n))\n",
    "    ind_term = np.array(['X'+str(i+1) for i in range(6)])\n",
    "    terms = []\n",
    "    for i in inds:\n",
    "        terms.append(''.join(ind_term[np.nonzero(np.array(i))[0]]))    \n",
    "        Xprod = np.prod(X[:,np.nonzero(np.array(i))[0]],axis=1)\n",
    "        X = np.hstack([X,Xprod.reshape(-1,1)])\n",
    "    return X,terms[1:]\n",
    "train_X,terms = inter_terms(6,train_X)\n",
    "test_X,terms = inter_terms(6,test_X)"
   ]
  },
  {
   "cell_type": "code",
   "execution_count": 89,
   "metadata": {
    "collapsed": true
   },
   "outputs": [],
   "source": [
    "alphas = np.linspace(0.01,0.5,10)\n",
    "train_err = []\n",
    "test_err = []\n",
    "coeffs = []\n",
    "for a in alphas:\n",
    "    model = linear_model.Lasso(alpha=a)\n",
    "    model.fit(train_X,train_y)\n",
    "    train_err.append(np.mean((model.predict(train_X)-train_y)**2))\n",
    "    test_err.append(np.mean((model.predict(test_X)-test_y)**2))    \n",
    "    coeffs.append(model.coef_)"
   ]
  },
  {
   "cell_type": "code",
   "execution_count": 90,
   "metadata": {},
   "outputs": [
    {
     "data": {
      "image/png": "[encoded data removed]",
      "text/plain": [
       "<matplotlib.figure.Figure at 0x7f24d041cb10>"
      ]
     },
     "metadata": {},
     "output_type": "display_data"
    }
   ],
   "source": [
    "plt.plot(alphas,train_err,label = 'Training Error')\n",
    "plt.plot(alphas,test_err,label='Testing Error')\n",
    "plt.legend()\n",
    "plt.show()"
   ]
  },
  {
   "cell_type": "code",
   "execution_count": 91,
   "metadata": {},
   "outputs": [
    {
     "name": "stdout",
     "output_type": "stream",
     "text": [
      "['X6' 'X5' 'X4X5' 'X3' 'X3X5' 'X2X3X5X6' 'X1X4X5X6' 'X1X2X4X5X6']\n",
      "['X6' 'X5' 'X2X4X5X6' 'X1X4X5X6' 'X1X2X4X5X6']\n",
      "['X6' 'X5' 'X2X4X5X6' 'X1X4X5X6' 'X1X2X4X5X6']\n",
      "['X6' 'X5' 'X2X4X5X6' 'X1X4X5X6' 'X1X2X4X5X6']\n",
      "['X5' 'X2X4X5X6' 'X1X2X4X5X6']\n",
      "['X5' 'X2X4X5X6' 'X1X2X4X5X6']\n",
      "['X5' 'X2X4X5X6' 'X1X2X4X5X6']\n",
      "['X5' 'X2X4X5X6' 'X1X2X4X5X6']\n",
      "['X5' 'X2X4X5X6' 'X1X2X4X5X6']\n",
      "['X5' 'X2X4X5X6' 'X1X2X4X5X6']\n"
     ]
    }
   ],
   "source": [
    "terms = np.array(terms)\n",
    "for coeff in coeffs:\n",
    "    print terms[np.nonzero(coeff)[0]]"
   ]
  },
  {
   "cell_type": "markdown",
   "metadata": {},
   "source": [
    "#### Diminish Return Test for Submodularity \n",
    "$f(X \\cup \\{x\\})-f(X)\\geq f(Y \\cup \\{x\\})-f(Y)\\quad \\text{if } X\\subseteq Y\\quad x\\in \\Omega \\setminus Y$"
   ]
  },
  {
   "cell_type": "code",
   "execution_count": 94,
   "metadata": {
    "scrolled": false
   },
   "outputs": [
    {
     "name": "stdout",
     "output_type": "stream",
     "text": [
      "X = set([0, 1]); Y=set([0, 1, 2]); x = 3\n",
      "0.00329233604327 0.00203828612873\n",
      "X = set([0, 1]); Y=set([0, 1, 2]); x = 4\n",
      "0.00283457163512 0.00206639428952\n",
      "X = set([0, 1]); Y=set([0, 1, 2]); x = 5\n",
      "0.00240909867367 0.00144965613023\n",
      "X = set([0, 2]); Y=set([0, 1, 2]); x = 3\n",
      "0.00329233604327 0.0199458499554\n",
      "X = set([0, 2]); Y=set([0, 1, 2]); x = 4\n",
      "0.00283457163512 0.136916576506\n",
      "X = set([0, 2]); Y=set([0, 1, 2]); x = 5\n",
      "0.00240909867367 0.0464998740206\n",
      "X = set([1, 2]); Y=set([0, 1, 2]); x = 3\n",
      "0.00329233604327 0.00123418888456\n",
      "X = set([1, 2]); Y=set([0, 1, 2]); x = 4\n",
      "0.00283457163512 0.00387162755182\n",
      "X = set([1, 2]); Y=set([0, 1, 2]); x = 5\n",
      "0.00240909867367 0.00481459850409\n",
      "X = set([0, 1]); Y=set([0, 1, 3]); x = 2\n",
      "0.0027349869376 0.00148093702306\n",
      "X = set([0, 1]); Y=set([0, 1, 3]); x = 4\n",
      "0.0026550530043 0.00206639428952\n",
      "X = set([0, 1]); Y=set([0, 1, 3]); x = 5\n",
      "0.00241212913469 0.00144965613023\n",
      "X = set([0, 3]); Y=set([0, 1, 3]); x = 2\n",
      "0.0027349869376 0.0226947349392\n",
      "X = set([0, 3]); Y=set([0, 1, 3]); x = 4\n",
      "0.0026550530043 0.118154573384\n",
      "X = set([0, 3]); Y=set([0, 1, 3]); x = 5\n",
      "0.00241212913469 0.0427678116066\n",
      "X = set([1, 3]); Y=set([0, 1, 3]); x = 2\n",
      "0.0027349869376 0.00229170839388\n",
      "X = set([1, 3]); Y=set([0, 1, 3]); x = 4\n",
      "0.0026550530043 0.00902833410099\n",
      "X = set([1, 3]); Y=set([0, 1, 3]); x = 5\n",
      "0.00241212913469 0.00472132608606\n",
      "X = set([0, 1]); Y=set([0, 1, 4]); x = 2\n",
      "0.00224911436866 0.00148093702306\n",
      "X = set([0, 1]); Y=set([0, 1, 4]); x = 3\n",
      "0.0026269448435 0.00203828612873\n",
      "X = set([0, 1]); Y=set([0, 1, 4]); x = 5\n",
      "0.00410073673783 0.00144965613023\n",
      "X = set([0, 4]); Y=set([0, 1, 4]); x = 2\n",
      "0.00224911436866 0.0597719304694\n",
      "X = set([0, 4]); Y=set([0, 1, 4]); x = 3\n",
      "0.0026269448435 0.0382610423641\n",
      "X = set([0, 4]); Y=set([0, 1, 4]); x = 5\n",
      "0.00410073673783 0.0410797943024\n",
      "X = set([1, 4]); Y=set([0, 1, 4]); x = 2\n",
      "0.00224911436866 0.00413415067659\n",
      "X = set([1, 4]); Y=set([0, 1, 4]); x = 3\n",
      "0.0026269448435 0.00823333771643\n",
      "X = set([1, 4]); Y=set([0, 1, 4]); x = 5\n",
      "0.00410073673783 0.005868992102\n",
      "X = set([0, 1]); Y=set([0, 1, 5]); x = 2\n",
      "0.0024403795665 0.00148093702306\n",
      "X = set([0, 1]); Y=set([0, 1, 5]); x = 3\n",
      "0.00300075913319 0.00203828612873\n",
      "X = set([0, 1]); Y=set([0, 1, 5]); x = 4\n",
      "0.00471747489713 0.00206639428952\n",
      "X = set([0, 5]); Y=set([0, 1, 5]); x = 2\n",
      "0.0024403795665 0.0141689932945\n",
      "X = set([0, 5]); Y=set([0, 1, 5]); x = 3\n",
      "0.00300075913319 0.0076880458967\n",
      "X = set([0, 5]); Y=set([0, 1, 5]); x = 4\n",
      "0.00471747489713 0.0858935596127\n",
      "X = set([1, 5]); Y=set([0, 1, 5]); x = 2\n",
      "0.0024403795665 0.00276465665373\n",
      "X = set([1, 5]); Y=set([0, 1, 5]); x = 3\n",
      "0.00300075913319 0.00161386472637\n",
      "X = set([1, 5]); Y=set([0, 1, 5]); x = 4\n",
      "0.00471747489713 0.00355652712686\n",
      "X = set([0, 2]); Y=set([0, 2, 3]); x = 1\n",
      "11.3584835244 11.3751370383\n",
      "X = set([0, 2]); Y=set([0, 2, 3]); x = 4\n",
      "0.202526288307 0.136916576506\n",
      "X = set([0, 2]); Y=set([0, 2, 3]); x = 5\n",
      "0.0565257635988 0.0464998740206\n",
      "X = set([0, 3]); Y=set([0, 2, 3]); x = 1\n",
      "11.3584835244 11.3784432724\n",
      "X = set([0, 3]); Y=set([0, 2, 3]); x = 4\n",
      "0.202526288307 0.118154573384\n",
      "X = set([0, 3]); Y=set([0, 2, 3]); x = 5\n",
      "0.0565257635988 0.0427678116066\n",
      "X = set([2, 3]); Y=set([0, 2, 3]); x = 1\n",
      "11.3584835244 11.4079573755\n",
      "X = set([2, 3]); Y=set([0, 2, 3]); x = 4\n",
      "0.202526288307 0.0456092297312\n",
      "X = set([2, 3]); Y=set([0, 2, 3]); x = 5\n",
      "0.0565257635988 0.00775837781755\n",
      "X = set([0, 2]); Y=set([0, 2, 4]); x = 1\n",
      "11.2410550335 11.3751370383\n",
      "X = set([0, 2]); Y=set([0, 2, 4]); x = 3\n",
      "0.0855555617562 0.0199458499554\n",
      "X = set([0, 2]); Y=set([0, 2, 4]); x = 5\n",
      "0.0689633676901 0.0464998740206\n",
      "X = set([0, 4]); Y=set([0, 2, 4]); x = 1\n",
      "11.2410550335 11.2985778496\n",
      "X = set([0, 4]); Y=set([0, 2, 4]); x = 3\n",
      "0.0855555617562 0.0382610423641\n",
      "X = set([0, 4]); Y=set([0, 2, 4]); x = 5\n",
      "0.0689633676901 0.0410797943024\n",
      "X = set([2, 4]); Y=set([0, 2, 4]); x = 1\n",
      "11.2410550335 11.3886056439\n",
      "X = set([2, 4]); Y=set([0, 2, 4]); x = 3\n",
      "0.0855555617562 0.0236200594839\n",
      "X = set([2, 4]); Y=set([0, 2, 4]); x = 5\n",
      "0.0689633676901 0.013535292776\n",
      "X = set([0, 2]); Y=set([0, 2, 5]); x = 1\n",
      "11.331046263 11.3751370383\n",
      "X = set([0, 2]); Y=set([0, 2, 5]); x = 3\n",
      "0.0299717395335 0.0199458499554\n",
      "X = set([0, 2]); Y=set([0, 2, 5]); x = 4\n",
      "0.159380070175 0.136916576506\n",
      "X = set([0, 5]); Y=set([0, 2, 5]); x = 1\n",
      "11.331046263 11.3427748767\n",
      "X = set([0, 5]); Y=set([0, 2, 5]); x = 3\n",
      "0.0299717395335 0.0076880458967\n",
      "X = set([0, 5]); Y=set([0, 2, 5]); x = 4\n",
      "0.159380070175 0.0858935596127\n",
      "X = set([2, 5]); Y=set([0, 2, 5]); x = 1\n",
      "11.331046263 11.4156445448\n",
      "X = set([2, 5]); Y=set([0, 2, 5]); x = 3\n",
      "0.0299717395335 0.011865137545\n",
      "X = set([2, 5]); Y=set([0, 2, 5]); x = 4\n",
      "0.159380070175 0.0396312227508\n",
      "X = set([0, 3]); Y=set([0, 3, 4]); x = 1\n",
      "11.262943752 11.3784432724\n",
      "X = set([0, 3]); Y=set([0, 3, 4]); x = 2\n",
      "0.107066449862 0.0226947349392\n",
      "X = set([0, 3]); Y=set([0, 3, 4]); x = 5\n",
      "0.0633064899055 0.0427678116066\n",
      "X = set([0, 4]); Y=set([0, 3, 4]); x = 1\n",
      "11.262943752 11.2985778496\n",
      "X = set([0, 4]); Y=set([0, 3, 4]); x = 2\n",
      "0.107066449862 0.0597719304694\n",
      "X = set([0, 4]); Y=set([0, 3, 4]); x = 5\n",
      "0.0633064899055 0.0410797943024\n",
      "X = set([3, 4]); Y=set([0, 3, 4]); x = 1\n",
      "11.262943752 11.3957611171\n",
      "X = set([3, 4]); Y=set([0, 3, 4]); x = 2\n",
      "0.107066449862 0.0266763456747\n",
      "X = set([3, 4]); Y=set([0, 3, 4]); x = 5\n",
      "0.0633064899055 0.0419536492762\n",
      "X = set([0, 3]); Y=set([0, 3, 5]); x = 1\n",
      "11.3380875899 11.3784432724\n",
      "X = set([0, 3]); Y=set([0, 3, 5]); x = 2\n",
      "0.0364526869313 0.0226947349392\n",
      "X = set([0, 3]); Y=set([0, 3, 5]); x = 4\n",
      "0.138693251683 0.118154573384\n",
      "X = set([0, 5]); Y=set([0, 3, 5]); x = 1\n",
      "11.3380875899 11.3427748767\n",
      "X = set([0, 5]); Y=set([0, 3, 5]); x = 2\n",
      "0.0364526869313 0.0141689932945\n",
      "X = set([0, 5]); Y=set([0, 3, 5]); x = 4\n",
      "0.138693251683 0.0858935596127\n",
      "X = set([3, 5]); Y=set([0, 3, 5]); x = 1\n",
      "11.3380875899 11.4235958992\n",
      "X = set([3, 5]); Y=set([0, 3, 5]); x = 2\n",
      "0.0364526869313 0.0209672838075\n",
      "X = set([3, 5]); Y=set([0, 3, 5]); x = 4\n",
      "0.138693251683 0.0740954393227\n",
      "X = set([0, 4]); Y=set([0, 4, 5]); x = 1\n",
      "11.261598792 11.2985778496\n",
      "X = set([0, 4]); Y=set([0, 4, 5]); x = 2\n",
      "0.087655503857 0.0597719304694\n",
      "X = set([0, 4]); Y=set([0, 4, 5]); x = 3\n",
      "0.0604877379672 0.0382610423641\n",
      "X = set([0, 5]); Y=set([0, 4, 5]); x = 1\n",
      "11.261598792 11.3427748767\n",
      "X = set([0, 5]); Y=set([0, 4, 5]); x = 2\n",
      "0.087655503857 0.0141689932945\n",
      "X = set([0, 5]); Y=set([0, 4, 5]); x = 3\n",
      "0.0604877379672 0.0076880458967\n",
      "X = set([4, 5]); Y=set([0, 4, 5]); x = 1\n",
      "11.261598792 11.3965935978\n",
      "X = set([4, 5]); Y=set([0, 4, 5]); x = 2\n",
      "0.087655503857 0.0197884052192\n",
      "X = set([4, 5]); Y=set([0, 4, 5]); x = 3\n",
      "0.0604877379672 0.0451504755286\n",
      "X = set([1, 2]); Y=set([1, 2, 3]); x = 0\n",
      "0.757869730284 0.755811583125\n",
      "X = set([1, 2]); Y=set([1, 2, 3]); x = 4\n",
      "0.0108673985054 0.00387162755182\n",
      "X = set([1, 2]); Y=set([1, 2, 3]); x = 5\n",
      "0.00546306039251 0.00481459850409\n",
      "X = set([1, 3]); Y=set([1, 2, 3]); x = 0\n",
      "0.757869730284 0.75742645174\n",
      "X = set([1, 3]); Y=set([1, 2, 3]); x = 4\n",
      "0.0108673985054 0.00902833410099\n",
      "X = set([1, 3]); Y=set([1, 2, 3]); x = 5\n",
      "0.00546306039251 0.00472132608606\n",
      "X = set([2, 3]); Y=set([1, 2, 3]); x = 0\n",
      "0.757869730284 0.807343581351\n",
      "X = set([2, 3]); Y=set([1, 2, 3]); x = 4\n",
      "0.0108673985054 0.0456092297312\n",
      "X = set([2, 3]); Y=set([1, 2, 3]); x = 5\n",
      "0.00546306039251 0.00775837781755\n",
      "X = set([1, 2]); Y=set([1, 2, 4]); x = 0\n",
      "0.754774527208 0.755811583125\n",
      "X = set([1, 2]); Y=set([1, 2, 4]); x = 3\n",
      "0.00822995983816 0.00123418888456\n",
      "X = set([1, 2]); Y=set([1, 2, 4]); x = 5\n",
      "0.00770748730324 0.00481459850409\n",
      "X = set([1, 4]); Y=set([1, 2, 4]); x = 0\n",
      "0.754774527208 0.756659563516\n",
      "X = set([1, 4]); Y=set([1, 2, 4]); x = 3\n",
      "0.00822995983816 0.00823333771643\n",
      "X = set([1, 4]); Y=set([1, 2, 4]); x = 5\n",
      "0.00770748730324 0.005868992102\n",
      "X = set([2, 4]); Y=set([1, 2, 4]); x = 0\n",
      "0.754774527208 0.902325137654\n",
      "X = set([2, 4]); Y=set([1, 2, 4]); x = 3\n",
      "0.00822995983816 0.0236200594839\n",
      "X = set([2, 4]); Y=set([1, 2, 4]); x = 5\n",
      "0.00770748730324 0.013535292776\n",
      "X = set([1, 2]); Y=set([1, 2, 5]); x = 0\n",
      "0.753406083295 0.755811583125\n",
      "X = set([1, 2]); Y=set([1, 2, 5]); x = 3\n",
      "0.00188265077298 0.00123418888456\n",
      "X = set([1, 2]); Y=set([1, 2, 5]); x = 4\n",
      "0.00676451635097 0.00387162755182\n",
      "X = set([1, 5]); Y=set([1, 2, 5]); x = 0\n",
      "0.753406083295 0.753730360382\n",
      "X = set([1, 5]); Y=set([1, 2, 5]); x = 3\n",
      "0.00188265077298 0.00161386472637\n",
      "X = set([1, 5]); Y=set([1, 2, 5]); x = 4\n",
      "0.00676451635097 0.00355652712686\n",
      "X = set([2, 5]); Y=set([1, 2, 5]); x = 0\n",
      "0.753406083295 0.838004365143\n",
      "X = set([2, 5]); Y=set([1, 2, 5]); x = 3\n",
      "0.00188265077298 0.011865137545\n",
      "X = set([2, 5]); Y=set([1, 2, 5]); x = 4\n",
      "0.00676451635097 0.0396312227508\n",
      "X = set([1, 3]); Y=set([1, 3, 4]); x = 0\n",
      "0.751053170643 0.75742645174\n",
      "X = set([1, 3]); Y=set([1, 3, 4]); x = 2\n",
      "0.00413077279832 0.00229170839388\n",
      "X = set([1, 3]); Y=set([1, 3, 4]); x = 5\n",
      "0.00745627321763 0.00472132608606\n",
      "X = set([1, 4]); Y=set([1, 3, 4]); x = 0\n",
      "0.751053170643 0.756659563516\n",
      "X = set([1, 4]); Y=set([1, 3, 4]); x = 2\n",
      "0.00413077279832 0.00413415067659\n",
      "X = set([1, 4]); Y=set([1, 3, 4]); x = 5\n",
      "0.00745627321763 0.005868992102\n",
      "X = set([3, 4]); Y=set([1, 3, 4]); x = 0\n",
      "0.751053170643 0.883870535739\n",
      "X = set([3, 4]); Y=set([1, 3, 4]); x = 2\n",
      "0.00413077279832 0.0266763456747\n",
      "X = set([3, 4]); Y=set([1, 3, 4]); x = 5\n",
      "0.00745627321763 0.0419536492762\n",
      "X = set([1, 3]); Y=set([1, 3, 5]); x = 0\n",
      "0.755117254789 0.75742645174\n",
      "X = set([1, 3]); Y=set([1, 3, 5]); x = 2\n",
      "0.00303344270033 0.00229170839388\n",
      "X = set([1, 3]); Y=set([1, 3, 5]); x = 4\n",
      "0.0117632812326 0.00902833410099\n",
      "X = set([1, 5]); Y=set([1, 3, 5]); x = 0\n",
      "0.755117254789 0.753730360382\n",
      "X = set([1, 5]); Y=set([1, 3, 5]); x = 2\n",
      "0.00303344270033 0.00276465665373\n",
      "X = set([1, 5]); Y=set([1, 3, 5]); x = 4\n",
      "0.0117632812326 0.00355652712686\n",
      "X = set([3, 5]); Y=set([1, 3, 5]); x = 0\n",
      "0.755117254789 0.840625564008\n",
      "X = set([3, 5]); Y=set([1, 3, 5]); x = 2\n",
      "0.00303344270033 0.0209672838075\n",
      "X = set([3, 5]); Y=set([1, 3, 5]); x = 4\n",
      "0.0117632812326 0.0740954393227\n",
      "X = set([1, 4]); Y=set([1, 4, 5]); x = 0\n",
      "0.754891308152 0.756659563516\n",
      "X = set([1, 4]); Y=set([1, 4, 5]); x = 2\n",
      "0.00597264587783 0.00413415067659\n",
      "X = set([1, 4]); Y=set([1, 4, 5]); x = 3\n",
      "0.00982061883207 0.00823333771643\n",
      "X = set([1, 5]); Y=set([1, 4, 5]); x = 0\n",
      "0.754891308152 0.753730360382\n",
      "X = set([1, 5]); Y=set([1, 4, 5]); x = 2\n",
      "0.00597264587783 0.00276465665373\n",
      "X = set([1, 5]); Y=set([1, 4, 5]); x = 3\n",
      "0.00982061883207 0.00161386472637\n",
      "X = set([4, 5]); Y=set([1, 4, 5]); x = 0\n",
      "0.754891308152 0.88988611393\n",
      "X = set([4, 5]); Y=set([1, 4, 5]); x = 2\n",
      "0.00597264587783 0.0197884052192\n",
      "X = set([4, 5]); Y=set([1, 4, 5]); x = 3\n",
      "0.00982061883207 0.0451504755286\n",
      "X = set([2, 3]); Y=set([2, 3, 4]); x = 0\n",
      "0.964260639926 0.807343581351\n",
      "X = set([2, 3]); Y=set([2, 3, 4]); x = 1\n",
      "11.3732155443 11.4079573755\n",
      "X = set([2, 3]); Y=set([2, 3, 4]); x = 5\n",
      "0.0524527394925 0.00775837781755\n",
      "X = set([2, 4]); Y=set([2, 3, 4]); x = 0\n",
      "0.964260639926 0.902325137654\n",
      "X = set([2, 4]); Y=set([2, 3, 4]); x = 1\n",
      "11.3732155443 11.3886056439\n",
      "X = set([2, 4]); Y=set([2, 3, 4]); x = 5\n",
      "0.0524527394925 0.013535292776\n",
      "X = set([3, 4]); Y=set([2, 3, 4]); x = 0\n",
      "0.964260639926 0.883870535739\n",
      "X = set([3, 4]); Y=set([2, 3, 4]); x = 1\n",
      "11.3732155443 11.3957611171\n",
      "X = set([3, 4]); Y=set([2, 3, 4]); x = 5\n",
      "0.0524527394925 0.0419536492762\n",
      "X = set([2, 3]); Y=set([2, 3, 5]); x = 0\n",
      "0.856110967132 0.807343581351\n",
      "X = set([2, 3]); Y=set([2, 3, 5]); x = 1\n",
      "11.4056620581 11.4079573755\n",
      "X = set([2, 3]); Y=set([2, 3, 5]); x = 4\n",
      "0.0903035914061 0.0456092297312\n",
      "X = set([2, 5]); Y=set([2, 3, 5]); x = 0\n",
      "0.856110967132 0.838004365143\n",
      "X = set([2, 5]); Y=set([2, 3, 5]); x = 1\n",
      "11.4056620581 11.4156445448\n",
      "X = set([2, 5]); Y=set([2, 3, 5]); x = 4\n",
      "0.0903035914061 0.0396312227508\n",
      "X = set([3, 5]); Y=set([2, 3, 5]); x = 0\n",
      "0.856110967132 0.840625564008\n",
      "X = set([3, 5]); Y=set([2, 3, 5]); x = 1\n",
      "11.4056620581 11.4235958992\n",
      "X = set([3, 5]); Y=set([2, 3, 5]); x = 4\n",
      "0.0903035914061 0.0740954393227\n",
      "X = set([2, 4]); Y=set([2, 4, 5]); x = 0\n",
      "0.957753212568 0.902325137654\n",
      "X = set([2, 4]); Y=set([2, 4, 5]); x = 1\n",
      "11.3827778384 11.3886056439\n",
      "X = set([2, 4]); Y=set([2, 4, 5]); x = 3\n",
      "0.0625375062004 0.0236200594839\n",
      "X = set([2, 5]); Y=set([2, 4, 5]); x = 0\n",
      "0.957753212568 0.838004365143\n",
      "X = set([2, 5]); Y=set([2, 4, 5]); x = 1\n",
      "11.3827778384 11.4156445448\n",
      "X = set([2, 5]); Y=set([2, 4, 5]); x = 3\n",
      "0.0625375062004 0.011865137545\n",
      "X = set([4, 5]); Y=set([2, 4, 5]); x = 0\n",
      "0.957753212568 0.88988611393\n",
      "X = set([4, 5]); Y=set([2, 4, 5]); x = 1\n",
      "11.3827778384 11.3965935978\n",
      "X = set([4, 5]); Y=set([2, 4, 5]); x = 3\n",
      "0.0625375062004 0.0451504755286\n",
      "X = set([3, 4]); Y=set([3, 4, 5]); x = 0\n",
      "0.905223376368 0.883870535739\n",
      "X = set([3, 4]); Y=set([3, 4, 5]); x = 1\n",
      "11.3612637411 11.3957611171\n",
      "X = set([3, 4]); Y=set([3, 4, 5]); x = 2\n",
      "0.0371754358909 0.0266763456747\n",
      "X = set([3, 5]); Y=set([3, 4, 5]); x = 0\n",
      "0.905223376368 0.840625564008\n",
      "X = set([3, 5]); Y=set([3, 4, 5]); x = 1\n",
      "11.3612637411 11.4235958992\n",
      "X = set([3, 5]); Y=set([3, 4, 5]); x = 2\n",
      "0.0371754358909 0.0209672838075\n",
      "X = set([4, 5]); Y=set([3, 4, 5]); x = 0\n",
      "0.905223376368 0.88988611393\n",
      "X = set([4, 5]); Y=set([3, 4, 5]); x = 1\n",
      "11.3612637411 11.3965935978\n",
      "X = set([4, 5]); Y=set([3, 4, 5]); x = 2\n",
      "0.0371754358909 0.0197884052192\n",
      "X = set([0, 1, 2]); Y=set([0, 1, 2, 3]); x = 4\n",
      "0.0041606472796 0.00283457163512\n",
      "X = set([0, 1, 2]); Y=set([0, 1, 2, 3]); x = 5\n",
      "0.00394642671883 0.00240909867367\n",
      "X = set([0, 1, 3]); Y=set([0, 1, 2, 3]); x = 4\n",
      "0.0041606472796 0.0026550530043\n",
      "X = set([0, 1, 3]); Y=set([0, 1, 2, 3]); x = 5\n"
     ]
    },
    {
     "name": "stdout",
     "output_type": "stream",
     "text": [
      "0.00394642671883 0.00241212913469\n",
      "X = set([0, 2, 3]); Y=set([0, 1, 2, 3]); x = 4\n",
      "0.0041606472796 0.202526288307\n",
      "X = set([0, 2, 3]); Y=set([0, 1, 2, 3]); x = 5\n",
      "0.00394642671883 0.0565257635988\n",
      "X = set([1, 2, 3]); Y=set([0, 1, 2, 3]); x = 4\n",
      "0.0041606472796 0.0108673985054\n",
      "X = set([1, 2, 3]); Y=set([0, 1, 2, 3]); x = 5\n",
      "0.00394642671883 0.00546306039251\n",
      "X = set([0, 1, 2]); Y=set([0, 1, 2, 4]); x = 3\n",
      "0.00461841168775 0.00329233604327\n",
      "X = set([0, 1, 2]); Y=set([0, 1, 2, 4]); x = 5\n",
      "0.00792295551877 0.00240909867367\n",
      "X = set([0, 1, 4]); Y=set([0, 1, 2, 4]); x = 3\n",
      "0.00461841168775 0.0026269448435\n",
      "X = set([0, 1, 4]); Y=set([0, 1, 2, 4]); x = 5\n",
      "0.00792295551877 0.00410073673783\n",
      "X = set([0, 2, 4]); Y=set([0, 1, 2, 4]); x = 3\n",
      "0.00461841168775 0.0855555617562\n",
      "X = set([0, 2, 4]); Y=set([0, 1, 2, 4]); x = 5\n",
      "0.00792295551877 0.0689633676901\n",
      "X = set([1, 2, 4]); Y=set([0, 1, 2, 4]); x = 3\n",
      "0.00461841168775 0.00822995983816\n",
      "X = set([1, 2, 4]); Y=set([0, 1, 2, 4]); x = 5\n",
      "0.00792295551877 0.00770748730324\n",
      "X = set([0, 1, 2]); Y=set([0, 1, 2, 5]); x = 3\n",
      "0.00482966408843 0.00329233604327\n",
      "X = set([0, 1, 2]); Y=set([0, 1, 2, 5]); x = 4\n",
      "0.00834842848022 0.00283457163512\n",
      "X = set([0, 1, 5]); Y=set([0, 1, 2, 5]); x = 3\n",
      "0.00482966408843 0.00300075913319\n",
      "X = set([0, 1, 5]); Y=set([0, 1, 2, 5]); x = 4\n",
      "0.00834842848022 0.00471747489713\n",
      "X = set([0, 2, 5]); Y=set([0, 1, 2, 5]); x = 3\n",
      "0.00482966408843 0.0299717395335\n",
      "X = set([0, 2, 5]); Y=set([0, 1, 2, 5]); x = 4\n",
      "0.00834842848022 0.159380070175\n",
      "X = set([1, 2, 5]); Y=set([0, 1, 2, 5]); x = 3\n",
      "0.00482966408843 0.00188265077298\n",
      "X = set([1, 2, 5]); Y=set([0, 1, 2, 5]); x = 4\n",
      "0.00834842848022 0.00676451635097\n",
      "X = set([0, 1, 3]); Y=set([0, 1, 3, 4]); x = 2\n",
      "0.00424058121291 0.0027349869376\n",
      "X = set([0, 1, 3]); Y=set([0, 1, 3, 4]); x = 5\n",
      "0.00532422467 0.00241212913469\n",
      "X = set([0, 1, 4]); Y=set([0, 1, 3, 4]); x = 2\n",
      "0.00424058121291 0.00224911436866\n",
      "X = set([0, 1, 4]); Y=set([0, 1, 3, 4]); x = 5\n",
      "0.00532422467 0.00410073673783\n",
      "X = set([0, 3, 4]); Y=set([0, 1, 3, 4]); x = 2\n",
      "0.00424058121291 0.107066449862\n",
      "X = set([0, 3, 4]); Y=set([0, 1, 3, 4]); x = 5\n",
      "0.00532422467 0.0633064899055\n",
      "X = set([1, 3, 4]); Y=set([0, 1, 3, 4]); x = 2\n",
      "0.00424058121291 0.00413077279832\n",
      "X = set([1, 3, 4]); Y=set([0, 1, 3, 4]); x = 5\n",
      "0.00532422467 0.00745627321763\n",
      "X = set([0, 1, 3]); Y=set([0, 1, 3, 5]); x = 2\n",
      "0.00426928452174 0.0027349869376\n",
      "X = set([0, 1, 3]); Y=set([0, 1, 3, 5]); x = 4\n",
      "0.0055671485396 0.0026550530043\n",
      "X = set([0, 1, 5]); Y=set([0, 1, 3, 5]); x = 2\n",
      "0.00426928452174 0.0024403795665\n",
      "X = set([0, 1, 5]); Y=set([0, 1, 3, 5]); x = 4\n",
      "0.0055671485396 0.00471747489713\n",
      "X = set([0, 3, 5]); Y=set([0, 1, 3, 5]); x = 2\n",
      "0.00426928452174 0.0364526869313\n",
      "X = set([0, 3, 5]); Y=set([0, 1, 3, 5]); x = 4\n",
      "0.0055671485396 0.138693251683\n",
      "X = set([1, 3, 5]); Y=set([0, 1, 3, 5]); x = 2\n",
      "0.00426928452174 0.00303344270033\n",
      "X = set([1, 3, 5]); Y=set([0, 1, 3, 5]); x = 4\n",
      "0.0055671485396 0.0117632812326\n",
      "X = set([0, 1, 4]); Y=set([0, 1, 4, 5]); x = 2\n",
      "0.00607133314959 0.00224911436866\n",
      "X = set([0, 1, 4]); Y=set([0, 1, 4, 5]); x = 3\n",
      "0.00385043277567 0.0026269448435\n",
      "X = set([0, 1, 5]); Y=set([0, 1, 4, 5]); x = 2\n",
      "0.00607133314959 0.0024403795665\n",
      "X = set([0, 1, 5]); Y=set([0, 1, 4, 5]); x = 3\n",
      "0.00385043277567 0.00300075913319\n",
      "X = set([0, 4, 5]); Y=set([0, 1, 4, 5]); x = 2\n",
      "0.00607133314959 0.087655503857\n",
      "X = set([0, 4, 5]); Y=set([0, 1, 4, 5]); x = 3\n",
      "0.00385043277567 0.0604877379672\n",
      "X = set([1, 4, 5]); Y=set([0, 1, 4, 5]); x = 2\n",
      "0.00607133314959 0.00597264587783\n",
      "X = set([1, 4, 5]); Y=set([0, 1, 4, 5]); x = 3\n",
      "0.00385043277567 0.00982061883207\n",
      "X = set([0, 2, 3]); Y=set([0, 2, 3, 4]); x = 1\n",
      "11.1601178834 11.3584835244\n",
      "X = set([0, 2, 3]); Y=set([0, 2, 3, 4]); x = 5\n",
      "0.105637640962 0.0565257635988\n",
      "X = set([0, 2, 4]); Y=set([0, 2, 3, 4]); x = 1\n",
      "11.1601178834 11.2410550335\n",
      "X = set([0, 2, 4]); Y=set([0, 2, 3, 4]); x = 5\n",
      "0.105637640962 0.0689633676901\n",
      "X = set([0, 3, 4]); Y=set([0, 2, 3, 4]); x = 1\n",
      "11.1601178834 11.262943752\n",
      "X = set([0, 3, 4]); Y=set([0, 2, 3, 4]); x = 5\n",
      "0.105637640962 0.0633064899055\n",
      "X = set([2, 3, 4]); Y=set([0, 2, 3, 4]); x = 1\n",
      "11.1601178834 11.3732155443\n",
      "X = set([2, 3, 4]); Y=set([0, 2, 3, 4]); x = 5\n",
      "0.105637640962 0.0524527394925\n",
      "X = set([0, 2, 3]); Y=set([0, 2, 3, 5]); x = 1\n",
      "11.3059041875 11.3584835244\n",
      "X = set([0, 2, 3]); Y=set([0, 2, 3, 5]); x = 4\n",
      "0.25163816567 0.202526288307\n",
      "X = set([0, 2, 5]); Y=set([0, 2, 3, 5]); x = 1\n",
      "11.3059041875 11.331046263\n",
      "X = set([0, 2, 5]); Y=set([0, 2, 3, 5]); x = 4\n",
      "0.25163816567 0.159380070175\n",
      "X = set([0, 3, 5]); Y=set([0, 2, 3, 5]); x = 1\n",
      "11.3059041875 11.3380875899\n",
      "X = set([0, 3, 5]); Y=set([0, 2, 3, 5]); x = 4\n",
      "0.25163816567 0.138693251683\n",
      "X = set([2, 3, 5]); Y=set([0, 2, 3, 5]); x = 1\n",
      "11.3059041875 11.4056620581\n",
      "X = set([2, 3, 5]); Y=set([0, 2, 3, 5]); x = 4\n",
      "0.25163816567 0.0903035914061\n",
      "X = set([0, 2, 4]); Y=set([0, 2, 4, 5]); x = 1\n",
      "11.1800146213 11.2410550335\n",
      "X = set([0, 2, 4]); Y=set([0, 2, 4, 5]); x = 3\n",
      "0.122229835029 0.0855555617562\n",
      "X = set([0, 2, 5]); Y=set([0, 2, 4, 5]); x = 1\n",
      "11.1800146213 11.331046263\n",
      "X = set([0, 2, 5]); Y=set([0, 2, 4, 5]); x = 3\n",
      "0.122229835029 0.0299717395335\n",
      "X = set([0, 4, 5]); Y=set([0, 2, 4, 5]); x = 1\n",
      "11.1800146213 11.261598792\n",
      "X = set([0, 4, 5]); Y=set([0, 2, 4, 5]); x = 3\n",
      "0.122229835029 0.0604877379672\n",
      "X = set([2, 4, 5]); Y=set([0, 2, 4, 5]); x = 1\n",
      "11.1800146213 11.3827778384\n",
      "X = set([2, 4, 5]); Y=set([0, 2, 4, 5]); x = 3\n",
      "0.122229835029 0.0625375062004\n",
      "X = set([0, 3, 4]); Y=set([0, 3, 4, 5]); x = 1\n",
      "11.2049614868 11.262943752\n",
      "X = set([0, 3, 4]); Y=set([0, 3, 4, 5]); x = 2\n",
      "0.149397600918 0.107066449862\n",
      "X = set([0, 3, 5]); Y=set([0, 3, 4, 5]); x = 1\n",
      "11.2049614868 11.3380875899\n",
      "X = set([0, 3, 5]); Y=set([0, 3, 4, 5]); x = 2\n",
      "0.149397600918 0.0364526869313\n",
      "X = set([0, 4, 5]); Y=set([0, 3, 4, 5]); x = 1\n",
      "11.2049614868 11.261598792\n",
      "X = set([0, 4, 5]); Y=set([0, 3, 4, 5]); x = 2\n",
      "0.149397600918 0.087655503857\n",
      "X = set([3, 4, 5]); Y=set([0, 3, 4, 5]); x = 1\n",
      "11.2049614868 11.3612637411\n",
      "X = set([3, 4, 5]); Y=set([0, 3, 4, 5]); x = 2\n",
      "0.149397600918 0.0371754358909\n",
      "X = set([1, 2, 3]); Y=set([1, 2, 3, 4]); x = 0\n",
      "0.751162979058 0.757869730284\n",
      "X = set([1, 2, 3]); Y=set([1, 2, 3, 4]); x = 5\n",
      "0.00967236199572 0.00546306039251\n",
      "X = set([1, 2, 4]); Y=set([1, 2, 3, 4]); x = 0\n",
      "0.751162979058 0.754774527208\n",
      "X = set([1, 2, 4]); Y=set([1, 2, 3, 4]); x = 5\n",
      "0.00967236199572 0.00770748730324\n",
      "X = set([1, 3, 4]); Y=set([1, 2, 3, 4]); x = 0\n",
      "0.751162979058 0.751053170643\n",
      "X = set([1, 3, 4]); Y=set([1, 2, 3, 4]); x = 5\n",
      "0.00967236199572 0.00745627321763\n",
      "X = set([2, 3, 4]); Y=set([1, 2, 3, 4]); x = 0\n",
      "0.751162979058 0.964260639926\n",
      "X = set([2, 3, 4]); Y=set([1, 2, 3, 4]); x = 5\n",
      "0.00967236199572 0.0524527394925\n",
      "X = set([1, 2, 3]); Y=set([1, 2, 3, 5]); x = 0\n",
      "0.75635309661 0.757869730284\n",
      "X = set([1, 2, 3]); Y=set([1, 2, 3, 5]); x = 4\n",
      "0.0150767001086 0.0108673985054\n",
      "X = set([1, 2, 5]); Y=set([1, 2, 3, 5]); x = 0\n",
      "0.75635309661 0.753406083295\n",
      "X = set([1, 2, 5]); Y=set([1, 2, 3, 5]); x = 4\n",
      "0.0150767001086 0.00676451635097\n",
      "X = set([1, 3, 5]); Y=set([1, 2, 3, 5]); x = 0\n",
      "0.75635309661 0.755117254789\n",
      "X = set([1, 3, 5]); Y=set([1, 2, 3, 5]); x = 4\n",
      "0.0150767001086 0.0117632812326\n",
      "X = set([2, 3, 5]); Y=set([1, 2, 3, 5]); x = 0\n",
      "0.75635309661 0.856110967132\n",
      "X = set([2, 3, 5]); Y=set([1, 2, 3, 5]); x = 4\n",
      "0.0150767001086 0.0903035914061\n",
      "X = set([1, 2, 4]); Y=set([1, 2, 4, 5]); x = 0\n",
      "0.754989995424 0.754774527208\n",
      "X = set([1, 2, 4]); Y=set([1, 2, 4, 5]); x = 3\n",
      "0.0101948345306 0.00822995983816\n",
      "X = set([1, 2, 5]); Y=set([1, 2, 4, 5]); x = 0\n",
      "0.754989995424 0.753406083295\n",
      "X = set([1, 2, 5]); Y=set([1, 2, 4, 5]); x = 3\n",
      "0.0101948345306 0.00188265077298\n",
      "X = set([1, 4, 5]); Y=set([1, 2, 4, 5]); x = 0\n",
      "0.754989995424 0.754891308152\n",
      "X = set([1, 4, 5]); Y=set([1, 2, 4, 5]); x = 3\n",
      "0.0101948345306 0.00982061883207\n",
      "X = set([2, 4, 5]); Y=set([1, 2, 4, 5]); x = 0\n",
      "0.754989995424 0.957753212568\n",
      "X = set([2, 4, 5]); Y=set([1, 2, 4, 5]); x = 3\n",
      "0.0101948345306 0.0625375062004\n",
      "X = set([1, 3, 4]); Y=set([1, 3, 4, 5]); x = 0\n",
      "0.748921122096 0.751053170643\n",
      "X = set([1, 3, 4]); Y=set([1, 3, 4, 5]); x = 2\n",
      "0.00634686157641 0.00413077279832\n",
      "X = set([1, 3, 5]); Y=set([1, 3, 4, 5]); x = 0\n",
      "0.748921122096 0.755117254789\n",
      "X = set([1, 3, 5]); Y=set([1, 3, 4, 5]); x = 2\n",
      "0.00634686157641 0.00303344270033\n",
      "X = set([1, 4, 5]); Y=set([1, 3, 4, 5]); x = 0\n",
      "0.748921122096 0.754891308152\n",
      "X = set([1, 4, 5]); Y=set([1, 3, 4, 5]); x = 2\n",
      "0.00634686157641 0.00597264587783\n",
      "X = set([3, 4, 5]); Y=set([1, 3, 4, 5]); x = 0\n",
      "0.748921122096 0.905223376368\n",
      "X = set([3, 4, 5]); Y=set([1, 3, 4, 5]); x = 2\n",
      "0.00634686157641 0.0371754358909\n",
      "X = set([2, 3, 4]); Y=set([2, 3, 4, 5]); x = 0\n",
      "1.0174455414 0.964260639926\n",
      "X = set([2, 3, 4]); Y=set([2, 3, 4, 5]); x = 1\n",
      "11.3304351668 11.3732155443\n",
      "X = set([2, 3, 5]); Y=set([2, 3, 4, 5]); x = 0\n",
      "1.0174455414 0.856110967132\n",
      "X = set([2, 3, 5]); Y=set([2, 3, 4, 5]); x = 1\n",
      "11.3304351668 11.4056620581\n",
      "X = set([2, 4, 5]); Y=set([2, 3, 4, 5]); x = 0\n",
      "1.0174455414 0.957753212568\n",
      "X = set([2, 4, 5]); Y=set([2, 3, 4, 5]); x = 1\n",
      "11.3304351668 11.3827778384\n",
      "X = set([3, 4, 5]); Y=set([2, 3, 4, 5]); x = 0\n",
      "1.0174455414 0.905223376368\n",
      "X = set([3, 4, 5]); Y=set([2, 3, 4, 5]); x = 1\n",
      "11.3304351668 11.3612637411\n",
      "X = set([0, 1, 2, 3]); Y=set([0, 1, 2, 3, 4]); x = 5\n",
      "0.0121893252182 0.00394642671883\n",
      "X = set([0, 1, 2, 4]); Y=set([0, 1, 2, 3, 4]); x = 5\n",
      "0.0121893252182 0.00792295551877\n",
      "X = set([0, 1, 3, 4]); Y=set([0, 1, 2, 3, 4]); x = 5\n",
      "0.0121893252182 0.00532422467\n",
      "X = set([0, 2, 3, 4]); Y=set([0, 1, 2, 3, 4]); x = 5\n",
      "0.0121893252182 0.105637640962\n",
      "X = set([1, 2, 3, 4]); Y=set([0, 1, 2, 3, 4]); x = 5\n",
      "0.0121893252182 0.00967236199572\n",
      "X = set([0, 1, 2, 3]); Y=set([0, 1, 2, 3, 5]); x = 4\n"
     ]
    },
    {
     "name": "stdout",
     "output_type": "stream",
     "text": [
      "0.012403545779 0.0041606472796\n",
      "X = set([0, 1, 2, 5]); Y=set([0, 1, 2, 3, 5]); x = 4\n",
      "0.012403545779 0.00834842848022\n",
      "X = set([0, 1, 3, 5]); Y=set([0, 1, 2, 3, 5]); x = 4\n",
      "0.012403545779 0.0055671485396\n",
      "X = set([0, 2, 3, 5]); Y=set([0, 1, 2, 3, 5]); x = 4\n",
      "0.012403545779 0.25163816567\n",
      "X = set([1, 2, 3, 5]); Y=set([0, 1, 2, 3, 5]); x = 4\n",
      "0.012403545779 0.0150767001086\n",
      "X = set([0, 1, 2, 4]); Y=set([0, 1, 2, 4, 5]); x = 3\n",
      "0.00888478138719 0.00461841168775\n",
      "X = set([0, 1, 2, 5]); Y=set([0, 1, 2, 4, 5]); x = 3\n",
      "0.00888478138719 0.00482966408843\n",
      "X = set([0, 1, 4, 5]); Y=set([0, 1, 2, 4, 5]); x = 3\n",
      "0.00888478138719 0.00385043277567\n",
      "X = set([0, 2, 4, 5]); Y=set([0, 1, 2, 4, 5]); x = 3\n",
      "0.00888478138719 0.122229835029\n",
      "X = set([1, 2, 4, 5]); Y=set([0, 1, 2, 4, 5]); x = 3\n",
      "0.00888478138719 0.0101948345306\n",
      "X = set([0, 1, 3, 4]); Y=set([0, 1, 3, 4, 5]); x = 2\n",
      "0.0111056817611 0.00424058121291\n",
      "X = set([0, 1, 3, 5]); Y=set([0, 1, 3, 4, 5]); x = 2\n",
      "0.0111056817611 0.00426928452174\n",
      "X = set([0, 1, 4, 5]); Y=set([0, 1, 3, 4, 5]); x = 2\n",
      "0.0111056817611 0.00607133314959\n",
      "X = set([0, 3, 4, 5]); Y=set([0, 1, 3, 4, 5]); x = 2\n",
      "0.0111056817611 0.149397600918\n",
      "X = set([1, 3, 4, 5]); Y=set([0, 1, 3, 4, 5]); x = 2\n",
      "0.0111056817611 0.00634686157641\n",
      "X = set([0, 2, 3, 4]); Y=set([0, 2, 3, 4, 5]); x = 1\n",
      "11.0666695676 11.1601178834\n",
      "X = set([0, 2, 3, 5]); Y=set([0, 2, 3, 4, 5]); x = 1\n",
      "11.0666695676 11.3059041875\n",
      "X = set([0, 2, 4, 5]); Y=set([0, 2, 3, 4, 5]); x = 1\n",
      "11.0666695676 11.1800146213\n",
      "X = set([0, 3, 4, 5]); Y=set([0, 2, 3, 4, 5]); x = 1\n",
      "11.0666695676 11.2049614868\n",
      "X = set([2, 3, 4, 5]); Y=set([0, 2, 3, 4, 5]); x = 1\n",
      "11.0666695676 11.3304351668\n",
      "X = set([1, 2, 3, 4]); Y=set([1, 2, 3, 4, 5]); x = 0\n",
      "0.75367994228 0.751162979058\n",
      "X = set([1, 2, 3, 5]); Y=set([1, 2, 3, 4, 5]); x = 0\n",
      "0.75367994228 0.75635309661\n",
      "X = set([1, 2, 4, 5]); Y=set([1, 2, 3, 4, 5]); x = 0\n",
      "0.75367994228 0.754989995424\n",
      "X = set([1, 3, 4, 5]); Y=set([1, 2, 3, 4, 5]); x = 0\n",
      "0.75367994228 0.748921122096\n",
      "X = set([2, 3, 4, 5]); Y=set([1, 2, 3, 4, 5]); x = 0\n",
      "0.75367994228 1.0174455414\n"
     ]
    }
   ],
   "source": [
    "for i in range(1,4):\n",
    "    s_y = list(itertools.combinations(np.arange(6),i+2))\n",
    "    for s in s_y:\n",
    "        s_x = list(itertools.combinations(s,i+1))\n",
    "        comp = set(np.arange(6)).difference(set(s))\n",
    "        for sub_s_x in s_x:\n",
    "            for c in comp:\n",
    "                s = set(s)\n",
    "                sub_s_x = set(sub_s_x )\n",
    "                print 'X = {}; Y={}; x = {}'.format(sub_s_x,s,c)\n",
    "                train_err1 = lr(s,train_X,train_y,test_X,test_y)[0]\n",
    "                train_err2 = lr(sub_s_x,train_X,train_y,test_X,test_y)[0]\n",
    "                s.add(c)\n",
    "                sub_s_x.add(c)\n",
    "                print train_err1 - lr(s,train_X,train_y,test_X,test_y)[0],\\\n",
    "                  train_err2 - lr(sub_s_x,train_X,train_y,test_X,test_y)[0]\n",
    "                s.remove(c)\n",
    "                sub_s_x.remove(c)"
   ]
  },
  {
   "cell_type": "code",
   "execution_count": null,
   "metadata": {
    "collapsed": true
   },
   "outputs": [],
   "source": []
  }
 ],
 "metadata": {
  "kernelspec": {
   "display_name": "Python 2",
   "language": "python",
   "name": "python2"
  },
  "language_info": {
   "codemirror_mode": {
    "name": "ipython",
    "version": 2
   },
   "file_extension": ".py",
   "mimetype": "text/x-python",
   "name": "python",
   "nbconvert_exporter": "python",
   "pygments_lexer": "ipython2",
   "version": "2.7.12"
  }
 },
 "nbformat": 4,
 "nbformat_minor": 2
}
