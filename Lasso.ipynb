{
 "cells": [
  {
   "cell_type": "markdown",
   "metadata": {},
   "source": [
    "### Experiments with Simulated Data\n",
    "Suppose we have $n=100$ training data points and another $50$ testing data points\n",
    "\n",
    "Discrete Variables $X={X_1,X_2,X_3,X_4}$; $X_i \\in \\{0,1\\}$; $X\\in \\mathcal{R}^{n\\times 4}$\n",
    "\n",
    "Continous Variable $\\mathbf{z}$; $\\mathbf{z} \\in \\mathcal{R}^{n \\times 1}$\n",
    "\n",
    "Continous Target Variable $\\mathbf{y}$; $\\mathbf{y} \\in \\mathcal{R}^{n \\times 1}$\n",
    "\n",
    "True Moderator Variable $X_1,X_2$\n",
    "\n",
    "Data generated :\n",
    "    $$y = z\\beta_i+b_i+\\epsilon$$"
   ]
  },
  {
   "cell_type": "code",
   "execution_count": 1,
   "metadata": {
    "collapsed": true
   },
   "outputs": [],
   "source": [
    "import numpy as np\n",
    "import pickle"
   ]
  },
  {
   "cell_type": "markdown",
   "metadata": {},
   "source": [
    "#### Generating simulation data"
   ]
  },
  {
   "cell_type": "code",
   "execution_count": 35,
   "metadata": {
    "scrolled": false
   },
   "outputs": [
    {
     "name": "stdout",
     "output_type": "stream",
     "text": [
      "[[-1.80749167  1.74274824]\n",
      " [ 1.83346927  2.50955861]\n",
      " [-3.65056916 -1.61338262]\n",
      " [ 0.29304958 -1.32141819]]\n"
     ]
    }
   ],
   "source": [
    "# Xi ~ Ber(n,pi), z ~N(0,1)\n",
    "probs = [0.4,0.6,0.4,0.6]\n",
    "n = 150\n",
    "X = np.zeros((n,4))\n",
    "for i,p in enumerate(probs):\n",
    "    X[:,i]=np.array([np.random.binomial(1,p) for j in range(n)])\n",
    "z = np.random.randn(n).reshape(n,1)\n",
    "y = np.zeros(n)\n",
    "features = np.hstack([X,z])\n",
    "beta = np.random.randn(4,2)*2\n",
    "print beta"
   ]
  },
  {
   "cell_type": "code",
   "execution_count": 36,
   "metadata": {
    "collapsed": true
   },
   "outputs": [],
   "source": [
    "# y = z*beta_0+beta_1\n",
    "for i in range(n):\n",
    "    if X[i][0]==0:\n",
    "        if X[i][1]==0: y[i] = beta[0][0]*z[i]+beta[0][1]\n",
    "        else: y[i] = beta[1][0]*z[i]+beta[1][1]\n",
    "    else:\n",
    "        if X[i][1]==0: y[i] = beta[2][0]*z[i]+beta[2][1]\n",
    "        else: y[i] = beta[3][0]*z[i]+beta[3][1]\n",
    "# add noise\n",
    "y = y+np.random.randn(n)*0.5"
   ]
  },
  {
   "cell_type": "code",
   "execution_count": 37,
   "metadata": {
    "collapsed": true
   },
   "outputs": [],
   "source": [
    "# with open('data.pkl','w') as f:\n",
    "#     pickle.dump((features,y),f)\n",
    "# with open('coeff.pkl','w') as f:\n",
    "#     pickle.dump(beta,f)"
   ]
  },
  {
   "cell_type": "markdown",
   "metadata": {},
   "source": [
    "### Fit with MMR \n",
    "#### True model(including $X_1,X_2$ as moderator):\n",
    "$$y = w_0 X_1+w_1 X_2+w_2Z+w_3ZX_1+w_4ZX_2+w_5ZX_1X_2+b+\\epsilon$$"
   ]
  },
  {
   "cell_type": "code",
   "execution_count": 31,
   "metadata": {
    "collapsed": true
   },
   "outputs": [],
   "source": [
    "from sklearn.linear_model import LinearRegression as lr\n",
    "import matplotlib.pyplot as plt"
   ]
  },
  {
   "cell_type": "code",
   "execution_count": 50,
   "metadata": {},
   "outputs": [
    {
     "name": "stdout",
     "output_type": "stream",
     "text": [
      "[[-1.80749167  1.74274824]\n",
      " [ 1.83346927  2.50955861]\n",
      " [-3.65056916 -1.61338262]\n",
      " [ 0.29304958 -1.32141819]]\n"
     ]
    }
   ],
   "source": [
    "with open('data.pkl','r') as f:\n",
    "    D,y = pickle.load(f)\n",
    "with open('coeff.pkl','r') as f:\n",
    "    true_coeff = pickle.load(f)\n",
    "print true_coeff"
   ]
  },
  {
   "cell_type": "code",
   "execution_count": 67,
   "metadata": {},
   "outputs": [
    {
     "name": "stdout",
     "output_type": "stream",
     "text": [
      "(150, 6)\n"
     ]
    }
   ],
   "source": [
    "#### Reformat data\n",
    "X = np.vstack([D[:,0],D[:,1],D[:,4],D[:,4]*D[:,0],D[:,4]*D[:,1],D[:,4]*D[:,0]*D[:,1]]).T\n",
    "print X.shape"
   ]
  },
  {
   "cell_type": "code",
   "execution_count": 71,
   "metadata": {},
   "outputs": [
    {
     "data": {
      "image/png": "[encoded data removed]",
      "text/plain": [
       "<matplotlib.figure.Figure at 0x7fa42ce9cc50>"
      ]
     },
     "metadata": {},
     "output_type": "display_data"
    }
   ],
   "source": [
    "train_X = X[:100]\n",
    "test_X = X[100:]\n",
    "train_y = y[:100]\n",
    "test_y = y[100:]\n",
    "plt.hist(train_y)\n",
    "plt.show()"
   ]
  },
  {
   "cell_type": "code",
   "execution_count": 74,
   "metadata": {
    "scrolled": false
   },
   "outputs": [
    {
     "name": "stdout",
     "output_type": "stream",
     "text": [
      "Baseline(sample mean):  6.27526373319\n",
      "Training error:  0.206913093859\n",
      "Testing error:  0.239249720806\n"
     ]
    }
   ],
   "source": [
    "model = lr()\n",
    "model.fit(train_X,train_y)\n",
    "print 'Baseline(sample mean):  {}'.format(np.mean((test_y-np.ones(50)*np.mean(train_y))**2))\n",
    "print 'Training error:  {}'.format(np.mean((model.predict(train_X)-train_y)**2))\n",
    "print 'Testing error:  {}'.format(np.mean((model.predict(test_X)-test_y)**2))"
   ]
  },
  {
   "cell_type": "markdown",
   "metadata": {},
   "source": [
    "### Fit with Multiple Linear Regression (including $Xs = {X_1,X_2,X_3,X_4}$ as moderator)\n",
    "We see MLR is overfitting since we include too many features"
   ]
  },
  {
   "cell_type": "code",
   "execution_count": 75,
   "metadata": {
    "collapsed": true
   },
   "outputs": [],
   "source": [
    "from itertools import product"
   ]
  },
  {
   "cell_type": "code",
   "execution_count": 127,
   "metadata": {},
   "outputs": [],
   "source": [
    "inds = list(product([0,1],repeat=4))"
   ]
  },
  {
   "cell_type": "code",
   "execution_count": 112,
   "metadata": {
    "scrolled": false
   },
   "outputs": [
    {
     "name": "stdout",
     "output_type": "stream",
     "text": [
      "(150, 20)\n"
     ]
    }
   ],
   "source": [
    "# introducint product terms\n",
    "X = np.copy(D[:,:4])\n",
    "for i in inds:\n",
    "    Xprod = np.prod(D[:,np.nonzero(np.array(i))[0]],axis=1)\n",
    "    X = np.hstack([X,(D[:,-1]*Xprod).reshape(-1,1)])"
   ]
  },
  {
   "cell_type": "code",
   "execution_count": 113,
   "metadata": {},
   "outputs": [
    {
     "data": {
      "image/png": "[encoded data removed]",
      "text/plain": [
       "<matplotlib.figure.Figure at 0x7fa42d13a790>"
      ]
     },
     "metadata": {},
     "output_type": "display_data"
    }
   ],
   "source": [
    "train_X = X[:100]\n",
    "test_X = X[100:]\n",
    "train_y = y[:100]\n",
    "test_y = y[100:]\n",
    "plt.hist(train_y)\n",
    "plt.show()"
   ]
  },
  {
   "cell_type": "markdown",
   "metadata": {},
   "source": [
    "If we include all $X_i$ as indicators, we see multiple linear regression(MLR) is **overfitting** \n",
    "\n",
    "since testing error is almost **twice** as large as training error "
   ]
  },
  {
   "cell_type": "code",
   "execution_count": 114,
   "metadata": {},
   "outputs": [
    {
     "name": "stdout",
     "output_type": "stream",
     "text": [
      "Baseline(sample mean):  6.27526373319\n",
      "Training error:  0.170143148904\n",
      "Testing error:  0.33116661003\n"
     ]
    }
   ],
   "source": [
    "model = lr()\n",
    "model.fit(train_X,train_y)\n",
    "print 'Baseline(sample mean):  {}'.format(np.mean((test_y-np.mean(train_y))**2))\n",
    "print 'Training error:  {}'.format(np.mean((model.predict(train_X)-train_y)**2))\n",
    "print 'Testing error:  {}'.format(np.mean((model.predict(test_X)-test_y)**2))"
   ]
  },
  {
   "cell_type": "markdown",
   "metadata": {},
   "source": [
    "### Fit with Lasso (including $Xs = {X_1,X_2,X_3,X_4}$ as moderator)"
   ]
  },
  {
   "cell_type": "code",
   "execution_count": 115,
   "metadata": {
    "collapsed": true
   },
   "outputs": [],
   "source": [
    "from sklearn import linear_model"
   ]
  },
  {
   "cell_type": "code",
   "execution_count": 143,
   "metadata": {},
   "outputs": [],
   "source": [
    "alphas = np.linspace(0.01,0.5,10)\n",
    "train_err = []\n",
    "test_err = []\n",
    "coeffs = []\n",
    "for a in alphas:\n",
    "    model = linear_model.Lasso(alpha=a)\n",
    "    model.fit(train_X,train_y)\n",
    "    train_err.append(np.mean((model.predict(train_X)-train_y)**2))\n",
    "    test_err.append(np.mean((model.predict(test_X)-test_y)**2))    \n",
    "    coeffs.append(model.coef_)"
   ]
  },
  {
   "cell_type": "code",
   "execution_count": 144,
   "metadata": {},
   "outputs": [
    {
     "data": {
      "image/png": "[encoded data removed]",
      "text/plain": [
       "<matplotlib.figure.Figure at 0x7fa42cacaa50>"
      ]
     },
     "metadata": {},
     "output_type": "display_data"
    }
   ],
   "source": [
    "plt.plot(alphas,train_err,label = 'Training Error')\n",
    "plt.plot(alphas,test_err,label='Testing Error')\n",
    "plt.legend()\n",
    "plt.show()"
   ]
  },
  {
   "cell_type": "code",
   "execution_count": 151,
   "metadata": {},
   "outputs": [
    {
     "name": "stdout",
     "output_type": "stream",
     "text": [
      "nonzero product terms:\n",
      "['X1' 'X2' 'X4' 'Z' 'ZX2' 'ZX2X3X4' 'ZX1' 'ZX1X4' 'ZX1X3' 'ZX1X2' 'ZX1X2X4'\n",
      " 'ZX1X2X3X4']\n",
      "['X1' 'X2' 'X4' 'Z' 'ZX2' 'ZX1']\n",
      "['X1' 'X2' 'Z' 'ZX2' 'ZX1']\n",
      "['X1' 'Z' 'ZX2' 'ZX1']\n",
      "['X1' 'Z' 'ZX2' 'ZX1']\n",
      "['X1' 'Z' 'ZX2' 'ZX1']\n",
      "['X1' 'Z' 'ZX2' 'ZX1']\n",
      "['X1' 'Z' 'ZX2' 'ZX1']\n",
      "['X1' 'Z' 'ZX2' 'ZX1']\n",
      "['X1' 'Z' 'ZX2' 'ZX1']\n"
     ]
    }
   ],
   "source": [
    "terms = np.array(['X1','X2','X3','X4','Z','ZX4','ZX3','ZX3X4',\\\n",
    "        'ZX2','ZX2X4','ZX2X3','ZX2X3X4',\\\n",
    "        'ZX1','ZX1X4','ZX1X3','ZX1X3X4',\\\n",
    "        'ZX1X2','ZX1X2X4','ZX1X2X3','ZX1X2X3X4'])\n",
    "print 'nonzero product terms:'\n",
    "for coeff in coeffs:\n",
    "    print terms[np.nonzero(coeff)[0]]"
   ]
  },
  {
   "cell_type": "code",
   "execution_count": null,
   "metadata": {
    "collapsed": true
   },
   "outputs": [],
   "source": []
  }
 ],
 "metadata": {
  "kernelspec": {
   "display_name": "Python 2",
   "language": "python",
   "name": "python2"
  },
  "language_info": {
   "codemirror_mode": {
    "name": "ipython",
    "version": 2
   },
   "file_extension": ".py",
   "mimetype": "text/x-python",
   "name": "python",
   "nbconvert_exporter": "python",
   "pygments_lexer": "ipython2",
   "version": "2.7.12"
  }
 },
 "nbformat": 4,
 "nbformat_minor": 2
}
