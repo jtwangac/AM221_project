{
 "cells": [
  {
   "cell_type": "markdown",
   "metadata": {},
   "source": [
    "### Experiments with Simulated Data\n",
    "Suppose we have $n=100$ training data points and another $50$ testing data points\n",
    "\n",
    "Discrete Variables $X={X_1,X_2,X_3,X_4}$; $X_i \\in \\{0,1\\}$; $X\\in \\mathcal{R}^{n\\times 4}$\n",
    "\n",
    "Continous Variable $\\mathbf{z}$; $\\mathbf{z} \\in \\mathcal{R}^{n \\times 1}$\n",
    "\n",
    "Continous Target Variable $\\mathbf{y}$; $\\mathbf{y} \\in \\mathcal{R}^{n \\times 1}$\n",
    "\n",
    "True Moderator Variable $X_1,X_2$\n",
    "\n",
    "Data generated :\n",
    "    $$y = z\\beta_i+b_i+\\epsilon$$"
   ]
  },
  {
   "cell_type": "code",
   "execution_count": 34,
   "metadata": {
    "collapsed": true
   },
   "outputs": [],
   "source": [
    "import numpy as np\n",
    "import pickle"
   ]
  },
  {
   "cell_type": "markdown",
   "metadata": {},
   "source": [
    "#### Generating simulation data"
   ]
  },
  {
   "cell_type": "code",
   "execution_count": 26,
   "metadata": {
    "scrolled": false
   },
   "outputs": [
    {
     "name": "stdout",
     "output_type": "stream",
     "text": [
      "[[ 2.24613543 -0.1223977 ]\n",
      " [-0.43766271 -0.05272313]\n",
      " [ 1.22065594  0.32961376]\n",
      " [-0.52867745 -3.21989783]]\n"
     ]
    }
   ],
   "source": [
    "probs = [0.1,0.3,0.5,0.7]\n",
    "n = 150\n",
    "X = np.zeros((n,4))\n",
    "for i,p in enumerate(probs):\n",
    "    X[:,i]=np.array([np.random.binomial(1,p) for j in range(n)])\n",
    "z = np.random.randn(n).reshape(n,1)\n",
    "y = np.zeros(n)\n",
    "features = np.hstack([X,z])\n",
    "beta = np.random.randn(4,2)*2\n",
    "print beta"
   ]
  },
  {
   "cell_type": "code",
   "execution_count": 35,
   "metadata": {},
   "outputs": [],
   "source": [
    "for i in range(n):\n",
    "    if X[i][0]==0:\n",
    "        if X[i][1]==0: y[i] = beta[0][0]*z[i]+beta[0][1]\n",
    "        else: y[i] = beta[1][0]*z[i]+beta[1][1]\n",
    "    else:\n",
    "        if X[i][1]==0: y[i] = beta[2][0]*z[i]+beta[2][1]\n",
    "        else: y[i] = beta[3][0]*z[i]+beta[3][1]\n",
    "y = y+np.random.randn(n)"
   ]
  },
  {
   "cell_type": "code",
   "execution_count": null,
   "metadata": {
    "collapsed": true
   },
   "outputs": [],
   "source": [
    "with open('data.pkl','w') as f:\n",
    "    pickle.dump((X,z,y),f)\n",
    "with open('coeff.pkl','w') as f:\n",
    "    pickle.dump(beta,f)"
   ]
  },
  {
   "cell_type": "code",
   "execution_count": null,
   "metadata": {
    "collapsed": true
   },
   "outputs": [],
   "source": []
  }
 ],
 "metadata": {
  "kernelspec": {
   "display_name": "Python 2",
   "language": "python",
   "name": "python2"
  },
  "language_info": {
   "codemirror_mode": {
    "name": "ipython",
    "version": 2
   },
   "file_extension": ".py",
   "mimetype": "text/x-python",
   "name": "python",
   "nbconvert_exporter": "python",
   "pygments_lexer": "ipython2",
   "version": "2.7.12"
  }
 },
 "nbformat": 4,
 "nbformat_minor": 2
}
